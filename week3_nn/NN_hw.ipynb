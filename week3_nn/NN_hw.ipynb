{
 "cells": [
  {
   "cell_type": "markdown",
   "metadata": {},
   "source": [
    "### **№0**"
   ]
  },
  {
   "cell_type": "markdown",
   "metadata": {},
   "source": [
    "Read a dataset from 'data/some_data.csv' and visualize it. "
   ]
  },
  {
   "cell_type": "code",
   "execution_count": null,
   "metadata": {},
   "outputs": [],
   "source": [
    "#your code"
   ]
  },
  {
   "cell_type": "markdown",
   "metadata": {},
   "source": [
    "### **№1**"
   ]
  },
  {
   "cell_type": "markdown",
   "metadata": {},
   "source": [
    "As you might've noticed, the dataset consists of two classes ('type' column), so let's try to build a classification model to separate those classes. For the starters, let's try to use classical machine learning methods - so here fit a linear model to the given dataset. What is the best result you can get?"
   ]
  },
  {
   "cell_type": "code",
   "execution_count": null,
   "metadata": {},
   "outputs": [],
   "source": [
    "#your code"
   ]
  },
  {
   "cell_type": "markdown",
   "metadata": {},
   "source": [
    "### **№2**"
   ]
  },
  {
   "cell_type": "markdown",
   "metadata": {},
   "source": [
    "Now try to use Decision Tree, Random Forest and Boosting models (pick the library as you prefer). Is the result better?"
   ]
  },
  {
   "cell_type": "code",
   "execution_count": null,
   "metadata": {},
   "outputs": [],
   "source": [
    "#your code"
   ]
  },
  {
   "cell_type": "markdown",
   "metadata": {},
   "source": [
    "### **№3**"
   ]
  },
  {
   "cell_type": "markdown",
   "metadata": {},
   "source": [
    "Transform the dataset so that it is easier for linear model to separate the classes and try to train such once again. Which of all the approaches you tried performs the best? Visualize decision boundaries of all the models on one plot (you can use the plotting function from the seminar on Trees or feel free to write your own). Which conclusions can you draw from it?"
   ]
  },
  {
   "cell_type": "code",
   "execution_count": null,
   "metadata": {},
   "outputs": [],
   "source": [
    "#your code"
   ]
  },
  {
   "cell_type": "markdown",
   "metadata": {},
   "source": [
    "### **№4**"
   ]
  },
  {
   "cell_type": "markdown",
   "metadata": {},
   "source": [
    "Before moving on to training a NN, a warm-up question on theory. A model is represented as:\n",
    "\n",
    "* $\\text{output} =\\sigma\\left(\\sum_{k} c_{k} \\cdot g\\left(\\sum_{i} b_{k i} \\cdot f\\left(\\sum_{j} a_{i j}\\right.\\right.\\right. \\cdot \\text{input} \\left.\\left.\\left._{j}\\right)\\right)\\right)$\n",
    "\n",
    "* $\\text{input} \\in R^{n}, \\text{output} \\in R-$ input object and output prediction\n",
    "\n",
    "* $a_{i j}, b_{k i}-$ real matrices\n",
    "\n",
    "* $c_{k}-$ vector from $R^{m}$\n",
    "\n",
    "* $f\\left(x_{i}\\right)=3 x_{i}$\n",
    "\n",
    "* $g\\left(x_{k}\\right)=2 x_{k}$\n",
    "\n",
    "* $\\sigma(x)=1 /\\left(1+e^{-x}\\right)$\n",
    "\n",
    "Can one treat this model as a Neural Network? If so, how many hidden layers are in this NN? Which ML algorithm is also equivalent to this model? Why?"
   ]
  },
  {
   "cell_type": "code",
   "execution_count": null,
   "metadata": {},
   "outputs": [],
   "source": [
    "#your answer"
   ]
  },
  {
   "cell_type": "markdown",
   "metadata": {},
   "source": [
    "### **№5**"
   ]
  },
  {
   "cell_type": "markdown",
   "metadata": {},
   "source": [
    "And now let's build a neural network! Since in the seminar we used [TensorFlow](https://www.tensorflow.org/tutorials) and its high-level API [Keras](https://keras.io/getting_started/), here we will suggest you to practise with another main library for Deep Learning - [PyTorch](https://pytorch.org/tutorials/). It provides tensor calculation with GPU support on the one hand, and automatic differentiation framework for flexibly and intuitively building various architectures on the other. We highly advise you to study both libraries (TensorFlow and PyTorch) in order to understand their similarities and differencies. None of them can be considered as 'the best', so it is by a large extent up to you which one to pick - try out both and choose the one which feels more comfortable to you and fits better to your needs.   \n",
    "\n",
    "So firstly, a small quiz: which architecture suits better for this classification problem we are solving? L(x, y) states for a linear transformation layer with `x` imputs and `y` outputs, A - for an activation layer.\n",
    "\n",
    "1) L(2,2)->A->L(2,1)\n",
    "\n",
    "2) L(2,2)->L(2,2)->A->L(2,1)\n",
    "\n",
    "3) L(2,3)->L(3,1)\n",
    "\n",
    "4) L(2,3)->A->L(3,1)\n",
    "\n",
    "5) L(2,3)->L(3,3)->L(3,1)\n",
    "\n",
    "Construct this architecture using PyTorch, train the model and plot its decision boundary. What's changed comparing to the previous models? Does it NN perform better then classical ML algorithms? Feel free to tune hyperparameters and see how the decision boundary and metrics are changing."
   ]
  },
  {
   "cell_type": "code",
   "execution_count": null,
   "metadata": {},
   "outputs": [],
   "source": [
    "#your code"
   ]
  },
  {
   "cell_type": "markdown",
   "metadata": {},
   "source": [
    "### **Bonus***"
   ]
  },
  {
   "cell_type": "markdown",
   "metadata": {},
   "source": [
    "Finally, why would we need to use machine learning in the first place? Can you solve this classification problem without using any ML algorithms whatsoever?"
   ]
  },
  {
   "cell_type": "code",
   "execution_count": null,
   "metadata": {},
   "outputs": [],
   "source": [
    "#your code"
   ]
  }
 ],
 "metadata": {
  "kernelspec": {
   "display_name": "Python 3",
   "language": "python",
   "name": "python3"
  },
  "language_info": {
   "codemirror_mode": {
    "name": "ipython",
    "version": 3
   },
   "file_extension": ".py",
   "mimetype": "text/x-python",
   "name": "python",
   "nbconvert_exporter": "python",
   "pygments_lexer": "ipython3",
   "version": "3.8.5"
  }
 },
 "nbformat": 4,
 "nbformat_minor": 4
}
