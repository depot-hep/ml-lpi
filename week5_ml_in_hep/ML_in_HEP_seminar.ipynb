{
 "cells": [
  {
   "cell_type": "code",
   "execution_count": null,
   "metadata": {},
   "outputs": [],
   "source": [
    "!conda install -c conda-forge zfit hist mplhep awkward1 uproot4 iminuit pyhf -y"
   ]
  },
  {
   "cell_type": "code",
   "execution_count": null,
   "metadata": {},
   "outputs": [],
   "source": [
    "!conda install hepunits -c conda-forge -y"
   ]
  },
  {
   "cell_type": "code",
   "execution_count": null,
   "metadata": {},
   "outputs": [],
   "source": [
    "!pip install neos hepstats"
   ]
  },
  {
   "cell_type": "code",
   "execution_count": null,
   "metadata": {},
   "outputs": [],
   "source": [
    "!conda install zfit tensorflow=2.2 tensorflow-probability=0.7 -c conda-forge -y"
   ]
  },
  {
   "cell_type": "code",
   "execution_count": null,
   "metadata": {},
   "outputs": [],
   "source": [
    "!conda update -c conda-forge root -y"
   ]
  },
  {
   "cell_type": "markdown",
   "metadata": {},
   "source": [
    "# HEP analysis in Python"
   ]
  },
  {
   "cell_type": "markdown",
   "metadata": {},
   "source": [
    "Previously in this course you've learnt about different ML techniques and how can they be used in HEP analysis. Now the question is how can we integrate all this ML stuff into typical analysis workflow. Today we will disscuss one possible answer - doing the entire analysis with python using __[scikit-hep](https://scikit-hep.org/)__"
   ]
  },
  {
   "cell_type": "markdown",
   "metadata": {},
   "source": [
    "NB: This seminar's aim is to only provide some introduction into the scikit-hep ecosystem and it by no means provides a complete picture, for more information on topics discussed below you can follow links that will be provided along the way."
   ]
  },
  {
   "cell_type": "markdown",
   "metadata": {},
   "source": [
    "This seminar is in large part based on the materials from this __[workshop](https://indico.cern.ch/event/882824/timetable/#20200713.detailed)__"
   ]
  },
  {
   "cell_type": "markdown",
   "metadata": {},
   "source": [
    "## 1. I/O with .root files"
   ]
  },
  {
   "cell_type": "markdown",
   "metadata": {},
   "source": [
    "### PyROOT - dynamic bindings to ROOT"
   ]
  },
  {
   "cell_type": "markdown",
   "metadata": {},
   "source": [
    "One way to work with root files in python many of may be already familiar with is to use PyROOT - dynamic python bindings to ROOT framework and C++. "
   ]
  },
  {
   "cell_type": "code",
   "execution_count": 1,
   "metadata": {},
   "outputs": [
    {
     "name": "stdout",
     "output_type": "stream",
     "text": [
      "Welcome to JupyROOT 6.22/06\n"
     ]
    }
   ],
   "source": [
    "import ROOT\n",
    "import numpy as np\n",
    "import pandas as pd\n",
    "%matplotlib inline\n",
    "import matplotlib.pyplot as plt"
   ]
  },
  {
   "cell_type": "markdown",
   "metadata": {},
   "source": [
    "ROOT 6.22, a major revision of PyROOT has been released. The new PyROOT has extensive support for modern C++ (it operates on top of __[cppyy](https://cppyy.readthedocs.io)__)\n",
    "\n",
    "Here is an example of how you can access C++ objects from python using this functionality"
   ]
  },
  {
   "cell_type": "code",
   "execution_count": 2,
   "metadata": {},
   "outputs": [
    {
     "name": "stdout",
     "output_type": "stream",
     "text": [
      "ROOT.std.vector['float'] { 1.00000f, 2.00000f, 3.00000f }\n",
      "numpy.array [1. 2. 3.]\n",
      "numpy.array [42.  2.  3.]\n"
     ]
    }
   ],
   "source": [
    "v1 = ROOT.std.vector['float']((1, 2, 3))\n",
    "print(\"ROOT.std.vector['float']\", v1)\n",
    "\n",
    "v2 = np.asarray(v1)\n",
    "print('numpy.array', v2)\n",
    "\n",
    "v1[0] = 42\n",
    "print('numpy.array', v2)"
   ]
  },
  {
   "cell_type": "code",
   "execution_count": 3,
   "metadata": {},
   "outputs": [
    {
     "name": "stdout",
     "output_type": "stream",
     "text": [
      "numpy.array [1. 2. 3.]\n",
      "ROOT.RVec['float'] { 1.00000f, 2.00000f, 3.00000f }\n",
      "ROOT.RVec['float'] { 42.0000f, 2.00000f, 3.00000f }\n"
     ]
    }
   ],
   "source": [
    "v1 = np.array((1, 2, 3), dtype=np.float32)\n",
    "print('numpy.array', v1)\n",
    "\n",
    "v2 = ROOT.VecOps.AsRVec(v1)\n",
    "print(\"ROOT.RVec['float']\", v2)\n",
    "\n",
    "v1[0] = 42\n",
    "print(\"ROOT.RVec['float']\", v2)"
   ]
  },
  {
   "cell_type": "markdown",
   "metadata": {},
   "source": [
    "We can call usuall  C++ commands under Pyhton enviroment:"
   ]
  },
  {
   "cell_type": "code",
   "execution_count": 4,
   "metadata": {},
   "outputs": [
    {
     "name": "stdout",
     "output_type": "stream",
     "text": [
      "The first element of the numpy.array is 42.0\n"
     ]
    }
   ],
   "source": [
    "ROOT.gInterpreter.Declare('''\n",
    "float get_element(float* v, unsigned int i) {\n",
    "    return v[i];\n",
    "}\n",
    "''')\n",
    "\n",
    "print('The first element of the numpy.array is', ROOT.get_element(v1, 0))"
   ]
  },
  {
   "cell_type": "markdown",
   "metadata": {},
   "source": [
    "With PyROOT you can use usual ROOT classes as in following example:"
   ]
  },
  {
   "cell_type": "code",
   "execution_count": 6,
   "metadata": {},
   "outputs": [
    {
     "name": "stdout",
     "output_type": "stream",
     "text": [
      "******************************************************************************\n",
      "*Tree    :Events    : Events                                                 *\n",
      "*Entries :    50000 : Total =         3549371 bytes  File  Size =    1779275 *\n",
      "*        :          : Tree compression factor =   1.99                       *\n",
      "******************************************************************************\n",
      "*Br    0 :nMuon     : nMuon/i                                                *\n",
      "*Entries :    50000 : Total  Size=     200559 bytes  File Size  =      31817 *\n",
      "*Baskets :        1 : Basket Size=    1077248 bytes  Compression=   6.29     *\n",
      "*............................................................................*\n",
      "*Br    1 :Muon_pt   : Muon_pt[nMuon]/F                                       *\n",
      "*Entries :    50000 : Total  Size=     669756 bytes  File Size  =     501009 *\n",
      "*Baskets :        1 : Basket Size=   25600000 bytes  Compression=   1.34     *\n",
      "*............................................................................*\n",
      "*Br    2 :Muon_eta  : Muon_eta[nMuon]/F                                      *\n",
      "*Entries :    50000 : Total  Size=     669761 bytes  File Size  =     515485 *\n",
      "*Baskets :        1 : Basket Size=   25600000 bytes  Compression=   1.30     *\n",
      "*............................................................................*\n",
      "*Br    3 :Muon_phi  : Muon_phi[nMuon]/F                                      *\n",
      "*Entries :    50000 : Total  Size=     669761 bytes  File Size  =     514860 *\n",
      "*Baskets :        1 : Basket Size=   25600000 bytes  Compression=   1.30     *\n",
      "*............................................................................*\n",
      "*Br    4 :Muon_mass : Muon_mass[nMuon]/F                                     *\n",
      "*Entries :    50000 : Total  Size=     669766 bytes  File Size  =      83617 *\n",
      "*Baskets :        1 : Basket Size=   25600000 bytes  Compression=   8.00     *\n",
      "*............................................................................*\n",
      "*Br    5 :Muon_charge : Muon_charge[nMuon]/I                                 *\n",
      "*Entries :    50000 : Total  Size=     669769 bytes  File Size  =     131666 *\n",
      "*Baskets :        1 : Basket Size=   25600000 bytes  Compression=   5.08     *\n",
      "*............................................................................*\n"
     ]
    },
    {
     "data": {
      "image/png": "[encoded data removed]",
      "text/plain": [
       "<Figure size 432x288 with 1 Axes>"
      ]
     },
     "metadata": {
      "needs_background": "light"
     },
     "output_type": "display_data"
    }
   ],
   "source": [
    "#path = 'root://eospublic.cern.ch//eos/opendata/cms/derived-data/AOD2NanoAODOutreachTool/Run2012BC_DoubleMuParked_Muons.root'\n",
    "path = './data/opendata_muons_skimmed.root'\n",
    "file = ROOT.TFile.Open(path)\n",
    "tree = file.Events\n",
    "tree.Print()\n",
    "# Can iterate over t\n",
    "dimuon_pt = []\n",
    "for i,event in enumerate(tree):\n",
    "    #if i % 1000 == 0:\n",
    "    #    print('Processing event {}'.format(i))\n",
    "    if event.nMuon == 2:\n",
    "        dimuon_pt.append(event.Muon_pt[0] + event.Muon_pt[1])\n",
    "    if i == 100000:\n",
    "        break\n",
    "plt.hist(dimuon_pt, range=(0, 100), bins=20);"
   ]
  },
  {
   "cell_type": "markdown",
   "metadata": {},
   "source": [
    "### RDataFrame"
   ]
  },
  {
   "cell_type": "markdown",
   "metadata": {},
   "source": [
    "The modern interface to process datasets in ROOT files (aka TTrees) is RDataFrame. The concept is a computation graph, which is built in a declarative manner, and executes the booked computations as efficient as possible."
   ]
  },
  {
   "cell_type": "code",
   "execution_count": 7,
   "metadata": {},
   "outputs": [],
   "source": [
    "df = ROOT.RDataFrame('Events', path)"
   ]
  },
  {
   "cell_type": "markdown",
   "metadata": {},
   "source": [
    "We filter the dataset for events with two muons and opposite charge. The last line restricts the full dataset to a subset of the in total 66 mio. events."
   ]
  },
  {
   "cell_type": "code",
   "execution_count": 8,
   "metadata": {},
   "outputs": [],
   "source": [
    "df = df.Filter(\"nMuon == 2\", \"Events with exactly two muons\")\\\n",
    "       .Filter(\"Muon_charge[0] != Muon_charge[1]\", \"Muons with opposite charge\")\\\n",
    "       .Range(20000)"
   ]
  },
  {
   "cell_type": "code",
   "execution_count": 9,
   "metadata": {},
   "outputs": [],
   "source": [
    "ROOT.gInterpreter.Declare(\n",
    "\"\"\"\n",
    "using Vec_t = const ROOT::VecOps::RVec<float>&;\n",
    "float compute_mass(Vec_t pt, Vec_t eta, Vec_t phi, Vec_t mass) {\n",
    "    ROOT::Math::PtEtaPhiMVector p1(pt[0], eta[0], phi[0], mass[0]);\n",
    "    ROOT::Math::PtEtaPhiMVector p2(pt[1], eta[1], phi[1], mass[1]);\n",
    "    return (p1 + p2).mass();\n",
    "}\n",
    "\"\"\")\n",
    "df = df.Define(\"Dimuon_mass\", \"compute_mass(Muon_pt, Muon_eta, Muon_phi, Muon_mass)\")"
   ]
  },
  {
   "cell_type": "code",
   "execution_count": 10,
   "metadata": {},
   "outputs": [],
   "source": [
    "hist = df.Histo1D((\"hist\", \";m_{#mu#mu} (GeV);N_{Events}\", 5000, 2, 200), \"Dimuon_mass\")"
   ]
  },
  {
   "cell_type": "code",
   "execution_count": 11,
   "metadata": {},
   "outputs": [],
   "source": [
    "report = df.Report()"
   ]
  },
  {
   "cell_type": "code",
   "execution_count": 12,
   "metadata": {},
   "outputs": [],
   "source": [
    "ROOT.gStyle.SetOptStat(0); ROOT.gStyle.SetTextFont(42)\n",
    "c = ROOT.TCanvas(\"c\", \"\", 800, 700)\n",
    "c.SetLogx(); c.SetLogy()\n",
    "hist.Draw()\n",
    "\n",
    "label = ROOT.TLatex(); label.SetNDC(True)\n",
    "label.SetTextSize(0.040); label.DrawLatex(0.100, 0.920, \"#bf{CMS Open Data}\")\n",
    "label.SetTextSize(0.030); label.DrawLatex(0.630, 0.920, \"#sqrt{s} = 8 TeV, L_{int} = 11.6 fb^{-1}\");"
   ]
  },
  {
   "cell_type": "code",
   "execution_count": 13,
   "metadata": {},
   "outputs": [
    {
     "data": {
      "image/png": "[encoded data removed]",
      "text/plain": [
       "<IPython.core.display.Image object>"
      ]
     },
     "metadata": {},
     "output_type": "display_data"
    }
   ],
   "source": [
    "c.Draw()"
   ]
  },
  {
   "cell_type": "code",
   "execution_count": 14,
   "metadata": {},
   "outputs": [
    {
     "name": "stdout",
     "output_type": "stream",
     "text": [
      "Events with exactly two muons: pass=24834      all=50000      -- eff=49.67 % cumulative eff=49.67 %\n",
      "Muons with opposite charge: pass=18827      all=24834      -- eff=75.81 % cumulative eff=37.65 %\n"
     ]
    }
   ],
   "source": [
    "report.Print()"
   ]
  },
  {
   "cell_type": "markdown",
   "metadata": {},
   "source": [
    "RDataFrame can be easily turned into numpy ndarrays or pandas dataframes:"
   ]
  },
  {
   "cell_type": "code",
   "execution_count": 16,
   "metadata": {},
   "outputs": [],
   "source": [
    "#path = 'root://eospublic.cern.ch//eos/opendata/cms/derived-data/AOD2NanoAODOutreachTool/Run2012BC_DoubleMuParked_Muons.root'\n",
    "path = './data/opendata_muons_skimmed.root'\n",
    "df = ROOT.RDataFrame('Events', path)\n",
    "\n",
    "npy = df.Filter('nMuon == 2')\\\n",
    "        .Filter('Muon_pt[0] != Muon_pt[1]')\\\n",
    "        .Define('Dimuon_mass', 'InvariantMass(Muon_pt, Muon_eta, Muon_phi, Muon_mass)')\\\n",
    "        .Range(10000)\\\n",
    "        .AsNumpy(['Dimuon_mass'])"
   ]
  },
  {
   "cell_type": "code",
   "execution_count": 17,
   "metadata": {},
   "outputs": [
    {
     "name": "stdout",
     "output_type": "stream",
     "text": [
      "      Dimuon_mass\n",
      "0       34.415466\n",
      "1       27.915493\n",
      "2      113.646866\n",
      "3        1.587861\n",
      "4       23.723238\n",
      "...           ...\n",
      "9995    24.469269\n",
      "9996    91.798920\n",
      "9997    18.113958\n",
      "9998     1.600781\n",
      "9999     3.073879\n",
      "\n",
      "[10000 rows x 1 columns]\n"
     ]
    }
   ],
   "source": [
    "pdf = pd.DataFrame(npy)\n",
    "print(pdf)"
   ]
  },
  {
   "cell_type": "code",
   "execution_count": 18,
   "metadata": {},
   "outputs": [
    {
     "data": {
      "image/png": "[encoded data removed]",
      "text/plain": [
       "<Figure size 432x288 with 1 Axes>"
      ]
     },
     "metadata": {
      "needs_background": "light"
     },
     "output_type": "display_data"
    }
   ],
   "source": [
    "plt.hist(npy['Dimuon_mass'], range=(70, 110), bins=20)\n",
    "plt.xlabel('Dimoun mass in GeV');"
   ]
  },
  {
   "cell_type": "markdown",
   "metadata": {},
   "source": [
    "### uproot + awkward array"
   ]
  },
  {
   "cell_type": "markdown",
   "metadata": {},
   "source": [
    "### Awkward array"
   ]
  },
  {
   "cell_type": "markdown",
   "metadata": {},
   "source": [
    "In analysis we often have to work with data that can't be represented as a simple table (as if some branches of the tree are arrays of various size).\n",
    "\n",
    "__[Awkward Arrays](https://github.com/scikit-hep/awkward-1.0)__ provides support for such general tree-like data structures, that are also contiguous in memory and operated upon with compiled, vectorized code like NumPy."
   ]
  },
  {
   "cell_type": "code",
   "execution_count": 19,
   "metadata": {},
   "outputs": [],
   "source": [
    "import awkward1 as ak"
   ]
  },
  {
   "cell_type": "code",
   "execution_count": 20,
   "metadata": {},
   "outputs": [],
   "source": [
    "array = ak.Array([\n",
    "    [{\"mu_m\": 90, \"jets_m\": [1]}, \n",
    "     {\"mu_m\": 50, \"jets_m\": [1, 2]}, \n",
    "     {\"mu_m\": [30,50,70], \"jets_m\": [1, 2, 3]}],\n",
    "    \n",
    "    [],\n",
    "    \n",
    "    [{\"mu_m\": 40, \"jets_m\": [1, 2, 3, 4]}, \n",
    "     {\"mu_m\": [], \"jets_m\": [1, 2, 3, 4, 5]}]\n",
    "])\n"
   ]
  },
  {
   "cell_type": "code",
   "execution_count": 21,
   "metadata": {},
   "outputs": [
    {
     "name": "stdout",
     "output_type": "stream",
     "text": [
      "[[90, 50, [30, 50, 70]], [], [40, []]]\n",
      "[[[1], [1, 2], [1, 2, 3]], [], [[1, 2, 3, 4], [1, 2, 3, 4, 5]]]\n"
     ]
    }
   ],
   "source": [
    "print(array[\"mu_m\"])\n",
    "print(array[\"jets_m\"])"
   ]
  },
  {
   "cell_type": "code",
   "execution_count": 22,
   "metadata": {},
   "outputs": [
    {
     "name": "stdout",
     "output_type": "stream",
     "text": [
      "[[[], [4], [4, 9]], [], [[4, 9, 16], [4, 9, 16, 25]]]\n"
     ]
    }
   ],
   "source": [
    "output = np.square(array[\"jets_m\", ..., 1:])\n",
    "print(output)"
   ]
  },
  {
   "cell_type": "markdown",
   "metadata": {},
   "source": [
    "### uproot"
   ]
  },
  {
   "cell_type": "markdown",
   "metadata": {},
   "source": [
    "uproot (originally μproot, for \"micro-Python ROOT\") is a reader and a writer of the ROOT file format using only Python and Numpy. Unlike the standard C++ ROOT implementation, uproot is only an I/O library, primarily intended to stream data into machine learning libraries in Python. Unlike PyROOT and root_numpy, uproot does not depend on C++ ROOT. Instead, it uses Numpy to cast blocks of data from the ROOT file as Numpy arrays."
   ]
  },
  {
   "cell_type": "markdown",
   "metadata": {},
   "source": [
    "Uproot is a Python package; it is pip and conda-installable, and it only depends on other Python packages. Although it is similar in function to root_numpy and root_pandas, it does not compile into ROOT and therefore avoids issues in which the version used in compilation differs from the version encountered at runtime."
   ]
  },
  {
   "cell_type": "code",
   "execution_count": 23,
   "metadata": {},
   "outputs": [
    {
     "data": {
      "text/plain": [
       "<ReadOnlyDirectory '/' at 0x7f70afec8520>"
      ]
     },
     "execution_count": 23,
     "metadata": {},
     "output_type": "execute_result"
    }
   ],
   "source": [
    "import uproot4 as uproot\n",
    "\n",
    "file = uproot.open(\"http://scikit-hep.org/uproot3/examples/nesteddirs.root\")\n",
    "file"
   ]
  },
  {
   "cell_type": "markdown",
   "metadata": {},
   "source": [
    "uproot.open returns a ROOTDirectory, which behaves like a Python dict; it has keys(), values(), and key-value access with square brackets."
   ]
  },
  {
   "cell_type": "code",
   "execution_count": 24,
   "metadata": {},
   "outputs": [
    {
     "data": {
      "text/plain": [
       "['one;1',\n",
       " 'one/two;1',\n",
       " 'one/two/tree;1',\n",
       " 'one/tree;1',\n",
       " 'three;1',\n",
       " 'three/tree;1']"
      ]
     },
     "execution_count": 24,
     "metadata": {},
     "output_type": "execute_result"
    }
   ],
   "source": [
    "file.keys()"
   ]
  },
  {
   "cell_type": "code",
   "execution_count": 25,
   "metadata": {},
   "outputs": [
    {
     "data": {
      "text/plain": [
       "<ReadOnlyDirectory '/one' at 0x7f70afec8e50>"
      ]
     },
     "execution_count": 25,
     "metadata": {},
     "output_type": "execute_result"
    }
   ],
   "source": [
    "file['one']"
   ]
  },
  {
   "cell_type": "code",
   "execution_count": 26,
   "metadata": {},
   "outputs": [
    {
     "data": {
      "text/plain": [
       "[<ReadOnlyDirectory '/one/two' at 0x7f70afec8550>,\n",
       " <TTree 'tree' (20 branches) at 0x7f70afec8580>,\n",
       " <TTree 'tree' (3 branches) at 0x7f70afee5640>]"
      ]
     },
     "execution_count": 26,
     "metadata": {},
     "output_type": "execute_result"
    }
   ],
   "source": [
    "file['one'].values()"
   ]
  },
  {
   "cell_type": "markdown",
   "metadata": {},
   "source": [
    "TTrees are special objects in ROOT files: they contain most of the physics data. Uproot presents TTrees as subclasses of TTreeMethods."
   ]
  },
  {
   "cell_type": "code",
   "execution_count": 28,
   "metadata": {},
   "outputs": [
    {
     "data": {
      "text/plain": [
       "<ReadOnlyDirectory '/' at 0x7f70e6710f10>"
      ]
     },
     "execution_count": 28,
     "metadata": {},
     "output_type": "execute_result"
    }
   ],
   "source": [
    "path = './data/opendata_muons_skimmed.root'\n",
    "\n",
    "file = uproot.open(path)\n",
    "file"
   ]
  },
  {
   "cell_type": "code",
   "execution_count": 29,
   "metadata": {},
   "outputs": [
    {
     "data": {
      "text/plain": [
       "['Events;1']"
      ]
     },
     "execution_count": 29,
     "metadata": {},
     "output_type": "execute_result"
    }
   ],
   "source": [
    "file.keys()"
   ]
  },
  {
   "cell_type": "code",
   "execution_count": 30,
   "metadata": {},
   "outputs": [
    {
     "data": {
      "text/plain": [
       "{'Events': 'TTree'}"
      ]
     },
     "execution_count": 30,
     "metadata": {},
     "output_type": "execute_result"
    }
   ],
   "source": [
    "file.classnames()"
   ]
  },
  {
   "cell_type": "code",
   "execution_count": 31,
   "metadata": {},
   "outputs": [
    {
     "name": "stdout",
     "output_type": "stream",
     "text": [
      "name                 | typename                 | interpretation                \n",
      "---------------------+--------------------------+-------------------------------\n",
      "nMuon                | uint32_t                 | AsDtype('>u4')\n",
      "Muon_pt              | float[]                  | AsJagged(AsDtype('>f4'))\n",
      "Muon_eta             | float[]                  | AsJagged(AsDtype('>f4'))\n",
      "Muon_phi             | float[]                  | AsJagged(AsDtype('>f4'))\n",
      "Muon_mass            | float[]                  | AsJagged(AsDtype('>f4'))\n",
      "Muon_charge          | int32_t[]                | AsJagged(AsDtype('>i4'))\n"
     ]
    }
   ],
   "source": [
    "tree = file[\"Events\"]\n",
    "tree.show()"
   ]
  },
  {
   "cell_type": "code",
   "execution_count": 32,
   "metadata": {},
   "outputs": [
    {
     "data": {
      "text/plain": [
       "['nMuon', 'Muon_pt', 'Muon_eta', 'Muon_phi', 'Muon_mass', 'Muon_charge']"
      ]
     },
     "execution_count": 32,
     "metadata": {},
     "output_type": "execute_result"
    }
   ],
   "source": [
    "tree.keys()"
   ]
  },
  {
   "cell_type": "code",
   "execution_count": 33,
   "metadata": {},
   "outputs": [
    {
     "data": {
      "text/plain": [
       "[('nMuon', <TBranch 'nMuon' at 0x7f70e66df7f0>),\n",
       " ('Muon_pt', <TBranch 'Muon_pt' at 0x7f70e66dffd0>),\n",
       " ('Muon_eta', <TBranch 'Muon_eta' at 0x7f70e66e47c0>),\n",
       " ('Muon_phi', <TBranch 'Muon_phi' at 0x7f70e66e4e80>),\n",
       " ('Muon_mass', <TBranch 'Muon_mass' at 0x7f70e66e8670>),\n",
       " ('Muon_charge', <TBranch 'Muon_charge' at 0x7f70e66e8bb0>)]"
      ]
     },
     "execution_count": 33,
     "metadata": {},
     "output_type": "execute_result"
    }
   ],
   "source": [
    "tree.items()"
   ]
  },
  {
   "cell_type": "code",
   "execution_count": 34,
   "metadata": {},
   "outputs": [
    {
     "data": {
      "text/plain": [
       "{'nMuon': 'uint32_t',\n",
       " 'Muon_pt': 'float[]',\n",
       " 'Muon_eta': 'float[]',\n",
       " 'Muon_phi': 'float[]',\n",
       " 'Muon_mass': 'float[]',\n",
       " 'Muon_charge': 'int32_t[]'}"
      ]
     },
     "execution_count": 34,
     "metadata": {},
     "output_type": "execute_result"
    }
   ],
   "source": [
    "tree.typenames()"
   ]
  },
  {
   "cell_type": "code",
   "execution_count": 35,
   "metadata": {},
   "outputs": [
    {
     "data": {
      "text/plain": [
       "['Muon_pt', 'Muon_eta', 'Muon_phi', 'Muon_mass', 'Muon_charge']"
      ]
     },
     "execution_count": 35,
     "metadata": {},
     "output_type": "execute_result"
    }
   ],
   "source": [
    "tree.keys(filter_name=\"Muon_*\")"
   ]
  },
  {
   "cell_type": "code",
   "execution_count": 36,
   "metadata": {},
   "outputs": [
    {
     "data": {
      "text/plain": [
       "['Muon_pt', 'Muon_eta', 'Muon_phi', 'Muon_mass']"
      ]
     },
     "execution_count": 36,
     "metadata": {},
     "output_type": "execute_result"
    }
   ],
   "source": [
    "tree.keys(filter_typename=\"float[]\")"
   ]
  },
  {
   "cell_type": "code",
   "execution_count": 37,
   "metadata": {},
   "outputs": [
    {
     "data": {
      "text/plain": [
       "['nMuon']"
      ]
     },
     "execution_count": 37,
     "metadata": {},
     "output_type": "execute_result"
    }
   ],
   "source": [
    "tree.keys(filter_branch=lambda branch: not isinstance(branch.interpretation, uproot.AsJagged))"
   ]
  },
  {
   "cell_type": "code",
   "execution_count": 38,
   "metadata": {},
   "outputs": [
    {
     "data": {
      "text/plain": [
       "<Array [[10.8, 15.7], [10.5, ... [4.81, 18]] type='50000 * var * float32'>"
      ]
     },
     "execution_count": 38,
     "metadata": {},
     "output_type": "execute_result"
    }
   ],
   "source": [
    "tree[\"Muon_pt\"].array()"
   ]
  },
  {
   "cell_type": "code",
   "execution_count": 39,
   "metadata": {},
   "outputs": [
    {
     "data": {
      "text/plain": [
       "[[10.763696670532227, 15.736522674560547],\n",
       " [10.538490295410156, 16.327096939086914],\n",
       " [3.2753264904022217],\n",
       " [11.429154396057129, 17.634033203125, 9.624728202819824, 3.502225160598755],\n",
       " [3.2834417819976807, 3.64400577545166, 32.911224365234375, 23.72175407409668],\n",
       " [3.566528081893921, 4.572504043579102, 4.371862888336182],\n",
       " [57.6067008972168, 53.04507827758789],\n",
       " [11.31967544555664, 23.906352996826172],\n",
       " [10.19356918334961, 14.204060554504395],\n",
       " [11.470704078674316, 3.4690065383911133],\n",
       " [8.82088565826416, 17.640625],\n",
       " [14.5940580368042, 12.346529960632324],\n",
       " [35.57528305053711,\n",
       "  15.075876235961914,\n",
       "  20.153141021728516,\n",
       "  27.559505462646484,\n",
       "  7.394664287567139,\n",
       "  6.029187202453613],\n",
       " [21.814958572387695, 9.548975944519043, 9.808515548706055],\n",
       " [4.340000629425049, 13.142794609069824],\n",
       " [3.8378028869628906],\n",
       " [15.200817108154297, 10.510826110839844],\n",
       " [38.77178955078125, 14.144120216369629],\n",
       " [13.187382698059082, 8.904003143310547],\n",
       " [5.302141189575195, 15.658161163330078]]"
      ]
     },
     "execution_count": 39,
     "metadata": {},
     "output_type": "execute_result"
    }
   ],
   "source": [
    "tree[\"Muon_pt\"].array()[:20].tolist()"
   ]
  },
  {
   "cell_type": "code",
   "execution_count": 40,
   "metadata": {},
   "outputs": [
    {
     "data": {
      "text/plain": [
       "array([array([10.763697, 15.736523], dtype=float32),\n",
       "       array([10.53849 , 16.327097], dtype=float32),\n",
       "       array([3.2753265], dtype=float32),\n",
       "       array([11.429154 , 17.634033 ,  9.624728 ,  3.5022252], dtype=float32),\n",
       "       array([ 3.2834418,  3.6440058, 32.911224 , 23.721754 ], dtype=float32),\n",
       "       array([3.566528, 4.572504, 4.371863], dtype=float32),\n",
       "       array([57.6067 , 53.04508], dtype=float32),\n",
       "       array([11.319675, 23.906353], dtype=float32),\n",
       "       array([10.193569, 14.204061], dtype=float32),\n",
       "       array([11.470704 ,  3.4690065], dtype=float32),\n",
       "       array([ 8.820886, 17.640625], dtype=float32),\n",
       "       array([14.594058, 12.34653 ], dtype=float32),\n",
       "       array([35.575283 , 15.075876 , 20.153141 , 27.559505 ,  7.3946643,\n",
       "        6.029187 ], dtype=float32),\n",
       "       array([21.814959,  9.548976,  9.808516], dtype=float32),\n",
       "       array([ 4.3400006, 13.142795 ], dtype=float32),\n",
       "       array([3.837803], dtype=float32),\n",
       "       array([15.200817, 10.510826], dtype=float32),\n",
       "       array([38.77179, 14.14412], dtype=float32),\n",
       "       array([13.187383,  8.904003], dtype=float32),\n",
       "       array([ 5.302141, 15.658161], dtype=float32)], dtype=object)"
      ]
     },
     "execution_count": 40,
     "metadata": {},
     "output_type": "execute_result"
    }
   ],
   "source": [
    "tree[\"Muon_pt\"].array(library=\"np\")[:20]"
   ]
  },
  {
   "cell_type": "code",
   "execution_count": 41,
   "metadata": {},
   "outputs": [],
   "source": [
    "awkward_array = tree[\"Muon_pt\"].array(library=\"ak\")\n",
    "numpy_array = tree[\"Muon_pt\"].array(library=\"np\")"
   ]
  },
  {
   "cell_type": "code",
   "execution_count": 42,
   "metadata": {},
   "outputs": [
    {
     "data": {
      "text/plain": [
       "<Array [10.8, 10.5, 3.28, ... 38.8, 13.2, 5.3] type='20 * float32'>"
      ]
     },
     "execution_count": 42,
     "metadata": {},
     "output_type": "execute_result"
    }
   ],
   "source": [
    "awkward_array[:20, 0]"
   ]
  },
  {
   "cell_type": "code",
   "execution_count": 43,
   "metadata": {},
   "outputs": [
    {
     "data": {
      "text/plain": [
       "array([array([10.763697, 15.736523], dtype=float32),\n",
       "       array([10.53849 , 16.327097], dtype=float32),\n",
       "       array([3.2753265], dtype=float32),\n",
       "       array([11.429154 , 17.634033 ,  9.624728 ,  3.5022252], dtype=float32),\n",
       "       array([ 3.2834418,  3.6440058, 32.911224 , 23.721754 ], dtype=float32),\n",
       "       array([3.566528, 4.572504, 4.371863], dtype=float32),\n",
       "       array([57.6067 , 53.04508], dtype=float32),\n",
       "       array([11.319675, 23.906353], dtype=float32),\n",
       "       array([10.193569, 14.204061], dtype=float32),\n",
       "       array([11.470704 ,  3.4690065], dtype=float32),\n",
       "       array([ 8.820886, 17.640625], dtype=float32),\n",
       "       array([14.594058, 12.34653 ], dtype=float32),\n",
       "       array([35.575283 , 15.075876 , 20.153141 , 27.559505 ,  7.3946643,\n",
       "        6.029187 ], dtype=float32),\n",
       "       array([21.814959,  9.548976,  9.808516], dtype=float32),\n",
       "       array([ 4.3400006, 13.142795 ], dtype=float32),\n",
       "       array([3.837803], dtype=float32),\n",
       "       array([15.200817, 10.510826], dtype=float32),\n",
       "       array([38.77179, 14.14412], dtype=float32),\n",
       "       array([13.187383,  8.904003], dtype=float32),\n",
       "       array([ 5.302141, 15.658161], dtype=float32)], dtype=object)"
      ]
     },
     "execution_count": 43,
     "metadata": {},
     "output_type": "execute_result"
    }
   ],
   "source": [
    "numpy_array[:20]"
   ]
  },
  {
   "cell_type": "code",
   "execution_count": 44,
   "metadata": {},
   "outputs": [
    {
     "data": {
      "text/plain": [
       "entry  subentry\n",
       "0      0           10.763697\n",
       "       1           15.736523\n",
       "1      0           10.538490\n",
       "       1           16.327097\n",
       "2      0            3.275326\n",
       "                     ...    \n",
       "49997  1           17.039013\n",
       "       2            7.332198\n",
       "49998  0            3.160125\n",
       "49999  0            4.814294\n",
       "       1           18.021034\n",
       "Length: 117272, dtype: float32"
      ]
     },
     "execution_count": 44,
     "metadata": {},
     "output_type": "execute_result"
    }
   ],
   "source": [
    "tree[\"Muon_pt\"].array(library=\"pd\")"
   ]
  },
  {
   "cell_type": "code",
   "execution_count": 46,
   "metadata": {},
   "outputs": [
    {
     "data": {
      "image/png": "[encoded data removed]",
      "text/plain": [
       "<Figure size 432x288 with 1 Axes>"
      ]
     },
     "metadata": {
      "needs_background": "light"
     },
     "output_type": "display_data"
    }
   ],
   "source": [
    "plt.hist(uproot.open(\"./data/opendata_muons_skimmed.root:Events/nMuon\"), bins=11, range=(-0.5, 10.5));"
   ]
  },
  {
   "cell_type": "code",
   "execution_count": 47,
   "metadata": {},
   "outputs": [
    {
     "data": {
      "text/plain": [
       "{'Muon_pt': array([array([10.763697, 15.736523], dtype=float32),\n",
       "        array([10.53849 , 16.327097], dtype=float32),\n",
       "        array([3.2753265], dtype=float32), ...,\n",
       "        array([47.185143, 17.039013,  7.332198], dtype=float32),\n",
       "        array([3.1601255], dtype=float32),\n",
       "        array([ 4.8142943, 18.021034 ], dtype=float32)], dtype=object),\n",
       " 'Muon_eta': array([array([ 1.0668273, -0.5637865], dtype=float32),\n",
       "        array([-0.42778006,  0.34922507], dtype=float32),\n",
       "        array([2.2108555], dtype=float32), ...,\n",
       "        array([-0.07527801,  1.9864665 ,  2.129292  ], dtype=float32),\n",
       "        array([-2.0919852], dtype=float32),\n",
       "        array([-1.6316211, -0.5164791], dtype=float32)], dtype=object),\n",
       " 'Muon_phi': array([array([-0.03427272,  2.5426154 ], dtype=float32),\n",
       "        array([-0.2747921,  2.5397813], dtype=float32),\n",
       "        array([-1.2234136], dtype=float32), ...,\n",
       "        array([-2.9690173 ,  0.24665758,  2.102427  ], dtype=float32),\n",
       "        array([1.5526576], dtype=float32),\n",
       "        array([ 0.65584123, -2.3310049 ], dtype=float32)], dtype=object),\n",
       " 'Muon_mass': array([array([0.10565837, 0.10565837], dtype=float32),\n",
       "        array([0.10565837, 0.10565837], dtype=float32),\n",
       "        array([0.10565837], dtype=float32), ...,\n",
       "        array([0.10565837, 0.10565837, 0.10565837], dtype=float32),\n",
       "        array([0.10565837], dtype=float32),\n",
       "        array([0.10565837, 0.10565837], dtype=float32)], dtype=object),\n",
       " 'Muon_charge': array([array([-1, -1], dtype=int32), array([ 1, -1], dtype=int32),\n",
       "        array([1], dtype=int32), ..., array([-1, -1,  1], dtype=int32),\n",
       "        array([1], dtype=int32), array([1, 1], dtype=int32)], dtype=object)}"
      ]
     },
     "execution_count": 47,
     "metadata": {},
     "output_type": "execute_result"
    }
   ],
   "source": [
    "# NumPy arrays in a dict\n",
    "pv_numpy = tree.arrays(filter_name=\"Muon_*\", library=\"np\")\n",
    "pv_numpy"
   ]
  },
  {
   "cell_type": "code",
   "execution_count": 48,
   "metadata": {},
   "outputs": [
    {
     "data": {
      "text/plain": [
       "<Array [{Muon_pt: [10.8, 15.7], ... 1, 1]}] type='50000 * {\"Muon_pt\": var * floa...'>"
      ]
     },
     "execution_count": 48,
     "metadata": {},
     "output_type": "execute_result"
    }
   ],
   "source": [
    "# Awkward record-array\n",
    "pv_awkward = tree.arrays(filter_name=\"Muon_*\", library=\"ak\")\n",
    "pv_awkward"
   ]
  },
  {
   "cell_type": "code",
   "execution_count": 49,
   "metadata": {},
   "outputs": [
    {
     "data": {
      "text/html": [
       "<div>\n",
       "<style scoped>\n",
       "    .dataframe tbody tr th:only-of-type {\n",
       "        vertical-align: middle;\n",
       "    }\n",
       "\n",
       "    .dataframe tbody tr th {\n",
       "        vertical-align: top;\n",
       "    }\n",
       "\n",
       "    .dataframe thead th {\n",
       "        text-align: right;\n",
       "    }\n",
       "</style>\n",
       "<table border=\"1\" class=\"dataframe\">\n",
       "  <thead>\n",
       "    <tr style=\"text-align: right;\">\n",
       "      <th></th>\n",
       "      <th></th>\n",
       "      <th>Muon_pt</th>\n",
       "      <th>Muon_eta</th>\n",
       "      <th>Muon_phi</th>\n",
       "      <th>Muon_mass</th>\n",
       "      <th>Muon_charge</th>\n",
       "    </tr>\n",
       "    <tr>\n",
       "      <th>entry</th>\n",
       "      <th>subentry</th>\n",
       "      <th></th>\n",
       "      <th></th>\n",
       "      <th></th>\n",
       "      <th></th>\n",
       "      <th></th>\n",
       "    </tr>\n",
       "  </thead>\n",
       "  <tbody>\n",
       "    <tr>\n",
       "      <th rowspan=\"2\" valign=\"top\">0</th>\n",
       "      <th>0</th>\n",
       "      <td>10.763697</td>\n",
       "      <td>1.066827</td>\n",
       "      <td>-0.034273</td>\n",
       "      <td>0.105658</td>\n",
       "      <td>-1</td>\n",
       "    </tr>\n",
       "    <tr>\n",
       "      <th>1</th>\n",
       "      <td>15.736523</td>\n",
       "      <td>-0.563787</td>\n",
       "      <td>2.542615</td>\n",
       "      <td>0.105658</td>\n",
       "      <td>-1</td>\n",
       "    </tr>\n",
       "    <tr>\n",
       "      <th rowspan=\"2\" valign=\"top\">1</th>\n",
       "      <th>0</th>\n",
       "      <td>10.538490</td>\n",
       "      <td>-0.427780</td>\n",
       "      <td>-0.274792</td>\n",
       "      <td>0.105658</td>\n",
       "      <td>1</td>\n",
       "    </tr>\n",
       "    <tr>\n",
       "      <th>1</th>\n",
       "      <td>16.327097</td>\n",
       "      <td>0.349225</td>\n",
       "      <td>2.539781</td>\n",
       "      <td>0.105658</td>\n",
       "      <td>-1</td>\n",
       "    </tr>\n",
       "    <tr>\n",
       "      <th>2</th>\n",
       "      <th>0</th>\n",
       "      <td>3.275326</td>\n",
       "      <td>2.210855</td>\n",
       "      <td>-1.223414</td>\n",
       "      <td>0.105658</td>\n",
       "      <td>1</td>\n",
       "    </tr>\n",
       "    <tr>\n",
       "      <th>...</th>\n",
       "      <th>...</th>\n",
       "      <td>...</td>\n",
       "      <td>...</td>\n",
       "      <td>...</td>\n",
       "      <td>...</td>\n",
       "      <td>...</td>\n",
       "    </tr>\n",
       "    <tr>\n",
       "      <th rowspan=\"2\" valign=\"top\">49997</th>\n",
       "      <th>1</th>\n",
       "      <td>17.039013</td>\n",
       "      <td>1.986467</td>\n",
       "      <td>0.246658</td>\n",
       "      <td>0.105658</td>\n",
       "      <td>-1</td>\n",
       "    </tr>\n",
       "    <tr>\n",
       "      <th>2</th>\n",
       "      <td>7.332198</td>\n",
       "      <td>2.129292</td>\n",
       "      <td>2.102427</td>\n",
       "      <td>0.105658</td>\n",
       "      <td>1</td>\n",
       "    </tr>\n",
       "    <tr>\n",
       "      <th>49998</th>\n",
       "      <th>0</th>\n",
       "      <td>3.160125</td>\n",
       "      <td>-2.091985</td>\n",
       "      <td>1.552658</td>\n",
       "      <td>0.105658</td>\n",
       "      <td>1</td>\n",
       "    </tr>\n",
       "    <tr>\n",
       "      <th rowspan=\"2\" valign=\"top\">49999</th>\n",
       "      <th>0</th>\n",
       "      <td>4.814294</td>\n",
       "      <td>-1.631621</td>\n",
       "      <td>0.655841</td>\n",
       "      <td>0.105658</td>\n",
       "      <td>1</td>\n",
       "    </tr>\n",
       "    <tr>\n",
       "      <th>1</th>\n",
       "      <td>18.021034</td>\n",
       "      <td>-0.516479</td>\n",
       "      <td>-2.331005</td>\n",
       "      <td>0.105658</td>\n",
       "      <td>1</td>\n",
       "    </tr>\n",
       "  </tbody>\n",
       "</table>\n",
       "<p>117272 rows × 5 columns</p>\n",
       "</div>"
      ],
      "text/plain": [
       "                  Muon_pt  Muon_eta  Muon_phi  Muon_mass  Muon_charge\n",
       "entry subentry                                                       \n",
       "0     0         10.763697  1.066827 -0.034273   0.105658           -1\n",
       "      1         15.736523 -0.563787  2.542615   0.105658           -1\n",
       "1     0         10.538490 -0.427780 -0.274792   0.105658            1\n",
       "      1         16.327097  0.349225  2.539781   0.105658           -1\n",
       "2     0          3.275326  2.210855 -1.223414   0.105658            1\n",
       "...                   ...       ...       ...        ...          ...\n",
       "49997 1         17.039013  1.986467  0.246658   0.105658           -1\n",
       "      2          7.332198  2.129292  2.102427   0.105658            1\n",
       "49998 0          3.160125 -2.091985  1.552658   0.105658            1\n",
       "49999 0          4.814294 -1.631621  0.655841   0.105658            1\n",
       "      1         18.021034 -0.516479 -2.331005   0.105658            1\n",
       "\n",
       "[117272 rows x 5 columns]"
      ]
     },
     "execution_count": 49,
     "metadata": {},
     "output_type": "execute_result"
    }
   ],
   "source": [
    "# Pandas DataFrame (as opposed to Series for a single array)\n",
    "pv_pandas = tree.arrays(filter_name=\"Muon_*\", library=\"pd\")\n",
    "pv_pandas"
   ]
  },
  {
   "cell_type": "markdown",
   "metadata": {},
   "source": [
    "Uproot also has a limited ability to write ROOT files, including TTrees of flat data (non-jagged: single number per event), a variety of histogram types, and TObjString (for metadata)."
   ]
  },
  {
   "cell_type": "markdown",
   "metadata": {},
   "source": [
    "### hist"
   ]
  },
  {
   "cell_type": "markdown",
   "metadata": {},
   "source": [
    "Hist is a analyst friendly front-end for boost-histogram, designed for Python 3.6+."
   ]
  },
  {
   "cell_type": "code",
   "execution_count": 50,
   "metadata": {},
   "outputs": [
    {
     "data": {
      "text/html": [
       "<html>\n",
       "<div style=\"display:flex; align-items:center;\">\n",
       "<div style=\"width:290px;\">\n",
       "<svg xmlns=\"http://www.w3.org/2000/svg\" viewBox=\"-20 -270 290 290\">\n",
       "<text text-anchor=\"middle\" x=\"0\" y=\"13\" style=\"fill:currentColor;\">\n",
       "0\n",
       "</text>\n",
       "<text text-anchor=\"middle\" x=\"250\" y=\"13\" style=\"fill:currentColor;\">\n",
       "10\n",
       "</text>\n",
       "<text text-anchor=\"middle\" x=\"-10\" y=\"0\" style=\"fill:currentColor;\">\n",
       "0\n",
       "</text>\n",
       "<text text-anchor=\"middle\" x=\"-10\" y=\"-250\" style=\"fill:currentColor;\">\n",
       "9\n",
       "</text>\n",
       "<text text-anchor=\"middle\" x=\"125.0\" y=\"13\" style=\"fill:currentColor;\">\n",
       "x-axis\n",
       "</text>\n",
       "<text text-anchor=\"middle\" x=\"-10\" y=\"-125.0\" transform=\"rotate(-90,-10,-125.0)\" style=\"fill:currentColor;\">\n",
       "y-axis\n",
       "</text>\n",
       "<rect x=\"0.0\" y=\"-27.777777777777775\" width=\"25.0\" height=\"27.778\" opacity=\"0.0\" fill=\"currentColor\" stroke-width=\"0.1\"/>\n",
       "<rect x=\"25.0\" y=\"-27.777777777777775\" width=\"25.0\" height=\"27.778\" opacity=\"0.0\" fill=\"currentColor\" stroke-width=\"0.1\"/>\n",
       "<rect x=\"50.0\" y=\"-27.777777777777775\" width=\"25.0\" height=\"27.778\" opacity=\"0.0\" fill=\"currentColor\" stroke-width=\"0.1\"/>\n",
       "<rect x=\"75.0\" y=\"-27.777777777777775\" width=\"25.0\" height=\"27.778\" opacity=\"0.0\" fill=\"currentColor\" stroke-width=\"0.1\"/>\n",
       "<rect x=\"100.0\" y=\"-27.777777777777775\" width=\"25.0\" height=\"27.778\" opacity=\"0.0\" fill=\"currentColor\" stroke-width=\"0.1\"/>\n",
       "<rect x=\"125.0\" y=\"-27.777777777777775\" width=\"25.0\" height=\"27.778\" opacity=\"0.0\" fill=\"currentColor\" stroke-width=\"0.1\"/>\n",
       "<rect x=\"150.0\" y=\"-27.777777777777775\" width=\"25.0\" height=\"27.778\" opacity=\"0.0\" fill=\"currentColor\" stroke-width=\"0.1\"/>\n",
       "<rect x=\"175.0\" y=\"-27.777777777777775\" width=\"25.0\" height=\"27.778\" opacity=\"0.0\" fill=\"currentColor\" stroke-width=\"0.1\"/>\n",
       "<rect x=\"200.0\" y=\"-27.777777777777775\" width=\"25.0\" height=\"27.778\" opacity=\"0.0\" fill=\"currentColor\" stroke-width=\"0.1\"/>\n",
       "<rect x=\"225.0\" y=\"-27.777777777777775\" width=\"25.0\" height=\"27.778\" opacity=\"0.0\" fill=\"currentColor\" stroke-width=\"0.1\"/>\n",
       "<rect x=\"0.0\" y=\"-55.55555555555555\" width=\"25.0\" height=\"27.778\" opacity=\"0.0\" fill=\"currentColor\" stroke-width=\"0.1\"/>\n",
       "<rect x=\"25.0\" y=\"-55.55555555555555\" width=\"25.0\" height=\"27.778\" opacity=\"0.0\" fill=\"currentColor\" stroke-width=\"0.1\"/>\n",
       "<rect x=\"50.0\" y=\"-55.55555555555555\" width=\"25.0\" height=\"27.778\" opacity=\"0.0\" fill=\"currentColor\" stroke-width=\"0.1\"/>\n",
       "<rect x=\"75.0\" y=\"-55.55555555555555\" width=\"25.0\" height=\"27.778\" opacity=\"0.5\" fill=\"currentColor\" stroke-width=\"0.1\"/>\n",
       "<rect x=\"100.0\" y=\"-55.55555555555555\" width=\"25.0\" height=\"27.778\" opacity=\"0.0\" fill=\"currentColor\" stroke-width=\"0.1\"/>\n",
       "<rect x=\"125.0\" y=\"-55.55555555555555\" width=\"25.0\" height=\"27.778\" opacity=\"0.0\" fill=\"currentColor\" stroke-width=\"0.1\"/>\n",
       "<rect x=\"150.0\" y=\"-55.55555555555555\" width=\"25.0\" height=\"27.778\" opacity=\"0.0\" fill=\"currentColor\" stroke-width=\"0.1\"/>\n",
       "<rect x=\"175.0\" y=\"-55.55555555555555\" width=\"25.0\" height=\"27.778\" opacity=\"0.0\" fill=\"currentColor\" stroke-width=\"0.1\"/>\n",
       "<rect x=\"200.0\" y=\"-55.55555555555555\" width=\"25.0\" height=\"27.778\" opacity=\"0.0\" fill=\"currentColor\" stroke-width=\"0.1\"/>\n",
       "<rect x=\"225.0\" y=\"-55.55555555555555\" width=\"25.0\" height=\"27.778\" opacity=\"0.0\" fill=\"currentColor\" stroke-width=\"0.1\"/>\n",
       "<rect x=\"0.0\" y=\"-83.33333333333333\" width=\"25.0\" height=\"27.778\" opacity=\"0.0\" fill=\"currentColor\" stroke-width=\"0.1\"/>\n",
       "<rect x=\"25.0\" y=\"-83.33333333333333\" width=\"25.0\" height=\"27.778\" opacity=\"0.0\" fill=\"currentColor\" stroke-width=\"0.1\"/>\n",
       "<rect x=\"50.0\" y=\"-83.33333333333333\" width=\"25.0\" height=\"27.778\" opacity=\"0.0\" fill=\"currentColor\" stroke-width=\"0.1\"/>\n",
       "<rect x=\"75.0\" y=\"-83.33333333333333\" width=\"25.0\" height=\"27.778\" opacity=\"1.0\" fill=\"currentColor\" stroke-width=\"0.1\"/>\n",
       "<rect x=\"100.0\" y=\"-83.33333333333333\" width=\"25.0\" height=\"27.778\" opacity=\"0.0\" fill=\"currentColor\" stroke-width=\"0.1\"/>\n",
       "<rect x=\"125.0\" y=\"-83.33333333333333\" width=\"25.0\" height=\"27.778\" opacity=\"0.0\" fill=\"currentColor\" stroke-width=\"0.1\"/>\n",
       "<rect x=\"150.0\" y=\"-83.33333333333333\" width=\"25.0\" height=\"27.778\" opacity=\"0.0\" fill=\"currentColor\" stroke-width=\"0.1\"/>\n",
       "<rect x=\"175.0\" y=\"-83.33333333333333\" width=\"25.0\" height=\"27.778\" opacity=\"0.0\" fill=\"currentColor\" stroke-width=\"0.1\"/>\n",
       "<rect x=\"200.0\" y=\"-83.33333333333333\" width=\"25.0\" height=\"27.778\" opacity=\"0.0\" fill=\"currentColor\" stroke-width=\"0.1\"/>\n",
       "<rect x=\"225.0\" y=\"-83.33333333333333\" width=\"25.0\" height=\"27.778\" opacity=\"0.0\" fill=\"currentColor\" stroke-width=\"0.1\"/>\n",
       "<rect x=\"0.0\" y=\"-111.1111111111111\" width=\"25.0\" height=\"27.778\" opacity=\"0.0\" fill=\"currentColor\" stroke-width=\"0.1\"/>\n",
       "<rect x=\"25.0\" y=\"-111.1111111111111\" width=\"25.0\" height=\"27.778\" opacity=\"0.0\" fill=\"currentColor\" stroke-width=\"0.1\"/>\n",
       "<rect x=\"50.0\" y=\"-111.1111111111111\" width=\"25.0\" height=\"27.778\" opacity=\"0.0\" fill=\"currentColor\" stroke-width=\"0.1\"/>\n",
       "<rect x=\"75.0\" y=\"-111.1111111111111\" width=\"25.0\" height=\"27.778\" opacity=\"0.0\" fill=\"currentColor\" stroke-width=\"0.1\"/>\n",
       "<rect x=\"100.0\" y=\"-111.1111111111111\" width=\"25.0\" height=\"27.778\" opacity=\"0.0\" fill=\"currentColor\" stroke-width=\"0.1\"/>\n",
       "<rect x=\"125.0\" y=\"-111.1111111111111\" width=\"25.0\" height=\"27.778\" opacity=\"0.5\" fill=\"currentColor\" stroke-width=\"0.1\"/>\n",
       "<rect x=\"150.0\" y=\"-111.1111111111111\" width=\"25.0\" height=\"27.778\" opacity=\"0.0\" fill=\"currentColor\" stroke-width=\"0.1\"/>\n",
       "<rect x=\"175.0\" y=\"-111.1111111111111\" width=\"25.0\" height=\"27.778\" opacity=\"0.0\" fill=\"currentColor\" stroke-width=\"0.1\"/>\n",
       "<rect x=\"200.0\" y=\"-111.1111111111111\" width=\"25.0\" height=\"27.778\" opacity=\"0.0\" fill=\"currentColor\" stroke-width=\"0.1\"/>\n",
       "<rect x=\"225.0\" y=\"-111.1111111111111\" width=\"25.0\" height=\"27.778\" opacity=\"0.0\" fill=\"currentColor\" stroke-width=\"0.1\"/>\n",
       "<rect x=\"0.0\" y=\"-138.88888888888889\" width=\"25.0\" height=\"27.778\" opacity=\"0.0\" fill=\"currentColor\" stroke-width=\"0.1\"/>\n",
       "<rect x=\"25.0\" y=\"-138.88888888888889\" width=\"25.0\" height=\"27.778\" opacity=\"0.0\" fill=\"currentColor\" stroke-width=\"0.1\"/>\n",
       "<rect x=\"50.0\" y=\"-138.88888888888889\" width=\"25.0\" height=\"27.778\" opacity=\"0.0\" fill=\"currentColor\" stroke-width=\"0.1\"/>\n",
       "<rect x=\"75.0\" y=\"-138.88888888888889\" width=\"25.0\" height=\"27.778\" opacity=\"0.0\" fill=\"currentColor\" stroke-width=\"0.1\"/>\n",
       "<rect x=\"100.0\" y=\"-138.88888888888889\" width=\"25.0\" height=\"27.778\" opacity=\"0.0\" fill=\"currentColor\" stroke-width=\"0.1\"/>\n",
       "<rect x=\"125.0\" y=\"-138.88888888888889\" width=\"25.0\" height=\"27.778\" opacity=\"0.5\" fill=\"currentColor\" stroke-width=\"0.1\"/>\n",
       "<rect x=\"150.0\" y=\"-138.88888888888889\" width=\"25.0\" height=\"27.778\" opacity=\"0.0\" fill=\"currentColor\" stroke-width=\"0.1\"/>\n",
       "<rect x=\"175.0\" y=\"-138.88888888888889\" width=\"25.0\" height=\"27.778\" opacity=\"0.0\" fill=\"currentColor\" stroke-width=\"0.1\"/>\n",
       "<rect x=\"200.0\" y=\"-138.88888888888889\" width=\"25.0\" height=\"27.778\" opacity=\"0.0\" fill=\"currentColor\" stroke-width=\"0.1\"/>\n",
       "<rect x=\"225.0\" y=\"-138.88888888888889\" width=\"25.0\" height=\"27.778\" opacity=\"0.0\" fill=\"currentColor\" stroke-width=\"0.1\"/>\n",
       "<rect x=\"0.0\" y=\"-166.66666666666666\" width=\"25.0\" height=\"27.778\" opacity=\"0.0\" fill=\"currentColor\" stroke-width=\"0.1\"/>\n",
       "<rect x=\"25.0\" y=\"-166.66666666666666\" width=\"25.0\" height=\"27.778\" opacity=\"0.0\" fill=\"currentColor\" stroke-width=\"0.1\"/>\n",
       "<rect x=\"50.0\" y=\"-166.66666666666666\" width=\"25.0\" height=\"27.778\" opacity=\"0.0\" fill=\"currentColor\" stroke-width=\"0.1\"/>\n",
       "<rect x=\"75.0\" y=\"-166.66666666666666\" width=\"25.0\" height=\"27.778\" opacity=\"0.0\" fill=\"currentColor\" stroke-width=\"0.1\"/>\n",
       "<rect x=\"100.0\" y=\"-166.66666666666666\" width=\"25.0\" height=\"27.778\" opacity=\"0.0\" fill=\"currentColor\" stroke-width=\"0.1\"/>\n",
       "<rect x=\"125.0\" y=\"-166.66666666666666\" width=\"25.0\" height=\"27.778\" opacity=\"0.0\" fill=\"currentColor\" stroke-width=\"0.1\"/>\n",
       "<rect x=\"150.0\" y=\"-166.66666666666666\" width=\"25.0\" height=\"27.778\" opacity=\"0.0\" fill=\"currentColor\" stroke-width=\"0.1\"/>\n",
       "<rect x=\"175.0\" y=\"-166.66666666666666\" width=\"25.0\" height=\"27.778\" opacity=\"0.0\" fill=\"currentColor\" stroke-width=\"0.1\"/>\n",
       "<rect x=\"200.0\" y=\"-166.66666666666666\" width=\"25.0\" height=\"27.778\" opacity=\"0.0\" fill=\"currentColor\" stroke-width=\"0.1\"/>\n",
       "<rect x=\"225.0\" y=\"-166.66666666666666\" width=\"25.0\" height=\"27.778\" opacity=\"0.0\" fill=\"currentColor\" stroke-width=\"0.1\"/>\n",
       "<rect x=\"0.0\" y=\"-194.44444444444446\" width=\"25.0\" height=\"27.778\" opacity=\"0.0\" fill=\"currentColor\" stroke-width=\"0.1\"/>\n",
       "<rect x=\"25.0\" y=\"-194.44444444444446\" width=\"25.0\" height=\"27.778\" opacity=\"0.0\" fill=\"currentColor\" stroke-width=\"0.1\"/>\n",
       "<rect x=\"50.0\" y=\"-194.44444444444446\" width=\"25.0\" height=\"27.778\" opacity=\"0.5\" fill=\"currentColor\" stroke-width=\"0.1\"/>\n",
       "<rect x=\"75.0\" y=\"-194.44444444444446\" width=\"25.0\" height=\"27.778\" opacity=\"0.0\" fill=\"currentColor\" stroke-width=\"0.1\"/>\n",
       "<rect x=\"100.0\" y=\"-194.44444444444446\" width=\"25.0\" height=\"27.778\" opacity=\"0.0\" fill=\"currentColor\" stroke-width=\"0.1\"/>\n",
       "<rect x=\"125.0\" y=\"-194.44444444444446\" width=\"25.0\" height=\"27.778\" opacity=\"0.0\" fill=\"currentColor\" stroke-width=\"0.1\"/>\n",
       "<rect x=\"150.0\" y=\"-194.44444444444446\" width=\"25.0\" height=\"27.778\" opacity=\"0.0\" fill=\"currentColor\" stroke-width=\"0.1\"/>\n",
       "<rect x=\"175.0\" y=\"-194.44444444444446\" width=\"25.0\" height=\"27.778\" opacity=\"0.0\" fill=\"currentColor\" stroke-width=\"0.1\"/>\n",
       "<rect x=\"200.0\" y=\"-194.44444444444446\" width=\"25.0\" height=\"27.778\" opacity=\"0.0\" fill=\"currentColor\" stroke-width=\"0.1\"/>\n",
       "<rect x=\"225.0\" y=\"-194.44444444444446\" width=\"25.0\" height=\"27.778\" opacity=\"0.0\" fill=\"currentColor\" stroke-width=\"0.1\"/>\n",
       "<rect x=\"0.0\" y=\"-222.2222222222222\" width=\"25.0\" height=\"27.778\" opacity=\"0.0\" fill=\"currentColor\" stroke-width=\"0.1\"/>\n",
       "<rect x=\"25.0\" y=\"-222.2222222222222\" width=\"25.0\" height=\"27.778\" opacity=\"0.0\" fill=\"currentColor\" stroke-width=\"0.1\"/>\n",
       "<rect x=\"50.0\" y=\"-222.2222222222222\" width=\"25.0\" height=\"27.778\" opacity=\"0.0\" fill=\"currentColor\" stroke-width=\"0.1\"/>\n",
       "<rect x=\"75.0\" y=\"-222.2222222222222\" width=\"25.0\" height=\"27.778\" opacity=\"0.0\" fill=\"currentColor\" stroke-width=\"0.1\"/>\n",
       "<rect x=\"100.0\" y=\"-222.2222222222222\" width=\"25.0\" height=\"27.778\" opacity=\"0.0\" fill=\"currentColor\" stroke-width=\"0.1\"/>\n",
       "<rect x=\"125.0\" y=\"-222.2222222222222\" width=\"25.0\" height=\"27.778\" opacity=\"0.0\" fill=\"currentColor\" stroke-width=\"0.1\"/>\n",
       "<rect x=\"150.0\" y=\"-222.2222222222222\" width=\"25.0\" height=\"27.778\" opacity=\"0.0\" fill=\"currentColor\" stroke-width=\"0.1\"/>\n",
       "<rect x=\"175.0\" y=\"-222.2222222222222\" width=\"25.0\" height=\"27.778\" opacity=\"0.0\" fill=\"currentColor\" stroke-width=\"0.1\"/>\n",
       "<rect x=\"200.0\" y=\"-222.2222222222222\" width=\"25.0\" height=\"27.778\" opacity=\"0.0\" fill=\"currentColor\" stroke-width=\"0.1\"/>\n",
       "<rect x=\"225.0\" y=\"-222.2222222222222\" width=\"25.0\" height=\"27.778\" opacity=\"0.0\" fill=\"currentColor\" stroke-width=\"0.1\"/>\n",
       "<rect x=\"0.0\" y=\"-250.0\" width=\"25.0\" height=\"27.778\" opacity=\"0.0\" fill=\"currentColor\" stroke-width=\"0.1\"/>\n",
       "<rect x=\"25.0\" y=\"-250.0\" width=\"25.0\" height=\"27.778\" opacity=\"0.0\" fill=\"currentColor\" stroke-width=\"0.1\"/>\n",
       "<rect x=\"50.0\" y=\"-250.0\" width=\"25.0\" height=\"27.778\" opacity=\"0.0\" fill=\"currentColor\" stroke-width=\"0.1\"/>\n",
       "<rect x=\"75.0\" y=\"-250.0\" width=\"25.0\" height=\"27.778\" opacity=\"0.0\" fill=\"currentColor\" stroke-width=\"0.1\"/>\n",
       "<rect x=\"100.0\" y=\"-250.0\" width=\"25.0\" height=\"27.778\" opacity=\"0.0\" fill=\"currentColor\" stroke-width=\"0.1\"/>\n",
       "<rect x=\"125.0\" y=\"-250.0\" width=\"25.0\" height=\"27.778\" opacity=\"0.0\" fill=\"currentColor\" stroke-width=\"0.1\"/>\n",
       "<rect x=\"150.0\" y=\"-250.0\" width=\"25.0\" height=\"27.778\" opacity=\"0.0\" fill=\"currentColor\" stroke-width=\"0.1\"/>\n",
       "<rect x=\"175.0\" y=\"-250.0\" width=\"25.0\" height=\"27.778\" opacity=\"0.0\" fill=\"currentColor\" stroke-width=\"0.1\"/>\n",
       "<rect x=\"200.0\" y=\"-250.0\" width=\"25.0\" height=\"27.778\" opacity=\"0.0\" fill=\"currentColor\" stroke-width=\"0.1\"/>\n",
       "<rect x=\"225.0\" y=\"-250.0\" width=\"25.0\" height=\"27.778\" opacity=\"0.0\" fill=\"currentColor\" stroke-width=\"0.1\"/>\n",
       "</svg>\n",
       "</div>\n",
       "<div style=\"flex=grow:1;\">\n",
       "Regular(10, 0, 10, name='x', label='x-axis')<br/>\n",
       "Variable([0, 1, 2, 3, 4, 5, 6, 7, 8, 9])<br/>\n",
       "<hr style=\"margin-top:.2em; margin-bottom:.2em;\"/>\n",
       "Int64() Σ=6.0 <em>(7.0 with flow)</em>\n",
       "\n",
       "</div>\n",
       "</div>\n",
       "</html>"
      ],
      "text/plain": [
       "Hist(\n",
       "  Regular(10, 0, 10, name='x', label='x-axis'),\n",
       "  Variable([0, 1, 2, 3, 4, 5, 6, 7, 8, 9]),\n",
       "  storage=Int64()) # Sum: 6.0 (7.0 with flow)"
      ]
     },
     "execution_count": 50,
     "metadata": {},
     "output_type": "execute_result"
    }
   ],
   "source": [
    "from hist import Hist\n",
    "\n",
    "# Quick construction, no other imports needed:\n",
    "h = (\n",
    "  Hist.new\n",
    "  .Reg(10, 0 ,10, name=\"x\", label=\"x-axis\")\n",
    "  .Var(range(10), name=\"y\", label=\"y-axis\")\n",
    "  .Int64()\n",
    ")\n",
    "# Filling by names is allowed:\n",
    "h.fill(y=[1, 4, 6, 9, 2, 2, 3 ], x=[3, 5, 2, 5, 3, 3, 5])"
   ]
  },
  {
   "cell_type": "code",
   "execution_count": 51,
   "metadata": {},
   "outputs": [
    {
     "data": {
      "text/html": [
       "<html>\n",
       "<div style=\"display:flex; align-items:center;\">\n",
       "<div style=\"width:290px;\">\n",
       "<svg xmlns=\"http://www.w3.org/2000/svg\" viewBox=\"-10 -105 270 120\">\n",
       "<line x1=\"-5\" y1=\"0\" x2=\"255\" y2=\"0\" style=\"fill:none;stroke-width:2;stroke:currentColor\"/>\n",
       "<text text-anchor=\"middle\" x=\"0\" y=\"15\" style=\"fill:currentColor;\">\n",
       "0\n",
       "</text>\n",
       "<text text-anchor=\"middle\" x=\"250\" y=\"15\" style=\"fill:currentColor;\">\n",
       "10\n",
       "</text>\n",
       "<text text-anchor=\"middle\" x=\"125.0\" y=\"15\" style=\"fill:currentColor;\">\n",
       "x-axis\n",
       "</text>\n",
       "<polyline points=\"  0,0   0,-0  25,-0  25,-0  50,-0  50,-33.3  75,-33.3  75,-100 100,-100 100,-0 125,-0 125,-100 150,-100 150,-0 175,-0 175,-0 200,-0 200,-0 225,-0 225,-0 250,-0 250,0\" style=\"fill:none; stroke:currentColor;\"/>\n",
       "</svg>\n",
       "</div>\n",
       "<div style=\"flex=grow:1;\">\n",
       "Regular(10, 0, 10, name='x', label='x-axis')<br/>\n",
       "<hr style=\"margin-top:.2em; margin-bottom:.2em;\"/>\n",
       "Int64() Σ=7.0\n",
       "\n",
       "</div>\n",
       "</div>\n",
       "</html>"
      ],
      "text/plain": [
       "Hist(Regular(10, 0, 10, name='x', label='x-axis'), storage=Int64()) # Sum: 7.0"
      ]
     },
     "execution_count": 51,
     "metadata": {},
     "output_type": "execute_result"
    }
   ],
   "source": [
    "# Names can be used to manipulate the histogram:\n",
    "h.project(\"x\")"
   ]
  },
  {
   "cell_type": "code",
   "execution_count": 52,
   "metadata": {},
   "outputs": [
    {
     "data": {
      "text/plain": [
       "ColormeshArtists(pcolormesh=<matplotlib.collections.QuadMesh object at 0x7f70dee24430>, cbar=<matplotlib.colorbar.Colorbar object at 0x7f70dee3e4f0>)"
      ]
     },
     "execution_count": 52,
     "metadata": {},
     "output_type": "execute_result"
    },
    {
     "data": {
      "image/png": "[encoded data removed]",
      "text/plain": [
       "<Figure size 462.24x288 with 2 Axes>"
      ]
     },
     "metadata": {
      "needs_background": "light"
     },
     "output_type": "display_data"
    }
   ],
   "source": [
    "# Elegant plotting functions:\n",
    "h.plot()\n"
   ]
  },
  {
   "cell_type": "code",
   "execution_count": 53,
   "metadata": {},
   "outputs": [
    {
     "data": {
      "image/png": "[encoded data removed]",
      "text/plain": [
       "<Figure size 432x288 with 3 Axes>"
      ]
     },
     "metadata": {
      "needs_background": "light"
     },
     "output_type": "display_data"
    }
   ],
   "source": [
    "h.plot2d_full();"
   ]
  },
  {
   "cell_type": "markdown",
   "metadata": {},
   "source": [
    "## Fitting"
   ]
  },
  {
   "cell_type": "markdown",
   "metadata": {},
   "source": [
    "### iminuit"
   ]
  },
  {
   "cell_type": "markdown",
   "metadata": {},
   "source": [
    "iminuit is a Jupyter-friendly Python frontend to the MINUIT2 C++ library (which is also used for fitting in ROOT).\n",
    "\n",
    "It can be used as a general robust function minimisation method, but is most commonly used for likelihood fits of models to data, and to get model parameter error estimates from likelihood profile analysis.\n",
    "\n",
    "In the next example it is show how it can be used to perform simple least squares fit"
   ]
  },
  {
   "cell_type": "code",
   "execution_count": 82,
   "metadata": {},
   "outputs": [],
   "source": [
    "# everything in iminuit is done through the Minuit object, so we import it\n",
    "from iminuit import Minuit\n",
    "from iminuit.util import describe, make_func_code\n",
    "# we also need a cost function to fit and import the LeastSquares function\n",
    "from iminuit.cost import LeastSquares\n",
    "import matplotlib.pyplot as plt \n",
    "import math\n"
   ]
  },
  {
   "cell_type": "code",
   "execution_count": 55,
   "metadata": {},
   "outputs": [
    {
     "data": {
      "image/png": "[encoded data removed]",
      "text/plain": [
       "<Figure size 432x288 with 1 Axes>"
      ]
     },
     "metadata": {
      "needs_background": "light"
     },
     "output_type": "display_data"
    }
   ],
   "source": [
    "# our line model\n",
    "def line(x, a, b):\n",
    "    return a + x * b\n",
    "\n",
    "# generate random toy data with random offsets in y\n",
    "np.random.seed(1)\n",
    "data_x = np.linspace(0, 1, 10)\n",
    "data_yerr = 0.1 # could also be an array\n",
    "data_y = line(data_x, 1, 2) + data_yerr * np.random.randn(len(data_x))\n",
    "\n",
    "# draw toy data\n",
    "plt.errorbar(data_x, data_y, data_yerr, fmt=\"o\")\n",
    "plt.xlim(-0.1, 1.1);"
   ]
  },
  {
   "cell_type": "code",
   "execution_count": 57,
   "metadata": {},
   "outputs": [
    {
     "name": "stdout",
     "output_type": "stream",
     "text": [
      "a = 1.007 +/- 0.059\n",
      "b = 1.966 +/- 0.099\n"
     ]
    },
    {
     "data": {
      "image/png": "[encoded data removed]",
      "text/plain": [
       "<Figure size 432x288 with 1 Axes>"
      ]
     },
     "metadata": {
      "needs_background": "light"
     },
     "output_type": "display_data"
    }
   ],
   "source": [
    "# a simple least-squares cost function looks like this...\n",
    "def custom_least_squares(a, b):\n",
    "    ym = line(data_x, a, b)\n",
    "    z = (data_y - ym) / data_yerr ** 2\n",
    "    return np.sum(z ** 2)\n",
    "\n",
    "# ...but instead of writing this by hand, it is better and\n",
    "# more convenient to use the LeastSquares class shipped with iminuit\n",
    "least_squares = LeastSquares(data_x, data_y, data_yerr, line)\n",
    "\n",
    "m = Minuit(least_squares, a=0, b=0)  # we need starting values for a and b\n",
    "\n",
    "m.migrad() # finds minimum of least_squares function\n",
    "m.hesse()  # computes errors \n",
    "\n",
    "# draw data and fitted line\n",
    "plt.errorbar(data_x, data_y, data_yerr, fmt=\"o\")\n",
    "plt.plot(data_x, line(data_x, *m.values.values()))\n",
    "\n",
    "# print parameter values and uncertainty estimates\n",
    "for p in m.parameters:\n",
    "    print(\"{} = {:.3f} +/- {:.3f}\".format(p, m.values[p], m.errors[p]))"
   ]
  },
  {
   "cell_type": "code",
   "execution_count": 59,
   "metadata": {},
   "outputs": [],
   "source": [
    "data = np.load('./data/pol_data_09_Dec_2020_14:10:54.npy')"
   ]
  },
  {
   "cell_type": "code",
   "execution_count": 60,
   "metadata": {},
   "outputs": [
    {
     "name": "stdout",
     "output_type": "stream",
     "text": [
      "[[0.00000000e+00 1.59272944e+03 2.05176819e+02]\n",
      " [3.14159265e-02 1.55694023e+03 2.02204920e+02]\n",
      " [6.28318531e-02 1.51662124e+03 1.95460467e+02]\n",
      " [9.42477796e-02 1.47190746e+03 1.88492120e+02]\n",
      " [1.25663706e-01 1.44369722e+03 1.83382401e+02]\n",
      " [1.57079633e-01 1.39524546e+03 1.78211838e+02]\n",
      " [1.88495559e-01 1.34531066e+03 1.74356722e+02]\n",
      " [2.19911486e-01 1.30239889e+03 1.66941839e+02]\n",
      " [2.51327412e-01 1.27566954e+03 1.61481464e+02]\n",
      " [2.82743339e-01 1.23341844e+03 1.56384323e+02]]\n"
     ]
    }
   ],
   "source": [
    "print(data[:10])"
   ]
  },
  {
   "cell_type": "code",
   "execution_count": 65,
   "metadata": {},
   "outputs": [
    {
     "data": {
      "image/png": "[encoded data removed]",
      "text/plain": [
       "<Figure size 720x288 with 2 Axes>"
      ]
     },
     "metadata": {
      "needs_background": "light"
     },
     "output_type": "display_data"
    }
   ],
   "source": [
    "def plot_pol_data(data, mod=None):\n",
    "    \n",
    "    fig = plt.figure(figsize=(10, 4))\n",
    "    ax1 = fig.add_subplot(121)\n",
    "    ax1.grid()\n",
    "    ax2 = fig.add_subplot(122, polar=True)\n",
    "\n",
    "    ax1.plot(data[:,0],data[:,1],'ro')\n",
    "   \n",
    "    ax2.plot(data[:,0],data[:,1])\n",
    "    if mod is not None:\n",
    "        x_model = np.linspace(0,2*math.pi,num=200)\n",
    "        y_model = fit_func(x_model,mod['a'], mod['omega'], mod['phi'],mod['offset'])\n",
    "        ax1.plot(x_model,y_model,'b')\n",
    "    plt.show() \n",
    "plot_pol_data(data)"
   ]
  },
  {
   "cell_type": "code",
   "execution_count": 66,
   "metadata": {},
   "outputs": [],
   "source": [
    "class MyChi2:\n",
    "    def __init__(self, model, x, y):\n",
    "        self.model = model  # model predicts y for given x\n",
    "        self.x = np.array(x)\n",
    "        self.y = np.array(y)\n",
    "        self.y_err = np.where(self.y > 0, np.sqrt(self.y),1)\n",
    "        self.func_code = make_func_code(describe(self.model)[1:])\n",
    "\n",
    "    def __call__(self, *par):  # we accept a variable number of model parameters\n",
    "        ym = self.model(self.x, *par)\n",
    "        self.y = np.where(self.y_err > 0, self.y,0)\n",
    "        chi2 = np.sum(np.where(self.y > 0, (self.y-ym)**2/self.y_err**2,0))\n",
    "        return chi2\n"
   ]
  },
  {
   "cell_type": "code",
   "execution_count": 67,
   "metadata": {},
   "outputs": [],
   "source": [
    "def fit_func(x, a, omega, phi, offset):\n",
    "    return offset + a*np.power(np.cos(omega*x + phi),2)"
   ]
  },
  {
   "cell_type": "code",
   "execution_count": 68,
   "metadata": {},
   "outputs": [
    {
     "data": {
      "text/html": [
       "<table>\n",
       "    <tr>\n",
       "        <td colspan=\"2\" style=\"text-align:left\" title=\"Minimum value of function\"> FCN = 22.91 </td>\n",
       "        <td colspan=\"3\" style=\"text-align:center\" title=\"No. of function evaluations in last call and total number\"> Nfcn = 441 (441 total) </td>\n",
       "    </tr>\n",
       "    <tr>\n",
       "        <td colspan=\"2\" style=\"text-align:left\" title=\"Estimated distance to minimum and goal\"> EDM = 1.02e-07 (Goal: 0.0002) </td>\n",
       "        <td colspan=\"3\" style=\"text-align:center\" title=\"No. of gradient evaluations in last call and total number\">  </td>\n",
       "    </tr>\n",
       "    <tr>\n",
       "        <td style=\"text-align:center;background-color:#92CCA6;color:black\"> Valid Minimum </td>\n",
       "        <td style=\"text-align:center;background-color:#92CCA6;color:black\"> Valid Parameters </td>\n",
       "        <td colspan=\"3\" style=\"text-align:center;background-color:#92CCA6;color:black\"> No Parameters at limit </td>\n",
       "    </tr>\n",
       "    <tr>\n",
       "        <td colspan=\"2\" style=\"text-align:center;background-color:#92CCA6;color:black\"> Below EDM threshold (goal x 10) </td>\n",
       "        <td colspan=\"3\" style=\"text-align:center;background-color:#92CCA6;color:black\"> Below call limit </td>\n",
       "    </tr>\n",
       "    <tr>\n",
       "        <td style=\"text-align:center;background-color:#92CCA6;color:black\"> Hesse ok </td>\n",
       "        <td style=\"text-align:center;background-color:#92CCA6;color:black\"> Has Covariance </td>\n",
       "        <td style=\"text-align:center;background-color:#92CCA6;color:black\" title=\"Is covariance matrix accurate?\"> Accurate </td>\n",
       "        <td style=\"text-align:center;background-color:#92CCA6;color:black\" title=\"Is covariance matrix positive definite?\"> Pos. def. </td>\n",
       "        <td style=\"text-align:center;background-color:#92CCA6;color:black\" title=\"Was positive definiteness enforced by Minuit?\"> Not forced </td>\n",
       "    </tr>\n",
       "</table><table>\n",
       "    <tr>\n",
       "        <td></td>\n",
       "        <th title=\"Variable name\"> Name </th>\n",
       "        <th title=\"Value of parameter\"> Value </th>\n",
       "        <th title=\"Hesse error\"> Hesse Error </th>\n",
       "        <th title=\"Minos lower error\"> Minos Error- </th>\n",
       "        <th title=\"Minos upper error\"> Minos Error+ </th>\n",
       "        <th title=\"Lower limit of the parameter\"> Limit- </th>\n",
       "        <th title=\"Upper limit of the parameter\"> Limit+ </th>\n",
       "        <th title=\"Is the parameter fixed in the fit\"> Fixed </th>\n",
       "    </tr>\n",
       "    <tr>\n",
       "        <th> 0 </th>\n",
       "        <td> a </td>\n",
       "        <td> 1.441e3 </td>\n",
       "        <td> 0.008e3 </td>\n",
       "        <td>  </td>\n",
       "        <td>  </td>\n",
       "        <td> 100 </td>\n",
       "        <td> 4.5E+03 </td>\n",
       "        <td>  </td>\n",
       "    </tr>\n",
       "    <tr>\n",
       "        <th> 1 </th>\n",
       "        <td> omega </td>\n",
       "        <td> 1.0009 </td>\n",
       "        <td> 0.0015 </td>\n",
       "        <td>  </td>\n",
       "        <td>  </td>\n",
       "        <td> 0 </td>\n",
       "        <td> 2 </td>\n",
       "        <td>  </td>\n",
       "    </tr>\n",
       "    <tr>\n",
       "        <th> 2 </th>\n",
       "        <td> phi </td>\n",
       "        <td> 0.786 </td>\n",
       "        <td> 0.005 </td>\n",
       "        <td>  </td>\n",
       "        <td>  </td>\n",
       "        <td> -1.6 </td>\n",
       "        <td> 1.6 </td>\n",
       "        <td>  </td>\n",
       "    </tr>\n",
       "    <tr>\n",
       "        <th> 3 </th>\n",
       "        <td> offset </td>\n",
       "        <td> 884 </td>\n",
       "        <td> 4 </td>\n",
       "        <td>  </td>\n",
       "        <td>  </td>\n",
       "        <td> 0 </td>\n",
       "        <td> 3E+03 </td>\n",
       "        <td>  </td>\n",
       "    </tr>\n",
       "</table>"
      ],
      "text/plain": [
       "┌──────────────────────────────────┬──────────────────────────────────────┐\n",
       "│ FCN = 22.91                      │        Nfcn = 441 (441 total)        │\n",
       "│ EDM = 1.02e-07 (Goal: 0.0002)    │                                      │\n",
       "├───────────────┬──────────────────┼──────────────────────────────────────┤\n",
       "│ Valid Minimum │ Valid Parameters │        No Parameters at limit        │\n",
       "├───────────────┴──────────────────┼──────────────────────────────────────┤\n",
       "│ Below EDM threshold (goal x 10)  │           Below call limit           │\n",
       "├───────────────┬──────────────────┼───────────┬─────────────┬────────────┤\n",
       "│   Hesse ok    │  Has Covariance  │ Accurate  │  Pos. def.  │ Not forced │\n",
       "└───────────────┴──────────────────┴───────────┴─────────────┴────────────┘\n",
       "┌───┬────────┬───────────┬───────────┬────────────┬────────────┬─────────┬─────────┬───────┐\n",
       "│   │ Name   │   Value   │ Hesse Err │ Minos Err- │ Minos Err+ │ Limit-  │ Limit+  │ Fixed │\n",
       "├───┼────────┼───────────┼───────────┼────────────┼────────────┼─────────┼─────────┼───────┤\n",
       "│ 0 │ a      │  1.441e3  │  0.008e3  │            │            │   100   │  4500   │       │\n",
       "│ 1 │ omega  │  1.0009   │  0.0015   │            │            │    0    │    2    │       │\n",
       "│ 2 │ phi    │   0.786   │   0.005   │            │            │  -1.6   │   1.6   │       │\n",
       "│ 3 │ offset │    884    │     4     │            │            │    0    │  3000   │       │\n",
       "└───┴────────┴───────────┴───────────┴────────────┴────────────┴─────────┴─────────┴───────┘"
      ]
     },
     "execution_count": 68,
     "metadata": {},
     "output_type": "execute_result"
    }
   ],
   "source": [
    "chi2 = MyChi2(fit_func, data[:,0], data[:,1])\n",
    "m = Minuit(chi2, \n",
    "    limit_a=(100,4500),\n",
    "    error_a=1.,\n",
    "    limit_omega=(0,2),\n",
    "    error_omega=0.001,\n",
    "    limit_phi=(-1.6,1.6),\n",
    "    error_phi=0.001,\n",
    "    limit_offset=(0,3000),\n",
    "    error_offset=1,\n",
    "    pedantic=True,\n",
    "    errordef=1)\n",
    "m.migrad()"
   ]
  },
  {
   "cell_type": "code",
   "execution_count": 69,
   "metadata": {},
   "outputs": [
    {
     "data": {
      "image/png": "[encoded data removed]",
      "text/plain": [
       "<Figure size 720x288 with 2 Axes>"
      ]
     },
     "metadata": {
      "needs_background": "light"
     },
     "output_type": "display_data"
    }
   ],
   "source": [
    "plot_pol_data(data, m.values)"
   ]
  },
  {
   "cell_type": "markdown",
   "metadata": {},
   "source": [
    "### zfit"
   ]
  },
  {
   "cell_type": "markdown",
   "metadata": {},
   "source": [
    "The basic idea behind zfit is to offer a Python oriented alternative to the very successful RooFit library from the ROOT data analysis package that can integrate with the other packages that are part if the scientific Python ecosystem. Contrary to the monolithic approach of ROOT/RooFit, the aim of zfit is to be light and flexible enough to integrate with any state-of-art tools and to allow scalability going to larger datasets."
   ]
  },
  {
   "cell_type": "code",
   "execution_count": 70,
   "metadata": {},
   "outputs": [
    {
     "name": "stdout",
     "output_type": "stream",
     "text": [
      "TensorFlow version: 2.2.0\n"
     ]
    }
   ],
   "source": [
    "import tensorflow as tf\n",
    "\n",
    "import zfit\n",
    "# Wrapper for some tensorflow functionality\n",
    "from zfit import z\n",
    "print(\"TensorFlow version:\", tf.__version__)"
   ]
  },
  {
   "cell_type": "code",
   "execution_count": 71,
   "metadata": {},
   "outputs": [],
   "source": [
    "obs = zfit.Space('x', limits=(-10, 10))"
   ]
  },
  {
   "cell_type": "code",
   "execution_count": 72,
   "metadata": {},
   "outputs": [],
   "source": [
    "mu_true = 0\n",
    "sigma_true = 1\n",
    "\n",
    "data_np = np.random.normal(mu_true, sigma_true, size=10000)\n",
    "data = zfit.data.Data.from_numpy(obs=obs, array=data_np)"
   ]
  },
  {
   "cell_type": "code",
   "execution_count": 73,
   "metadata": {},
   "outputs": [
    {
     "name": "stdout",
     "output_type": "stream",
     "text": [
      "WARNING:tensorflow:From /home/stepan/miniconda3/envs/ml-lpi/lib/python3.8/site-packages/tensorflow/python/ops/resource_variable_ops.py:1659: calling BaseResourceVariable.__init__ (from tensorflow.python.ops.resource_variable_ops) with constraint is deprecated and will be removed in a future version.\n",
      "Instructions for updating:\n",
      "If using Keras pass *_constraint arguments to layers.\n"
     ]
    },
    {
     "name": "stderr",
     "output_type": "stream",
     "text": [
      "2020-12-13 21:01:22.076143: I tensorflow/core/platform/cpu_feature_guard.cc:143] Your CPU supports instructions that this TensorFlow binary was not compiled to use: SSE4.1 SSE4.2 AVX AVX2 FMA\n",
      "2020-12-13 21:01:22.098351: I tensorflow/core/platform/profile_utils/cpu_utils.cc:102] CPU Frequency: 2599990000 Hz\n",
      "2020-12-13 21:01:22.098823: I tensorflow/compiler/xla/service/service.cc:168] XLA service 0x55a7c6900520 initialized for platform Host (this does not guarantee that XLA will be used). Devices:\n",
      "2020-12-13 21:01:22.098845: I tensorflow/compiler/xla/service/service.cc:176]   StreamExecutor device (0): Host, Default Version\n",
      "2020-12-13 21:01:22.098947: I tensorflow/core/common_runtime/process_util.cc:147] Creating new thread pool with default inter op setting: 2. Tune using inter_op_parallelism_threads for best performance.\n"
     ]
    }
   ],
   "source": [
    "mu = zfit.Parameter(\"mu\", 2.4, -1., 5., step_size=0.001)  # step_size is not mandatory but can be helpful\n",
    "sigma = zfit.Parameter(\"sigma\", 1.3, 0, 5., step_size=0.001)  # it should be around the estimated uncertainty"
   ]
  },
  {
   "cell_type": "code",
   "execution_count": 74,
   "metadata": {},
   "outputs": [],
   "source": [
    "gauss = zfit.pdf.Gauss(obs=obs, mu=mu, sigma=sigma)"
   ]
  },
  {
   "cell_type": "code",
   "execution_count": 75,
   "metadata": {},
   "outputs": [
    {
     "name": "stdout",
     "output_type": "stream",
     "text": [
      "WARNING:tensorflow:From /home/stepan/miniconda3/envs/ml-lpi/lib/python3.8/site-packages/zfit/core/parameter.py:465: Variable.load (from tensorflow.python.ops.variables) is deprecated and will be removed in a future version.\n",
      "Instructions for updating:\n",
      "Prefer Variable.assign which has equivalent behavior in 2.X.\n"
     ]
    },
    {
     "name": "stderr",
     "output_type": "stream",
     "text": [
      "/home/stepan/miniconda3/envs/ml-lpi/lib/python3.8/site-packages/zfit/minimizers/minimizer_minuit.py:124: IMinuitWarning: Setting print_level >=3 has the side-effect of setting the level globally for all Minuit instances\n",
      "  minimizer = iminuit.Minuit.from_array_func(fcn=func, start=start_values,\n"
     ]
    },
    {
     "name": "stdout",
     "output_type": "stream",
     "text": [
      "┌──────────────────────────────────┬──────────────────────────────────────┐\n",
      "│ FCN = 1.417e+04                  │         Nfcn = 62 (62 total)         │\n",
      "│ EDM = 1.05e-09 (Goal: 0.0001)    │        Ngrad = 11 (11 total)         │\n",
      "├───────────────┬──────────────────┼──────────────────────────────────────┤\n",
      "│ Valid Minimum │ Valid Parameters │        No Parameters at limit        │\n",
      "├───────────────┴──────────────────┼──────────────────────────────────────┤\n",
      "│ Below EDM threshold (goal x 10)  │           Below call limit           │\n",
      "├───────────────┬──────────────────┼───────────┬─────────────┬────────────┤\n",
      "│   Hesse ok    │  Has Covariance  │ Accurate  │  Pos. def.  │ Not forced │\n",
      "└───────────────┴──────────────────┴───────────┴─────────────┴────────────┘\n",
      "mu=0.009809048186498748\n",
      "sigma=0.9981660670136377\n",
      "VariableMetric: start iterating until Edm is < 0.0001\n",
      "VariableMetric: Initial state   - FCN =    31663.1667688 Edm =      360.993 NCalls =      1\n",
      "VariableMetric: Iteration #   0 - FCN =    31663.1667688 Edm =      360.993 NCalls =      1\n",
      "VariableMetric: Iteration #   1 - FCN =    21487.5341651 Edm =      5.51103 NCalls =      9\n",
      "VariableMetric: Iteration #   2 - FCN =   21372.26975192 Edm =       11.592 NCalls =     13\n",
      "VariableMetric: Iteration #   3 - FCN =   20460.62999773 Edm =      471.297 NCalls =     19\n",
      "VariableMetric: Iteration #   4 - FCN =   15079.21468257 Edm =      1118.78 NCalls =     28\n",
      "VariableMetric: Iteration #   5 - FCN =   14834.90095807 Edm =      779.593 NCalls =     30\n",
      "VariableMetric: Iteration #   6 - FCN =   14296.28805961 Edm =      221.216 NCalls =     32\n",
      "VariableMetric: Iteration #   7 - FCN =   14181.21511238 Edm =      10.9287 NCalls =     34\n",
      "VariableMetric: Iteration #   8 - FCN =   14171.09925588 Edm =    0.0759586 NCalls =     36\n",
      "VariableMetric: Iteration #   9 - FCN =   14171.02925875 Edm =  7.11651e-05 NCalls =     38\n",
      "VariableMetric: Iteration #  10 - FCN =   14171.02918369 Edm =  1.05646e-09 NCalls =     40\n",
      "VariableMetric: After Hessian   - FCN =   14171.02918369 Edm =  1.05333e-09 NCalls =     62\n",
      "VariableMetric: Iteration #  11 - FCN =   14171.02918369 Edm =  1.05333e-09 NCalls =     62\n"
     ]
    }
   ],
   "source": [
    "# Create the negative log likelihood\n",
    "\n",
    "nll = zfit.loss.UnbinnedNLL(model=gauss, data=data)  # loss\n",
    "\n",
    "# Load and instantiate a minimizer\n",
    "minimizer = zfit.minimize.Minuit()\n",
    "minimum = minimizer.minimize(loss=nll)\n",
    "\n",
    "# Get the fitted values, again by run the variable graphs\n",
    "params = minimum.params\n",
    "\n",
    "print(\"mu={}\".format(params[mu]['value']))\n",
    "print(\"sigma={}\".format(params[sigma]['value']))"
   ]
  },
  {
   "cell_type": "code",
   "execution_count": 76,
   "metadata": {},
   "outputs": [
    {
     "data": {
      "image/png": "[encoded data removed]",
      "text/plain": [
       "<Figure size 432x288 with 1 Axes>"
      ]
     },
     "metadata": {
      "needs_background": "light"
     },
     "output_type": "display_data"
    }
   ],
   "source": [
    "n_bins = 50\n",
    "range_ = (-5,5)\n",
    "_ = plt.hist(data_np, bins=n_bins, range=range_)\n",
    "x = np.linspace(*range_, num=1000)\n",
    "with gauss.set_norm_range(range_):\n",
    "    pdf = zfit.run(gauss.pdf(x))\n",
    "_ = plt.plot(x, data_np.shape[0] / n_bins * (range_[1] - range_[0]) * pdf)"
   ]
  },
  {
   "cell_type": "markdown",
   "metadata": {},
   "source": [
    "### pyhf"
   ]
  },
  {
   "cell_type": "markdown",
   "metadata": {},
   "source": [
    "The HistFactory p.d.f. template [__[CERN-OPEN-2012-016](https://cds.cern.ch/record/1456844)__] is per-se independent of its implementation in ROOT and sometimes, it’s useful to be able to run statistical analysis outside of ROOT, RooFit, RooStats framework.\n",
    "\n",
    "pyhf is a pure-python implementation of that statistical model for multi-bin histogram-based analysis and its interval estimation is based on the asymptotic formulas of “Asymptotic formulae for likelihood-based tests of new physics” [__[arXiv:1007.1727](https://arxiv.org/abs/1007.1727)__]. The aim is also to support modern computational graph libraries such as PyTorch and TensorFlow in order to make use of features such as autodifferentiation and GPU acceleration."
   ]
  },
  {
   "cell_type": "code",
   "execution_count": 77,
   "metadata": {},
   "outputs": [
    {
     "name": "stderr",
     "output_type": "stream",
     "text": [
      "/home/stepan/miniconda3/envs/ml-lpi/lib/python3.8/site-packages/pyhf/infer/calculators.py:229: RuntimeWarning: invalid value encountered in double_scalars\n",
      "  teststat = (qmu - qmu_A) / (2 * self.sqrtqmuA_v)\n"
     ]
    },
    {
     "data": {
      "image/png": "[encoded data removed]",
      "text/plain": [
       "<Figure size 504x360 with 1 Axes>"
      ]
     },
     "metadata": {
      "needs_background": "light"
     },
     "output_type": "display_data"
    }
   ],
   "source": [
    "import pyhf\n",
    "import pyhf.contrib.viz.brazil\n",
    "\n",
    "pyhf.set_backend(\"numpy\")\n",
    "model = pyhf.simplemodels.hepdata_like(\n",
    "    signal_data=[10.0], bkg_data=[50.0], bkg_uncerts=[7.0]\n",
    ")\n",
    "data = [55.0] + model.config.auxdata\n",
    "\n",
    "poi_vals = np.linspace(0, 5, 41)\n",
    "results = [\n",
    "    pyhf.infer.hypotest(test_poi, data, model, qtilde=True, return_expected_set=True)\n",
    "    for test_poi in poi_vals\n",
    "]\n",
    "\n",
    "fig, ax = plt.subplots()\n",
    "fig.set_size_inches(7, 5)\n",
    "ax.set_xlabel(r\"$\\mu$ (POI)\")\n",
    "ax.set_ylabel(r\"$\\mathrm{CL}_{s}$\")\n",
    "pyhf.contrib.viz.brazil.plot_results(ax, poi_vals, results)"
   ]
  },
  {
   "cell_type": "markdown",
   "metadata": {},
   "source": [
    "### hepstats"
   ]
  },
  {
   "cell_type": "markdown",
   "metadata": {},
   "source": [
    "The hepstats module includes modeling, hypotests and splot submodules.\n",
    "\n",
    "The modeling submodule includes the Bayesian Block algorithm that can be used to improve the binning of histograms. The visual improvement can be dramatic, and more importantly, this algorithm produces histograms that accurately represent the underlying distribution while being robust to statistical fluctuations. Here is a small example of the algorithm applied on Laplacian sampled data, compared to a histogram of this sample with a fine binning."
   ]
  },
  {
   "cell_type": "code",
   "execution_count": 79,
   "metadata": {},
   "outputs": [
    {
     "data": {
      "text/plain": [
       "<matplotlib.legend.Legend at 0x7f7018087190>"
      ]
     },
     "execution_count": 79,
     "metadata": {},
     "output_type": "execute_result"
    },
    {
     "data": {
      "image/png": "[encoded data removed]",
      "text/plain": [
       "<Figure size 432x288 with 1 Axes>"
      ]
     },
     "metadata": {
      "needs_background": "light"
     },
     "output_type": "display_data"
    }
   ],
   "source": [
    "from hepstats.modeling import bayesian_blocks\n",
    "\n",
    "data = np.random.laplace(size=10000)\n",
    "blocks = bayesian_blocks(data)\n",
    "\n",
    "plt.hist(data, bins=1000, label='Fine Binning', density=True, alpha=0.6)\n",
    "plt.hist(data, bins=blocks, label='Bayesian Blocks', histtype='step', density=True, linewidth=2)\n",
    "plt.legend(loc=2)"
   ]
  },
  {
   "cell_type": "markdown",
   "metadata": {},
   "source": [
    "### hepunits\n",
    "\n",
    "hepunits collects the most commonly used units and constants in the HEP System of Units, as derived from the basic units originally defined by the CLHEP project. The package is in agreement with the values in the 2020 Particle Data Group review."
   ]
  },
  {
   "cell_type": "code",
   "execution_count": 80,
   "metadata": {},
   "outputs": [
    {
     "name": "stdout",
     "output_type": "stream",
     "text": [
      "0.44968868700000003\n",
      "449.688687\n"
     ]
    }
   ],
   "source": [
    "from hepunits.constants import c_light\n",
    "from hepunits.units     import picosecond, micrometer\n",
    "tau_Bs = 1.5 * picosecond    # a particle lifetime, say the Bs meson's\n",
    "ctau_Bs = c_light * tau_Bs   # ctau of the particle, ~450 microns\n",
    "print(ctau_Bs)                # result in HEP units, so mm\n",
    "print(ctau_Bs / micrometer)"
   ]
  },
  {
   "cell_type": "code",
   "execution_count": 81,
   "metadata": {},
   "outputs": [
    {
     "name": "stdout",
     "output_type": "stream",
     "text": [
      "1.05\n",
      "1050.0\n"
     ]
    }
   ],
   "source": [
    "# add two quantities with length units and get the result in meters\n",
    "from hepunits import units as u\n",
    "print((1 * u.meter + 5 * u.cm) / u.meter)\n",
    "# the default result is, of course, in HEP units, so mm\n",
    "print(1 * u.meter + 5 * u.cm)"
   ]
  },
  {
   "cell_type": "code",
   "execution_count": null,
   "metadata": {},
   "outputs": [],
   "source": []
  }
 ],
 "metadata": {
  "kernelspec": {
   "display_name": "ml-lpi",
   "language": "python",
   "name": "ml-lpi"
  },
  "language_info": {
   "codemirror_mode": {
    "name": "ipython",
    "version": 3
   },
   "file_extension": ".py",
   "mimetype": "text/x-python",
   "name": "python",
   "nbconvert_exporter": "python",
   "pygments_lexer": "ipython3",
   "version": "3.8.3"
  }
 },
 "nbformat": 4,
 "nbformat_minor": 4
}
