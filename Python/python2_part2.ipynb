{
 "cells": [
  {
   "cell_type": "markdown",
   "metadata": {},
   "source": [
    "## **Matplotlib**"
   ]
  },
  {
   "cell_type": "markdown",
   "metadata": {
    "colab_type": "text",
    "id": "Odx24QWTJXW-"
   },
   "source": [
    "If you use Python, then at some point you will definitely want to visualize things. So in this part of the seminar we will guide you through some of the main plotting libraries, starting from the most basic and fundamental one, `matplotlib`. But if you are curious to find out more packages, [here](https://pyviz.org/tools.html) you can find a whole bunch of them."
   ]
  },
  {
   "cell_type": "code",
   "execution_count": null,
   "metadata": {},
   "outputs": [],
   "source": [
    "import numpy as np\n",
    "import pandas as pd\n",
    "import matplotlib.pyplot as plt"
   ]
  },
  {
   "cell_type": "code",
   "execution_count": null,
   "metadata": {},
   "outputs": [],
   "source": [
    "# plot x vs y \n",
    "plt.plot([0, 1, 2, 3, 4, 5], [0, 1, 4, 9, 16, 25])\n",
    "plt.show()"
   ]
  },
  {
   "cell_type": "code",
   "execution_count": null,
   "metadata": {},
   "outputs": [],
   "source": [
    "# plot several y\n",
    "plt.plot([0, 1, 2, 3, 4, 5], [0, 1, 4, 9, 16, 25], [0, 1, 3, 5, 10, 30])"
   ]
  },
  {
   "cell_type": "code",
   "execution_count": null,
   "metadata": {
    "colab": {},
    "colab_type": "code",
    "id": "huybuiQkJXXB",
    "outputId": "7499d543-de44-46e2-d59d-4029ae2b915e"
   },
   "outputs": [],
   "source": [
    "# scatter-plot\n",
    "\n",
    "x = np.arange(5)\n",
    "plt.scatter(x, x**2)\n",
    "\n",
    "plt.show()  # try to comment me\n",
    "plt.plot(x, x**2)"
   ]
  },
  {
   "cell_type": "code",
   "execution_count": null,
   "metadata": {},
   "outputs": [],
   "source": [
    "# Draw a scatter plot with custom markers and colours\n",
    "plt.scatter([1, 1, 2, 3, 4, 4.5], [3, 2, 2, 5, 15, 24],\n",
    "            c=[\"red\", \"blue\", \"orange\", \"green\", \"cyan\", \"gray\"],\n",
    "            marker=\",\")\n",
    "\n",
    "plt.scatter([0.0, 0.1, 0.2], [2, 4, 16],\n",
    "            c=[\"red\", \"blue\", \"orange\"],\n",
    "            marker=\"o\")\n",
    "\n",
    "# Without plt.show(), several plots will be drawn on top of one another\n",
    "plt.plot([0, 1, 2, 3, 4, 5], [0, 1, 4, 9, 16, 25], c=\"blue\")\n",
    "\n",
    "plt.title(\"Title\")\n",
    "plt.xlabel(\"Text 1\")\n",
    "plt.ylabel(\"Text 2\")"
   ]
  },
  {
   "cell_type": "code",
   "execution_count": null,
   "metadata": {
    "colab": {},
    "colab_type": "code",
    "id": "fz5WDA4YJXXI",
    "outputId": "00a048a9-73a7-4655-8627-e6cba6630320"
   },
   "outputs": [],
   "source": [
    "# Histogram - showing data density\n",
    "plt.hist([0, 1, 1, 1, 2, 2, 3, 3, 3, 3, 3, 4, 4, 5, 5, 5, 6, 7, 7, 8, 9,\n",
    "          10])  # Plot a histogram.\n",
    "plt.show()\n",
    "\n",
    "plt.hist([0, 1, 1, 1, 2, 2, 3, 3, 3, 3, 3, 4, 4, 5, 5, 5, 6, 7, 7, 8, 9, 10],\n",
    "         bins=5)\n",
    "plt.show()"
   ]
  },
  {
   "cell_type": "code",
   "execution_count": null,
   "metadata": {},
   "outputs": [],
   "source": [
    "data = pd.read_csv(\"./data/train.csv\", index_col='PassengerId')"
   ]
  },
  {
   "cell_type": "code",
   "execution_count": null,
   "metadata": {},
   "outputs": [],
   "source": [
    "data[\"Age\"].plot(kind='hist')"
   ]
  },
  {
   "cell_type": "code",
   "execution_count": null,
   "metadata": {},
   "outputs": [],
   "source": [
    "data[\"Fare\"].plot(kind='hist')\n",
    "plt.grid()\n",
    "plt.show()"
   ]
  },
  {
   "cell_type": "code",
   "execution_count": null,
   "metadata": {},
   "outputs": [],
   "source": [
    "data[\"Age\"].plot(kind='hist')\n",
    "data[\"Fare\"].plot(kind='hist')\n",
    "\n",
    "# Do you know where is 'Age'?"
   ]
  },
  {
   "cell_type": "code",
   "execution_count": null,
   "metadata": {},
   "outputs": [],
   "source": [
    "# Plot a histogram of age and a histogram of ticket fares on separate plots\n",
    "\n",
    "plt.subplot(211)  # nrows, ncols, index, ...\n",
    "plt.hist(data[\"Age\"])\n",
    "plt.subplot(212)  # Add a subplot to the current figure.\n",
    "plt.hist(data[\"Fare\"])\n",
    "plt.show()"
   ]
  },
  {
   "cell_type": "code",
   "execution_count": null,
   "metadata": {},
   "outputs": [],
   "source": [
    "# Plot a histogram of age and a histogram of ticket fares on separate plots\n",
    "\n",
    "plt.subplot(221)  # nrows, ncols, index, ...\n",
    "plt.hist(data[\"Age\"])\n",
    "plt.subplot(222)\n",
    "plt.hist(data[\"Fare\"])\n",
    "plt.subplot(223)\n",
    "plt.hist(data[\"Fare\"])\n",
    "plt.subplot(224)\n",
    "plt.hist(data[\"Age\"])\n",
    "\n",
    "plt.show()"
   ]
  },
  {
   "cell_type": "code",
   "execution_count": null,
   "metadata": {},
   "outputs": [],
   "source": [
    "# Make a scatter plot of passenger age vs ticket fare\n",
    "\n",
    "m_data = data[data[\"Sex\"] == \"male\"]\n",
    "f_data = data[data[\"Sex\"] == \"female\"]\n",
    "plt.scatter(m_data[\"Age\"], m_data[\"Fare\"], c='r', label='male')\n",
    "plt.scatter(f_data[\"Age\"], f_data[\"Fare\"], c='g', label='female')\n",
    "\n",
    "plt.legend()\n",
    "plt.grid()\n",
    "plt.show()"
   ]
  },
  {
   "cell_type": "code",
   "execution_count": null,
   "metadata": {},
   "outputs": [],
   "source": [
    "fig = plt.figure()\n",
    "ax = fig.add_subplot(111, projection='3d') # and this returns an axis\n",
    "\n",
    "# Make data\n",
    "u = np.linspace(0, 2 * np.pi, 100)\n",
    "v = np.linspace(0, np.pi, 100)\n",
    "x = 10 * np.outer(np.cos(u), np.sin(v))  # Compute the outer product of two vectors\n",
    "y = 10 * np.outer(np.sin(u), np.sin(v))\n",
    "z = 10 * np.outer(np.ones(np.size(u)), np.cos(v))\n",
    "\n",
    "# Plot the surface\n",
    "ax.plot_surface(x, y, z)\n",
    "\n",
    "plt.show()"
   ]
  },
  {
   "cell_type": "code",
   "execution_count": null,
   "metadata": {},
   "outputs": [],
   "source": [
    "fig = plt.figure()\n",
    "ax = fig.add_subplot(111, projection='3d')\n",
    "\n",
    "# Make data\n",
    "u = np.linspace(0, 2 * np.pi, 10)\n",
    "v = np.linspace(0, np.pi, 10)\n",
    "x = 10 * np.outer(np.cos(u), np.sin(v))\n",
    "y = 10 * np.outer(np.sin(u), np.sin(v))\n",
    "z = 10 * np.outer(np.ones(np.size(u)), np.cos(v))\n",
    "\n",
    "# Plot the surface\n",
    "ax.plot_surface(x, y, z)\n",
    "\n",
    "plt.show()"
   ]
  },
  {
   "cell_type": "code",
   "execution_count": null,
   "metadata": {},
   "outputs": [],
   "source": [
    "fig = plt.figure()\n",
    "ax = fig.add_subplot(111, projection='3d')\n",
    "\n",
    "# Make data\n",
    "u = np.linspace(0, 2 * np.pi, 5)\n",
    "v = np.linspace(0, np.pi, 5)\n",
    "x = 10 * np.outer(np.cos(u), np.sin(v))\n",
    "y = 10 * np.outer(np.sin(u), np.sin(v))\n",
    "z = 10 * np.outer(np.ones(np.size(u)), np.cos(v))\n",
    "\n",
    "# Plot the surface\n",
    "ax.plot_surface(x, y, z)\n",
    "\n",
    "plt.show()"
   ]
  },
  {
   "cell_type": "code",
   "execution_count": null,
   "metadata": {},
   "outputs": [],
   "source": [
    "# catch it\n",
    "\n",
    "def lorenz(x, y, z, s=10, r=28, b=2.667):\n",
    "    \"\"\"\n",
    "    Given:\n",
    "       x, y, z: a point of interest in three-dimensional space\n",
    "       s, r, b: parameters defining the Lorenz attractor\n",
    "    Returns:\n",
    "       x_dot, y_dot, z_dot: values of the Lorenz attractor's partial\n",
    "           derivatives at the point x, y, z\n",
    "    \"\"\"\n",
    "    x_dot = s * (y - x)\n",
    "    y_dot = r * x - y - x * z\n",
    "    z_dot = x * y - b * z\n",
    "    return x_dot, y_dot, z_dot\n",
    "\n",
    "\n",
    "dt = 0.01\n",
    "num_steps = 10000\n",
    "\n",
    "# Need one more for the initial values\n",
    "xs = np.empty(\n",
    "    num_steps + 1\n",
    ")  # Return a new array of given shape and type, without initializing entries.\n",
    "ys = np.empty(num_steps + 1)\n",
    "zs = np.empty(num_steps + 1)\n",
    "\n",
    "# Set initial values\n",
    "xs[0], ys[0], zs[0] = (0., 1., 1.05)\n",
    "\n",
    "# Step through \"time\", calculating the partial derivatives at the current point\n",
    "# and using them to estimate the next point\n",
    "for i in range(num_steps):\n",
    "    x_dot, y_dot, z_dot = lorenz(xs[i], ys[i], zs[i])\n",
    "    xs[i + 1] = xs[i] + (x_dot * dt)\n",
    "    ys[i + 1] = ys[i] + (y_dot * dt)\n",
    "    zs[i + 1] = zs[i] + (z_dot * dt)\n",
    "\n",
    "# Plot\n",
    "fig = plt.figure()\n",
    "ax = fig.gca(\n",
    "    projection='3d')  # Get the current axes, creating one if necessary.\n",
    "\n",
    "ax.plot(xs, ys, zs, lw=0.5)\n",
    "ax.set_xlabel(\"X Axis\")\n",
    "ax.set_ylabel(\"Y Axis\")\n",
    "ax.set_zlabel(\"Z Axis\")\n",
    "ax.set_title(\"Lorenz Attractor\")\n",
    "\n",
    "plt.show()"
   ]
  },
  {
   "cell_type": "code",
   "execution_count": null,
   "metadata": {},
   "outputs": [],
   "source": []
  },
  {
   "cell_type": "code",
   "execution_count": null,
   "metadata": {},
   "outputs": [],
   "source": []
  },
  {
   "cell_type": "code",
   "execution_count": null,
   "metadata": {},
   "outputs": [],
   "source": []
  },
  {
   "cell_type": "markdown",
   "metadata": {},
   "source": [
    "### Problem №5\n",
    "\n",
    "Read toothpaste sales per month (in `data/company_sales_data.csv`) and show it as a scatter plot.\n",
    "\n",
    "Also, add a grid in the plot. Gridline style should “–“.\n",
    "The scatter plot should look like this:\n",
    "\n",
    "<center>\n",
    "<img src=\"images/matplotlib_and_pandas_exercise_4_show_scatter_plot.png\" width=\"500\" height=\"600\">\n",
    "</center>\n"
   ]
  },
  {
   "cell_type": "code",
   "execution_count": null,
   "metadata": {},
   "outputs": [],
   "source": []
  },
  {
   "cell_type": "code",
   "execution_count": null,
   "metadata": {},
   "outputs": [],
   "source": []
  },
  {
   "cell_type": "code",
   "execution_count": null,
   "metadata": {},
   "outputs": [],
   "source": []
  },
  {
   "cell_type": "markdown",
   "metadata": {},
   "source": [
    "## **Plotly**"
   ]
  },
  {
   "cell_type": "markdown",
   "metadata": {},
   "source": [
    "The next library we will have a look at is [plotly](https://plotly.com/python/) - an interactive, open-source plotting Python library that supports over 40 unique chart types covering a wide range of statistical, financial, geographic, scientific, and 3-dimensional use-cases.\n",
    "\n",
    "\"Interactive\" means that you can hover over the plot and interact with it by dragging, zooming in, clicking and selecting things around! We will showcase just a tiny bit of plotly, but you can always explore more on their [website](https://plotly.com/python/)."
   ]
  },
  {
   "cell_type": "code",
   "execution_count": null,
   "metadata": {},
   "outputs": [],
   "source": [
    "import plotly.express as px"
   ]
  },
  {
   "cell_type": "code",
   "execution_count": null,
   "metadata": {},
   "outputs": [],
   "source": [
    "df = px.data.tips()\n",
    "df"
   ]
  },
  {
   "cell_type": "code",
   "execution_count": null,
   "metadata": {},
   "outputs": [],
   "source": [
    "fig = px.density_heatmap(df, x=\"total_bill\", y=\"tip\")\n",
    "fig.show()\n",
    "\n",
    "# In a density heatmap, rows of data_frame are grouped into coloured rectangular tiles\n",
    "# to visualize the 2D distribution of an aggregate function histfunc (e.g. the count or sum) of the value z."
   ]
  },
  {
   "cell_type": "code",
   "execution_count": null,
   "metadata": {},
   "outputs": [],
   "source": [
    "fig = px.density_heatmap(df,\n",
    "                         x=\"total_bill\",\n",
    "                         y=\"tip\",\n",
    "                         marginal_x=\"histogram\",\n",
    "                         marginal_y=\"histogram\")\n",
    "fig.show()"
   ]
  },
  {
   "cell_type": "code",
   "execution_count": null,
   "metadata": {},
   "outputs": [],
   "source": [
    "fig = px.density_heatmap(df,\n",
    "                         x=\"total_bill\",\n",
    "                         y=\"tip\",\n",
    "                         facet_row=\"sex\",\n",
    "                         facet_col=\"smoker\")\n",
    "fig.show()"
   ]
  },
  {
   "cell_type": "code",
   "execution_count": null,
   "metadata": {},
   "outputs": [],
   "source": [
    "fig = px.bar(df, x=\"sex\", y=\"total_bill\", color=\"smoker\", barmode=\"group\",\n",
    "             facet_row=\"time\", facet_col=\"day\",\n",
    "             category_orders={\"day\": [\"Thur\", \"Fri\", \"Sat\", \"Sun\"],\n",
    "                              \"time\": [\"Lunch\", \"Dinner\"]})\n",
    "fig.show()"
   ]
  },
  {
   "cell_type": "code",
   "execution_count": null,
   "metadata": {},
   "outputs": [],
   "source": [
    "df = px.data.wind()\n",
    "df"
   ]
  },
  {
   "cell_type": "code",
   "execution_count": null,
   "metadata": {},
   "outputs": [],
   "source": [
    "fig = px.scatter_polar(df, r=\"frequency\", theta=\"direction\")\n",
    "fig.show()"
   ]
  },
  {
   "cell_type": "code",
   "execution_count": null,
   "metadata": {},
   "outputs": [],
   "source": [
    "fig = px.line_polar(df,\n",
    "                    r=\"frequency\",\n",
    "                    theta=\"direction\",\n",
    "                    color=\"strength\",\n",
    "                    line_close=True,\n",
    "                    color_discrete_sequence=px.colors.sequential.Plasma_r,\n",
    "                    template=\"plotly_dark\")\n",
    "\n",
    "fig.show()\n",
    "\n",
    "# In a polar line plot, each row of data_frame is represented as a vertex of a polyline mark in polar coordinates."
   ]
  },
  {
   "cell_type": "code",
   "execution_count": null,
   "metadata": {},
   "outputs": [],
   "source": [
    "import plotly.figure_factory as ff\n",
    "\n",
    "x, y = np.meshgrid(np.arange(0, 2, .2), np.arange(\n",
    "    0, 2, .2))  # Return coordinate matrices from coordinate vectors.\n",
    "u = np.cos(x) * y\n",
    "v = np.sin(x) * y\n",
    "\n",
    "fig = ff.create_quiver(x, y, u, v)  # Returns data for a quiver plot.\n",
    "fig.show()"
   ]
  },
  {
   "cell_type": "code",
   "execution_count": null,
   "metadata": {},
   "outputs": [],
   "source": [
    "# but it can do simple and basic plots too\n",
    "df = px.data.iris() # have you heard of this dataset?\n",
    "fig = px.scatter(df, x=\"sepal_width\", y=\"sepal_length\", color=\"species\",\n",
    "                 size='petal_length', hover_data=['petal_width'])\n",
    "fig.show()"
   ]
  },
  {
   "cell_type": "markdown",
   "metadata": {},
   "source": [
    "## **Seaborn**"
   ]
  },
  {
   "cell_type": "markdown",
   "metadata": {},
   "source": [
    "[Seaborn](https://seaborn.pydata.org/) is a library for making statistical graphics in Python. It builds on top of matplotlib and integrates closely with pandas data structures. What is important is that seaborn helps you explore and better understand your data - its dataset-oriented, declarative API lets you focus on what the different elements of your plots mean, rather than on the details of how to draw them. And last but definitely not the least, it has very elegant design:)"
   ]
  },
  {
   "cell_type": "code",
   "execution_count": null,
   "metadata": {},
   "outputs": [],
   "source": [
    "import seaborn as sns"
   ]
  },
  {
   "cell_type": "code",
   "execution_count": null,
   "metadata": {},
   "outputs": [],
   "source": [
    "# Load the example flights dataset and convert to long-form.\n",
    "flights_long = sns.load_dataset(\"flights\")\n",
    "flights = flights_long.pivot(\"month\", \"year\", \"passengers\")"
   ]
  },
  {
   "cell_type": "code",
   "execution_count": null,
   "metadata": {},
   "outputs": [],
   "source": [
    "flights_long"
   ]
  },
  {
   "cell_type": "code",
   "execution_count": null,
   "metadata": {},
   "outputs": [],
   "source": [
    "flights"
   ]
  },
  {
   "cell_type": "code",
   "execution_count": null,
   "metadata": {},
   "outputs": [],
   "source": [
    "# Draw a heatmap with the numeric values in each cell.\n",
    "f, ax = plt.subplots(figsize=(9, 6))\n",
    "sns.heatmap(flights, annot=True, fmt=\"d\", linewidths=.5, cmap='PuBu',\n",
    "            ax=ax)  # Plot rectangular data as a colour-encoded matrix."
   ]
  },
  {
   "cell_type": "code",
   "execution_count": null,
   "metadata": {},
   "outputs": [],
   "source": [
    "sns.set(style=\"ticks\")  # Set aesthetic parameters in one step.\n",
    "tips = sns.load_dataset(\"tips\")"
   ]
  },
  {
   "cell_type": "code",
   "execution_count": null,
   "metadata": {},
   "outputs": [],
   "source": [
    "sns.relplot(x=\"total_bill\", y=\"tip\", hue=\"day\", data=tips)"
   ]
  },
  {
   "cell_type": "code",
   "execution_count": null,
   "metadata": {},
   "outputs": [],
   "source": [
    "g = sns.relplot(x=\"total_bill\",\n",
    "                y=\"tip\",\n",
    "                hue=\"day\",\n",
    "                col=\"time\",\n",
    "                row=\"sex\",\n",
    "                data=tips)"
   ]
  },
  {
   "cell_type": "code",
   "execution_count": null,
   "metadata": {},
   "outputs": [],
   "source": [
    "g = sns.relplot(x=\"total_bill\",\n",
    "                y=\"tip\",\n",
    "                hue=\"time\",\n",
    "                size=\"size\",\n",
    "                palette=[\"b\", \"r\"],\n",
    "                sizes=(10, 100),\n",
    "                col=\"time\",\n",
    "                data=tips)"
   ]
  },
  {
   "cell_type": "code",
   "execution_count": null,
   "metadata": {},
   "outputs": [],
   "source": [
    "sns.set(style=\"whitegrid\")\n",
    "ax = sns.boxplot(x=tips[\"total_bill\"]\n",
    "                 ) \n",
    "# do you know what it represents?"
   ]
  },
  {
   "cell_type": "code",
   "execution_count": null,
   "metadata": {},
   "outputs": [],
   "source": [
    "ax = sns.boxplot(x=\"day\",\n",
    "                 y=\"total_bill\",\n",
    "                 hue=\"smoker\",\n",
    "                 data=tips,\n",
    "                 palette=\"Set3\")"
   ]
  },
  {
   "cell_type": "code",
   "execution_count": null,
   "metadata": {},
   "outputs": [],
   "source": [
    "ax = sns.violinplot(x=\"day\",\n",
    "                    y=\"total_bill\",\n",
    "                    hue=\"smoker\",\n",
    "                    data=tips,\n",
    "                    palette=\"muted\",\n",
    "                    split=True)"
   ]
  },
  {
   "cell_type": "code",
   "execution_count": null,
   "metadata": {},
   "outputs": [],
   "source": [
    "sns.regplot(x=\"total_bill\", y=\"tip\",\n",
    "                 data=tips)  # Plot data and a linear regression model fit."
   ]
  },
  {
   "cell_type": "code",
   "execution_count": null,
   "metadata": {},
   "outputs": [],
   "source": [
    "sns.set(style=\"ticks\", color_codes=True)\n",
    "iris = sns.load_dataset(\"iris\")"
   ]
  },
  {
   "cell_type": "code",
   "execution_count": null,
   "metadata": {},
   "outputs": [],
   "source": [
    "sns.pairplot(iris,\n",
    "                 hue=\"species\")  # Plot pairwise relationships in a dataset.\n",
    "\n",
    "# you might want to read what KDE is to understand the plots on the diagonal\n",
    "# https://en.wikipedia.org/wiki/Kernel_density_estimation"
   ]
  },
  {
   "cell_type": "code",
   "execution_count": null,
   "metadata": {},
   "outputs": [],
   "source": [
    "sns.pairplot(iris, kind=\"reg\") # there is actually a bit of Machine Learning happening here"
   ]
  },
  {
   "cell_type": "markdown",
   "metadata": {},
   "source": [
    "## **SciPy**"
   ]
  },
  {
   "cell_type": "markdown",
   "metadata": {},
   "source": [
    "Finally, it is important to mention [SciPy](https://docs.scipy.org/doc/scipy/reference/tutorial/index.html) - an open-source Python library used for scientific computing and technical computing. It contains modules for optimization, linear algebra, integration, interpolation, special functions, FFT, signal and image processing, ODE solvers and other tasks common in science and engineering. SciPy builds on the NumPy array object and is part of the NumPy stack which includes tools like Matplotlib, pandas and SymPy, and an expanding set of scientific computing libraries. "
   ]
  },
  {
   "cell_type": "markdown",
   "metadata": {},
   "source": [
    "### Linear Algebra"
   ]
  },
  {
   "cell_type": "code",
   "execution_count": null,
   "metadata": {},
   "outputs": [],
   "source": [
    "from scipy import linalg"
   ]
  },
  {
   "cell_type": "code",
   "execution_count": null,
   "metadata": {},
   "outputs": [],
   "source": [
    "matrix = np.array([[4, 5], [3, 2]])\n",
    "linalg.det(matrix)"
   ]
  },
  {
   "cell_type": "code",
   "execution_count": null,
   "metadata": {},
   "outputs": [],
   "source": [
    "inv_matrix = linalg.inv(matrix)  # Compute the inverse of a matrix.\n",
    "inv_matrix"
   ]
  },
  {
   "cell_type": "code",
   "execution_count": null,
   "metadata": {},
   "outputs": [],
   "source": [
    "A = np.array([[1, 2], [3, 4]])\n",
    "b = np.array([[5], [6]])"
   ]
  },
  {
   "cell_type": "code",
   "execution_count": null,
   "metadata": {},
   "outputs": [],
   "source": [
    "x = np.linalg.solve(A, b)  # Solve the equation Ax = b for x\n",
    "x"
   ]
  },
  {
   "cell_type": "markdown",
   "metadata": {},
   "source": [
    "### Statistics"
   ]
  },
  {
   "cell_type": "code",
   "execution_count": null,
   "metadata": {},
   "outputs": [],
   "source": [
    "from scipy import stats\n",
    "from scipy.stats import norm"
   ]
  },
  {
   "cell_type": "code",
   "execution_count": null,
   "metadata": {},
   "outputs": [],
   "source": [
    "a = norm.rvs(size=5)  # Random variates of a given type.\n",
    "a"
   ]
  },
  {
   "cell_type": "code",
   "execution_count": null,
   "metadata": {},
   "outputs": [],
   "source": [
    "a.mean(), a.std(), a.var()"
   ]
  },
  {
   "cell_type": "code",
   "execution_count": null,
   "metadata": {},
   "outputs": [],
   "source": [
    "r = norm.rvs(size=1000)"
   ]
  },
  {
   "cell_type": "code",
   "execution_count": null,
   "metadata": {},
   "outputs": [],
   "source": [
    "fig, ax = plt.subplots(1, 1)\n",
    "ax.hist(r, density=True, histtype='stepfilled', alpha=0.2)\n",
    "plt.show()"
   ]
  },
  {
   "cell_type": "code",
   "execution_count": null,
   "metadata": {},
   "outputs": [],
   "source": [
    "from scipy.stats import chisquare\n",
    "a = chisquare([16, 18, 16, 14, 12, 12])  # Calculate a one-way chi-square test.\n",
    "a"
   ]
  },
  {
   "cell_type": "markdown",
   "metadata": {},
   "source": [
    "### Optimisation"
   ]
  },
  {
   "cell_type": "code",
   "execution_count": null,
   "metadata": {},
   "outputs": [],
   "source": [
    "from scipy.optimize import minimize"
   ]
  },
  {
   "cell_type": "code",
   "execution_count": null,
   "metadata": {},
   "outputs": [],
   "source": [
    "def rosen(x):\n",
    "    \"\"\"The Rosenbrock function\"\"\"\n",
    "    return sum(100.0 * (x[1:] - x[:-1]**2.0)**2.0 + (1 - x[:-1])**2.0)"
   ]
  },
  {
   "cell_type": "code",
   "execution_count": null,
   "metadata": {},
   "outputs": [],
   "source": [
    "x0 = np.array([1.3, 0.7, 0.8, 1.9, 1.2])\n",
    "res = minimize(  # Minimization of a scalar function of one or more variables.\n",
    "    rosen,\n",
    "    x0,\n",
    "    method='nelder-mead',\n",
    "    options={\n",
    "        'xatol': 1e-8,\n",
    "        'disp': True\n",
    "    })"
   ]
  },
  {
   "cell_type": "code",
   "execution_count": null,
   "metadata": {},
   "outputs": [],
   "source": [
    "res.x"
   ]
  },
  {
   "cell_type": "markdown",
   "metadata": {},
   "source": [
    "### Fitting"
   ]
  },
  {
   "cell_type": "code",
   "execution_count": null,
   "metadata": {},
   "outputs": [],
   "source": [
    "# Seed the random number generator for reproducibility\n",
    "np.random.seed(123)\n",
    "\n",
    "# Generate some data from normal distribution\n",
    "data = norm.rvs(10.0, 2.5, size=500) + np.random.normal(size=500)\n",
    "\n",
    "# Fit a normal distribution to it\n",
    "mu, std = norm.fit(data)"
   ]
  },
  {
   "cell_type": "code",
   "execution_count": null,
   "metadata": {},
   "outputs": [],
   "source": [
    "# Plot the histogram\n",
    "plt.hist(data, bins=25, density=True, alpha=0.6, color='g')\n",
    "\n",
    "# Plot the PDF\n",
    "xmin, xmax = plt.xlim()\n",
    "x = np.linspace(xmin, xmax, 100)\n",
    "p = norm.pdf(x, mu, std)  # Probability density function.\n",
    "plt.plot(x, p, 'k', linewidth=2)\n",
    "title = \"Fit results: mu = %.2f,  std = %.2f\" % (mu, std)\n",
    "plt.title(title)\n",
    "plt.figure(figsize=(6, 4))\n",
    "\n",
    "plt.show()"
   ]
  },
  {
   "cell_type": "code",
   "execution_count": null,
   "metadata": {},
   "outputs": [],
   "source": [
    "from scipy.optimize import curve_fit"
   ]
  },
  {
   "cell_type": "code",
   "execution_count": null,
   "metadata": {},
   "outputs": [],
   "source": [
    "def func(x, a, b, c):\n",
    "    return a*np.exp(-b*x) + c"
   ]
  },
  {
   "cell_type": "code",
   "execution_count": null,
   "metadata": {},
   "outputs": [],
   "source": [
    "np.random.seed(123)\n",
    "xdata = np.linspace(0, 4, 50)\n",
    "y = func(xdata, 2.5, 1.3, 0.5)\n",
    "y_noise = 0.2 * np.random.normal(size=xdata.size)\n",
    "ydata = y + y_noise\n",
    "\n",
    "plt.plot(xdata, ydata, 'b-', label='data')\n",
    "plt.show()"
   ]
  },
  {
   "cell_type": "code",
   "execution_count": null,
   "metadata": {},
   "outputs": [],
   "source": [
    "popt, pcov = curve_fit(\n",
    "    func, xdata,\n",
    "    ydata)  # Use non-linear least squares to fit a function to data.\n",
    "popt"
   ]
  },
  {
   "cell_type": "code",
   "execution_count": null,
   "metadata": {},
   "outputs": [],
   "source": [
    "plt.plot(xdata,\n",
    "         func(xdata, *popt),\n",
    "         'r-',\n",
    "         label='fit: a=%5.3f, b=%5.3f, c=%5.3f' % tuple(popt))\n",
    "plt.xlabel('x')\n",
    "plt.ylabel('y')\n",
    "plt.legend()\n",
    "plt.show()"
   ]
  },
  {
   "cell_type": "code",
   "execution_count": null,
   "metadata": {},
   "outputs": [],
   "source": [
    "plt.plot(xdata, ydata, 'b-', label='data')\n",
    "\n",
    "###\n",
    "popt, pcov = curve_fit(func, xdata, ydata)\n",
    "plt.plot(xdata,\n",
    "         func(xdata, *popt),\n",
    "         'r-',\n",
    "         label='fit: a=%5.3f, b=%5.3f, c=%5.3f' % tuple(popt))\n",
    "plt.xlabel('x')\n",
    "plt.ylabel('y')\n",
    "plt.legend()\n",
    "#plt.show()\n",
    "\n",
    "# Constrain the optimization to the region of 0 <= a <= 3, 0 <= b <= 1 and 0 <= c <= 0.5\n",
    "popt, pcov = curve_fit(func, xdata, ydata, bounds=(0, [3., 1., 0.5]))\n",
    "\n",
    "plt.plot(xdata,\n",
    "         func(xdata, *popt),\n",
    "         'g--',\n",
    "         label='fit: a=%5.3f, b=%5.3f, c=%5.3f' % tuple(popt))\n",
    "plt.xlabel('x')\n",
    "plt.ylabel('y')\n",
    "plt.legend()\n",
    "#plt.show()"
   ]
  },
  {
   "cell_type": "markdown",
   "metadata": {},
   "source": [
    "### Problem №6\n",
    "\n",
    "Fit the following data with a function $f(x) = a\\cdot\\sin(bx)$, where $a$ and $b$ are the fit parameters, and plot corresponding results:"
   ]
  },
  {
   "cell_type": "code",
   "execution_count": null,
   "metadata": {},
   "outputs": [],
   "source": [
    "x_data = np.linspace(-5, 5, num=50)\n",
    "y_data = 2.9 * np.sin(1.5 * x_data) + np.random.normal(size=50)\n",
    "\n",
    "plt.figure(figsize=(6, 4))\n",
    "plt.scatter(x_data, y_data)\n",
    "plt.show()"
   ]
  },
  {
   "cell_type": "markdown",
   "metadata": {},
   "source": [
    "<center>\n",
    "<img src=\"images/mememe_cb8e239ef97eb73a7d04ecf46ed4bf5c-1.jpg\" alt=\"YOU-ROCK\" width=\"500\" height=\"600\">\n",
    "</center>"
   ]
  },
  {
   "cell_type": "code",
   "execution_count": null,
   "metadata": {},
   "outputs": [],
   "source": []
  }
 ],
 "metadata": {
  "colab": {
   "collapsed_sections": [],
   "name": "Libraries.ipynb",
   "provenance": [],
   "toc_visible": true
  },
  "kernelspec": {
   "display_name": "ml-lpi",
   "language": "python",
   "name": "ml-lpi"
  },
  "language_info": {
   "codemirror_mode": {
    "name": "ipython",
    "version": 3
   },
   "file_extension": ".py",
   "mimetype": "text/x-python",
   "name": "python",
   "nbconvert_exporter": "python",
   "pygments_lexer": "ipython3",
   "version": "3.8.5"
  },
  "nteract": {
   "version": "0.21.0"
  }
 },
 "nbformat": 4,
 "nbformat_minor": 4
}
