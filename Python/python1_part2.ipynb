{
 "cells": [
  {
   "cell_type": "markdown",
   "metadata": {
    "colab_type": "text",
    "id": "rHKmw61Il80a"
   },
   "source": [
    "## **Functions**"
   ]
  },
  {
   "cell_type": "markdown",
   "metadata": {},
   "source": [
    "Before we proceed to functions it is important to note the differences between **global and local namespaces** and also about **how things are passed into functions**. This is quite an important topic to be aware of (for example, to not overwrite variables from inside of the function), so we highly recommend you to browse through [this article](https://realpython.com/python-namespaces-scope/) to get more insights."
   ]
  },
  {
   "cell_type": "code",
   "execution_count": null,
   "metadata": {
    "colab": {},
    "colab_type": "code",
    "id": "igddBBlblfkO"
   },
   "outputs": [],
   "source": [
    "def my_function(x):\n",
    "    return x**2"
   ]
  },
  {
   "cell_type": "code",
   "execution_count": null,
   "metadata": {},
   "outputs": [],
   "source": [
    "def my_function(x):\n",
    "    def my_second_function(y):\n",
    "        return y**2\n",
    "    return x**2\n",
    "\n",
    "for i in range(5):\n",
    "    print(i, my_function(i))"
   ]
  },
  {
   "cell_type": "code",
   "execution_count": null,
   "metadata": {},
   "outputs": [],
   "source": [
    "def my_function(x):\n",
    "    pass # return nothing\n",
    "\n",
    "for i in range(5):\n",
    "    print(i, my_function(i))"
   ]
  },
  {
   "cell_type": "code",
   "execution_count": null,
   "metadata": {},
   "outputs": [],
   "source": [
    "def my_function(x, y):\n",
    "    return x**y\n",
    "\n",
    "\n",
    "k = 2\n",
    "for i in range(5):\n",
    "    print(i, '**', k, 'is', my_function(i, k))"
   ]
  },
  {
   "cell_type": "code",
   "execution_count": null,
   "metadata": {},
   "outputs": [],
   "source": [
    "def my_function(x, y):\n",
    "    return x**y, x, y  # Do you agree that this is easier than C/C++ can do?\n",
    "\n",
    "k = 2\n",
    "for i in range(5):\n",
    "    print(i, '**', k, 'is', my_function(i, k))"
   ]
  },
  {
   "cell_type": "markdown",
   "metadata": {},
   "source": [
    "### Lambda function"
   ]
  },
  {
   "cell_type": "code",
   "execution_count": null,
   "metadata": {},
   "outputs": [],
   "source": [
    "def my_function(x):\n",
    "    return x**2"
   ]
  },
  {
   "cell_type": "code",
   "execution_count": null,
   "metadata": {},
   "outputs": [],
   "source": [
    "# for such simple functions one can use lambda:\n",
    "my_lambda_function = lambda x: x**2\n",
    "\n",
    "for i in range(5):\n",
    "    print(i, my_function(i), my_lambda_function(i))"
   ]
  },
  {
   "cell_type": "code",
   "execution_count": null,
   "metadata": {},
   "outputs": [],
   "source": [
    "func = lambda x, y: x + y\n",
    "func(4, 6)"
   ]
  },
  {
   "cell_type": "code",
   "execution_count": null,
   "metadata": {},
   "outputs": [],
   "source": [
    "func = lambda x, y: x + y\n",
    "func('a', 'b')"
   ]
  },
  {
   "cell_type": "code",
   "execution_count": null,
   "metadata": {},
   "outputs": [],
   "source": [
    "func = lambda x, y: x + y\n",
    "func(5, 'b')"
   ]
  },
  {
   "cell_type": "code",
   "execution_count": null,
   "metadata": {},
   "outputs": [],
   "source": [
    "(lambda x, y: x + y)(1, 2)"
   ]
  },
  {
   "cell_type": "code",
   "execution_count": null,
   "metadata": {},
   "outputs": [],
   "source": [
    "(lambda x, y: x + y)('a', 'b')"
   ]
  },
  {
   "cell_type": "code",
   "execution_count": null,
   "metadata": {},
   "outputs": [],
   "source": [
    "(lambda x, y: x**y)(3, 3)"
   ]
  },
  {
   "cell_type": "markdown",
   "metadata": {},
   "source": [
    "### args and kwargs"
   ]
  },
  {
   "cell_type": "code",
   "execution_count": null,
   "metadata": {},
   "outputs": [],
   "source": [
    "func = lambda *args: args\n",
    "func(1, 2, 3, 4)"
   ]
  },
  {
   "cell_type": "code",
   "execution_count": null,
   "metadata": {},
   "outputs": [],
   "source": [
    "func = lambda *args: args\n",
    "func(1, 2, 'z', 'x')"
   ]
  },
  {
   "cell_type": "markdown",
   "metadata": {},
   "source": [
    "In Python, we can pass a variable number of arguments to a function using [special symbols](https://docs.python.org/3/tutorial/controlflow.html#keyword-arguments). There are two special symbols:\n",
    "\n",
    "***args (Non-Keyword Arguments)**  \n",
    "****kwargs (Keyword Arguments)**\n",
    "\n",
    "We use \\*args and **kwargs as an argument when we are unsure about the number of arguments to pass in the functions."
   ]
  },
  {
   "cell_type": "code",
   "execution_count": null,
   "metadata": {},
   "outputs": [],
   "source": [
    "def adder(*nums):  # nums = args, you don't have to call it args all the time\n",
    "    sum = 0\n",
    "    for n in nums:\n",
    "        sum += n\n",
    "    print(\"Sum: \", sum)\n",
    "\n",
    "\n",
    "adder(3, 5)\n",
    "adder(4, 5, 6, 7)\n",
    "adder(1, 2, 3, 5, 6)"
   ]
  },
  {
   "cell_type": "code",
   "execution_count": null,
   "metadata": {},
   "outputs": [],
   "source": [
    "def adder(**nums): \n",
    "    sum = 0\n",
    "    for n in nums:\n",
    "        sum += n\n",
    "    print(\"Sum: \", sum)\n",
    "\n",
    "\n",
    "adder(3, 5)\n",
    "adder(4, 5, 6, 7)\n",
    "adder(1, 2, 3, 5, 6)"
   ]
  },
  {
   "cell_type": "code",
   "execution_count": null,
   "metadata": {},
   "outputs": [],
   "source": [
    "def intro(**data):\n",
    "    print(\"\\nData type of argument: \", type(data))\n",
    "    for key, value in data.items():\n",
    "        print(f\"{key} is {value}\")\n",
    "\n",
    "\n",
    "intro(Firstname=\"Sita\", Lastname=\"Sharma\", Age=22, Phone=1234567890)"
   ]
  },
  {
   "cell_type": "code",
   "execution_count": null,
   "metadata": {},
   "outputs": [],
   "source": [
    "def intro(**data):\n",
    "    print(\"\\nData type of argument: \", type(data))\n",
    "    for key, value in data.items():\n",
    "        print(\"{} is {}\".format(key, value))\n",
    "\n",
    "\n",
    "intro(Firstname=\"John\",\n",
    "      Lastname=\"Wood\",\n",
    "      Email=\"johnwood@nomail.com\",\n",
    "      Country=\"Wakanda\",\n",
    "      Age=25,\n",
    "      Phone=9876543210)"
   ]
  },
  {
   "cell_type": "code",
   "execution_count": null,
   "metadata": {},
   "outputs": [],
   "source": [
    "def intro(*data):\n",
    "    print(\"\\nData type of argument: \", type(data))\n",
    "    for key, value in data.items():\n",
    "        print(\"{} is {}\".format(key, value))\n",
    "\n",
    "\n",
    "intro(Firstname=\"John\",\n",
    "      Lastname=\"Wood\",\n",
    "      Email=\"johnwood@nomail.com\",\n",
    "      Country=\"Wakanda\",\n",
    "      Age=25,\n",
    "      Phone=9876543210)"
   ]
  },
  {
   "cell_type": "code",
   "execution_count": null,
   "metadata": {},
   "outputs": [],
   "source": [
    "a = [1, 2, 3]\n",
    "b = [*a, 4, 5, 6]\n",
    "print(b)\n",
    "b"
   ]
  },
  {
   "cell_type": "code",
   "execution_count": null,
   "metadata": {},
   "outputs": [],
   "source": [
    "a = [1, 2, 3]\n",
    "b = [a, 4, 5, 6]\n",
    "print(b)"
   ]
  },
  {
   "cell_type": "code",
   "execution_count": null,
   "metadata": {},
   "outputs": [],
   "source": [
    "a = {'first': 1, 'second': 2, 'third': 3}\n",
    "b = {**a, 'forth': 4}\n",
    "print(b)"
   ]
  },
  {
   "cell_type": "code",
   "execution_count": null,
   "metadata": {},
   "outputs": [],
   "source": [
    "def print_scores(student, *scores):\n",
    "    print(f\"Student Name: {student}\")\n",
    "    for score in scores:\n",
    "        print(score)\n",
    "\n",
    "\n",
    "print_scores(\"Jonathan\", 100, 95, 88, 92, 99)"
   ]
  },
  {
   "cell_type": "code",
   "execution_count": null,
   "metadata": {},
   "outputs": [],
   "source": [
    "def print_scores(student, *scores):\n",
    "    print(f\"Student Name: {student}\")\n",
    "    for score in scores:\n",
    "        print(score)\n",
    "\n",
    "\n",
    "print_scores(100, 95, 88, 92, 99)"
   ]
  },
  {
   "cell_type": "code",
   "execution_count": null,
   "metadata": {},
   "outputs": [],
   "source": [
    "def print_pet_names(owner, **pets):\n",
    "    print(f\"Owner Name: {owner}\")\n",
    "    for pet, name in pets.items():\n",
    "        print(f\"{pet}: {name}\")\n",
    "\n",
    "\n",
    "print_pet_names(\"Jonathan\",\n",
    "              dog=\"Brock\",\n",
    "              fish=[\"Larry\", \"Curly\", \"Moe\"],\n",
    "              turtle=\"Shelldon\")"
   ]
  },
  {
   "cell_type": "code",
   "execution_count": null,
   "metadata": {},
   "outputs": [],
   "source": [
    "def my_function(*argc):\n",
    "    print(type(argc))\n",
    "    return argc\n",
    "\n",
    "\n",
    "my_function(1, 2, 't')"
   ]
  },
  {
   "cell_type": "code",
   "execution_count": null,
   "metadata": {},
   "outputs": [],
   "source": [
    "def my_function(*argc):\n",
    "    print(type(argc))\n",
    "    return argc\n",
    "\n",
    "\n",
    "my_function(1, 2, 't', d=3)"
   ]
  },
  {
   "cell_type": "code",
   "execution_count": null,
   "metadata": {},
   "outputs": [],
   "source": [
    "def my_function(**argc):\n",
    "    print(type(argc))\n",
    "    return argc\n",
    "\n",
    "\n",
    "my_function(a=1, b=2, c='t')"
   ]
  },
  {
   "cell_type": "code",
   "execution_count": null,
   "metadata": {},
   "outputs": [],
   "source": [
    "def my_function(q, *AAA, **BBB):\n",
    "    print(type(q))\n",
    "    print(type(AAA))\n",
    "    print(type(BBB))\n",
    "    return q, AAA, BBB\n",
    "\n",
    "\n",
    "my_function(4, 111, 1, 2, 3, a='t', b=56, c='4t', d='45')"
   ]
  },
  {
   "cell_type": "code",
   "execution_count": null,
   "metadata": {},
   "outputs": [],
   "source": [
    "# Important: *name must occur before **name.\n",
    "\n",
    "def my_function(q, **BBB, *AAA):\n",
    "    print(type(q))\n",
    "    print(type(AAA))\n",
    "    print(type(BBB))\n",
    "    return q, AAA, BBB\n",
    "\n",
    "\n",
    "my_function(4, a='t', b=56, c='4t', d='45', 111, 1, 2, 3)"
   ]
  },
  {
   "cell_type": "code",
   "execution_count": null,
   "metadata": {
    "colab": {},
    "colab_type": "code",
    "id": "Xn5yZ3ZNOt7R",
    "scrolled": true
   },
   "outputs": [],
   "source": [
    "def some_function(argument1, argument2):\n",
    "    print(argument1 + argument2)\n",
    "\n",
    "\n",
    "some_function(3, 8)\n",
    "some_function(['foo'], ['bar'])"
   ]
  },
  {
   "cell_type": "code",
   "execution_count": null,
   "metadata": {
    "colab": {},
    "colab_type": "code",
    "id": "mm4QBW3DPJlO"
   },
   "outputs": [],
   "source": [
    "# you can specify default value for arguments\n",
    "def some_function(argument1, argument2=42):\n",
    "    print(\"{} ----- {}\".format(argument1, argument2))\n",
    "\n",
    "\n",
    "some_function(18)\n",
    "some_function(18, 19)\n",
    "some_function(argument2=19, argument1=18)\n",
    "\n",
    "some_function(some_function)"
   ]
  },
  {
   "cell_type": "markdown",
   "metadata": {},
   "source": [
    "### Problem №6 "
   ]
  },
  {
   "cell_type": "markdown",
   "metadata": {},
   "source": [
    "Write a Python function to find the max of three numbers.  \n",
    "You have -1, 5 and -100."
   ]
  },
  {
   "cell_type": "markdown",
   "metadata": {},
   "source": [
    "### Problem №7"
   ]
  },
  {
   "cell_type": "markdown",
   "metadata": {},
   "source": [
    "Write a Python program to reverse a string.  \n",
    "You have `my_string = 'qwerty0987'`"
   ]
  },
  {
   "cell_type": "markdown",
   "metadata": {},
   "source": [
    "### Problem №8"
   ]
  },
  {
   "cell_type": "markdown",
   "metadata": {},
   "source": [
    "Write a Python function that takes a list and returns a new list with unique elements of the first list preserving the elements' order.  \n",
    "You have `my_list = [1, 2, 3, 't', 3, 't', 4, 5, 'q']`"
   ]
  },
  {
   "cell_type": "markdown",
   "metadata": {},
   "source": [
    "## **Reading/writing files**"
   ]
  },
  {
   "cell_type": "code",
   "execution_count": null,
   "metadata": {},
   "outputs": [],
   "source": [
    "# have a look here for more: https://docs.python.org/3/tutorial/inputoutput.html"
   ]
  },
  {
   "cell_type": "code",
   "execution_count": null,
   "metadata": {},
   "outputs": [],
   "source": [
    "f = open('./data/file.txt', 'r')"
   ]
  },
  {
   "cell_type": "code",
   "execution_count": null,
   "metadata": {},
   "outputs": [],
   "source": [
    "f.read()"
   ]
  },
  {
   "cell_type": "code",
   "execution_count": null,
   "metadata": {},
   "outputs": [],
   "source": [
    "f = open('./data/file.txt', 'r')\n",
    "f.read(20)"
   ]
  },
  {
   "cell_type": "code",
   "execution_count": null,
   "metadata": {},
   "outputs": [],
   "source": [
    "f.read()"
   ]
  },
  {
   "cell_type": "code",
   "execution_count": null,
   "metadata": {},
   "outputs": [],
   "source": [
    "f = open('./data/file.txt')\n",
    "for line in f:\n",
    "    print(line)"
   ]
  },
  {
   "cell_type": "code",
   "execution_count": null,
   "metadata": {},
   "outputs": [],
   "source": [
    "f = open('./data/file.txt')\n",
    "for line in f:\n",
    "    line\n",
    "\n",
    "line"
   ]
  },
  {
   "cell_type": "code",
   "execution_count": null,
   "metadata": {},
   "outputs": [],
   "source": [
    "!rm ./data/nofile.txt && ls ./data/nofile.txt"
   ]
  },
  {
   "cell_type": "code",
   "execution_count": null,
   "metadata": {},
   "outputs": [],
   "source": [
    "f = open('./data/nofile.txt')"
   ]
  },
  {
   "cell_type": "code",
   "execution_count": null,
   "metadata": {},
   "outputs": [],
   "source": [
    "# Do you understand the error?"
   ]
  },
  {
   "cell_type": "code",
   "execution_count": null,
   "metadata": {},
   "outputs": [],
   "source": [
    "f = open('./data/nofile.txt', 'a+')"
   ]
  },
  {
   "cell_type": "code",
   "execution_count": null,
   "metadata": {},
   "outputs": [],
   "source": [
    "!ls -la > ./data/nofile.txt"
   ]
  },
  {
   "cell_type": "code",
   "execution_count": null,
   "metadata": {},
   "outputs": [],
   "source": [
    "f.read()"
   ]
  },
  {
   "cell_type": "code",
   "execution_count": null,
   "metadata": {},
   "outputs": [],
   "source": [
    "f = open('./data/nofile.txt')\n",
    "for line in f:\n",
    "    print(line)"
   ]
  },
  {
   "cell_type": "code",
   "execution_count": null,
   "metadata": {},
   "outputs": [],
   "source": [
    "l = [str(i) + str(i - 1) for i in range(20)]\n",
    "l"
   ]
  },
  {
   "cell_type": "code",
   "execution_count": null,
   "metadata": {},
   "outputs": [],
   "source": [
    "w = open('./data/text.txt', 'w+')"
   ]
  },
  {
   "cell_type": "code",
   "execution_count": null,
   "metadata": {},
   "outputs": [],
   "source": [
    "w = open('./data/text.txt')\n",
    "for line in f:\n",
    "    print(line)"
   ]
  },
  {
   "cell_type": "code",
   "execution_count": null,
   "metadata": {},
   "outputs": [],
   "source": [
    "w = open('./data/text.txt', 'w+')\n",
    "for line in f:\n",
    "    print(line)"
   ]
  },
  {
   "cell_type": "code",
   "execution_count": null,
   "metadata": {},
   "outputs": [],
   "source": [
    "for index in l:\n",
    "    w.write(index + '\\n')"
   ]
  },
  {
   "cell_type": "code",
   "execution_count": null,
   "metadata": {},
   "outputs": [],
   "source": [
    "w.read()"
   ]
  },
  {
   "cell_type": "code",
   "execution_count": null,
   "metadata": {},
   "outputs": [],
   "source": [
    "w = open('./data/text.txt')\n",
    "for line in f:\n",
    "    print(line)"
   ]
  },
  {
   "cell_type": "code",
   "execution_count": null,
   "metadata": {},
   "outputs": [],
   "source": [
    "f.close()\n",
    "w.close()"
   ]
  },
  {
   "cell_type": "code",
   "execution_count": null,
   "metadata": {},
   "outputs": [],
   "source": [
    "w = open('./data/text.txt', 'r')\n",
    "l = [line.strip() for line in w]\n",
    "l"
   ]
  },
  {
   "cell_type": "code",
   "execution_count": null,
   "metadata": {},
   "outputs": [],
   "source": [
    "f = open('./data/text.txt', 'r')\n",
    "l = [line.strip() for line in f]\n",
    "l"
   ]
  },
  {
   "cell_type": "code",
   "execution_count": null,
   "metadata": {},
   "outputs": [],
   "source": [
    "f = open('./data/text.txt')\n",
    "for line in f:\n",
    "    print(line)\n",
    "\n",
    "f.close()"
   ]
  },
  {
   "cell_type": "code",
   "execution_count": null,
   "metadata": {},
   "outputs": [],
   "source": [
    "f = open('./data/text.txt')\n",
    "for line in f:\n",
    "    print(line)\n",
    "\n",
    "f.close()\n",
    "f.read()"
   ]
  },
  {
   "cell_type": "code",
   "execution_count": null,
   "metadata": {},
   "outputs": [],
   "source": [
    "# Do you understand the previous error?"
   ]
  },
  {
   "cell_type": "code",
   "execution_count": null,
   "metadata": {},
   "outputs": [],
   "source": [
    "# It is good practice to use the with keyword when dealing with file objects. \n",
    "# The advantage is that the file is properly closed after its suite finishes, even if an exception is raised at some point. \n",
    "\n",
    "with open(\"./data/test.txt\", \"a\") as f:\n",
    "    f.write(\"Line\\n\")  # We write the line to the end of the file 'test.txt'"
   ]
  },
  {
   "cell_type": "code",
   "execution_count": null,
   "metadata": {},
   "outputs": [],
   "source": [
    "f = open('./data/text.txt')"
   ]
  },
  {
   "cell_type": "code",
   "execution_count": null,
   "metadata": {},
   "outputs": [],
   "source": [
    "f.\n",
    "# Press 'Tab'"
   ]
  },
  {
   "cell_type": "code",
   "execution_count": null,
   "metadata": {},
   "outputs": [],
   "source": [
    "del f, w"
   ]
  },
  {
   "cell_type": "code",
   "execution_count": null,
   "metadata": {},
   "outputs": [],
   "source": [
    "f.\n",
    "# Press 'Tab'"
   ]
  },
  {
   "cell_type": "code",
   "execution_count": null,
   "metadata": {},
   "outputs": [],
   "source": [
    "open('./data/file.txt').name"
   ]
  },
  {
   "cell_type": "code",
   "execution_count": null,
   "metadata": {},
   "outputs": [],
   "source": [
    "a = open('./data/file.txt').readable()\n",
    "a"
   ]
  },
  {
   "cell_type": "code",
   "execution_count": null,
   "metadata": {},
   "outputs": [],
   "source": [
    "open('./data/file.txt').readlines()"
   ]
  },
  {
   "cell_type": "code",
   "execution_count": null,
   "metadata": {},
   "outputs": [],
   "source": [
    "b = open('./data/file.txt').writable()\n",
    "b"
   ]
  },
  {
   "cell_type": "code",
   "execution_count": null,
   "metadata": {},
   "outputs": [],
   "source": [
    "c = open('./data/file.txt', 'w').writable()\n",
    "c"
   ]
  },
  {
   "cell_type": "code",
   "execution_count": null,
   "metadata": {},
   "outputs": [],
   "source": [
    "!ls > ./data/file.txt\n",
    "\n",
    "# We do it because the previous cell deletes all information if the file. So we need to add something."
   ]
  },
  {
   "cell_type": "code",
   "execution_count": null,
   "metadata": {},
   "outputs": [],
   "source": [
    "c = open('./data/file.txt', 'w').writable()\n",
    "c"
   ]
  },
  {
   "cell_type": "code",
   "execution_count": null,
   "metadata": {},
   "outputs": [],
   "source": [
    "!ls > ./data/file.txt\n",
    "\n",
    "# We do it because the previous cell deletes all information if the file. So we need to add something."
   ]
  },
  {
   "cell_type": "code",
   "execution_count": null,
   "metadata": {},
   "outputs": [],
   "source": [
    "c = open('./data/file.txt', 'r').writable()\n",
    "c"
   ]
  },
  {
   "cell_type": "code",
   "execution_count": null,
   "metadata": {},
   "outputs": [],
   "source": [
    "d = open('./data/file.txt', 'a').writable()\n",
    "d"
   ]
  },
  {
   "cell_type": "code",
   "execution_count": null,
   "metadata": {},
   "outputs": [],
   "source": [
    "d = open('./data/file.txt', 'a').readable()\n",
    "d"
   ]
  },
  {
   "cell_type": "code",
   "execution_count": null,
   "metadata": {},
   "outputs": [],
   "source": [
    "d = open('./data/file.txt', 'a+').readable()\n",
    "d"
   ]
  },
  {
   "cell_type": "code",
   "execution_count": null,
   "metadata": {},
   "outputs": [],
   "source": [
    "d = open('./data/file.txt', 'a+').writable()\n",
    "d"
   ]
  },
  {
   "cell_type": "markdown",
   "metadata": {},
   "source": [
    "### Problem №9"
   ]
  },
  {
   "cell_type": "markdown",
   "metadata": {},
   "source": [
    "Write a python program to find the longest words in the 'file.txt' from the \"data\" folder.  \n",
    "Below you can see the information from the file."
   ]
  },
  {
   "cell_type": "code",
   "execution_count": null,
   "metadata": {},
   "outputs": [],
   "source": [
    "!cat ./data/file.txt"
   ]
  },
  {
   "cell_type": "markdown",
   "metadata": {},
   "source": [
    "## **Modules**"
   ]
  },
  {
   "cell_type": "code",
   "execution_count": null,
   "metadata": {},
   "outputs": [],
   "source": [
    "# have a look here for more: https://docs.python.org/3/tutorial/modules.html"
   ]
  },
  {
   "cell_type": "code",
   "execution_count": null,
   "metadata": {},
   "outputs": [],
   "source": [
    "import math\n",
    "\n",
    "math.ceil(4.3)"
   ]
  },
  {
   "cell_type": "code",
   "execution_count": null,
   "metadata": {},
   "outputs": [],
   "source": [
    "math.ceil(-1.4)"
   ]
  },
  {
   "cell_type": "code",
   "execution_count": null,
   "metadata": {},
   "outputs": [],
   "source": [
    "math.fabs(-4)"
   ]
  },
  {
   "cell_type": "code",
   "execution_count": null,
   "metadata": {},
   "outputs": [],
   "source": [
    "math.hypot(3, 4)  # math.sqrt(x * x + y * y) or hypotenuse"
   ]
  },
  {
   "cell_type": "code",
   "execution_count": null,
   "metadata": {},
   "outputs": [],
   "source": [
    "math.sinh(3)"
   ]
  },
  {
   "cell_type": "code",
   "execution_count": null,
   "metadata": {
    "scrolled": true
   },
   "outputs": [],
   "source": [
    "from math import factorial\n",
    "\n",
    "for i in range(1, 10):\n",
    "    print(factorial(i))"
   ]
  },
  {
   "cell_type": "code",
   "execution_count": null,
   "metadata": {},
   "outputs": [],
   "source": [
    "!cat ./modules/mymodule.py"
   ]
  },
  {
   "cell_type": "code",
   "execution_count": null,
   "metadata": {},
   "outputs": [],
   "source": [
    "import modules.mymodule as mymodule\n",
    "\n",
    "mymodule.greeting(\"Jonathan\")"
   ]
  },
  {
   "cell_type": "code",
   "execution_count": null,
   "metadata": {},
   "outputs": [],
   "source": [
    "# When importing a file, Python only searches the current directory,\n",
    "# the directory that the entry-point script is running from, and sys.path which includes\n",
    "# locations such as the package installation directory (it's a little more complex than this,\n",
    "# but this covers most cases).\n",
    "\n",
    "import sys\n",
    "sys.path.append('./modules/.')"
   ]
  },
  {
   "cell_type": "code",
   "execution_count": null,
   "metadata": {},
   "outputs": [],
   "source": [
    "# Note that if you add a path with sys.path.append() you do this only for the current session. No need to undo it.\n",
    "# Just remove the line from you python file.\n",
    "\n",
    "# Also you can use sys.path.pop()\n",
    "# Remove and return item at index (default last).\n",
    "# Or sys.path.remove()"
   ]
  },
  {
   "cell_type": "code",
   "execution_count": null,
   "metadata": {},
   "outputs": [],
   "source": [
    "import mymodule\n",
    "\n",
    "mymodule.greeting(\"Jonathan\")"
   ]
  },
  {
   "cell_type": "code",
   "execution_count": null,
   "metadata": {},
   "outputs": [],
   "source": [
    "import mymodule as mx\n",
    "\n",
    "mx.greeting(\"Ann\")"
   ]
  },
  {
   "cell_type": "code",
   "execution_count": null,
   "metadata": {},
   "outputs": [],
   "source": [
    "!cat ./modules/mymodule2.py"
   ]
  },
  {
   "cell_type": "code",
   "execution_count": null,
   "metadata": {},
   "outputs": [],
   "source": [
    "import mymodule2\n",
    "\n",
    "a = mymodule2.person1[\"age\"]\n",
    "print(a)"
   ]
  },
  {
   "cell_type": "code",
   "execution_count": null,
   "metadata": {},
   "outputs": [],
   "source": [
    "x = dir(math)\n",
    "print(x)"
   ]
  },
  {
   "cell_type": "code",
   "execution_count": null,
   "metadata": {},
   "outputs": [],
   "source": [
    "x = dir(mymodule)\n",
    "print(x)"
   ]
  },
  {
   "cell_type": "code",
   "execution_count": null,
   "metadata": {},
   "outputs": [],
   "source": [
    "x = dir(mymodule2)\n",
    "print(x)"
   ]
  },
  {
   "cell_type": "code",
   "execution_count": null,
   "metadata": {},
   "outputs": [],
   "source": [
    "!cat ./modules/mymodule3.py"
   ]
  },
  {
   "cell_type": "code",
   "execution_count": null,
   "metadata": {},
   "outputs": [],
   "source": [
    "from mymodule3 import person1\n",
    "\n",
    "print(person1[\"country\"])"
   ]
  },
  {
   "cell_type": "markdown",
   "metadata": {},
   "source": [
    "## **Object-oriented programming**"
   ]
  },
  {
   "cell_type": "markdown",
   "metadata": {},
   "source": [
    "We will definitely not be able to cover entire OOP topic here, so we'll just give you a glimpse of what the classes are and how they function in Python. We encourage you to have a look [here](https://docs.python.org/3/tutorial/classes.html) for a more detailed overview and also at one of the courses, which we mentioned at the beginning of the first part notebook (namely, [this](https://github.com/MelLain/mipt-python/blob/master/lectures/pdf/mipt-python-classes.pdf) and [this](https://github.com/stanfordpython/course-reader/blob/master/3-object-oriented-python.md) lectures)"
   ]
  },
  {
   "cell_type": "markdown",
   "metadata": {},
   "source": [
    "### What is a Class?\n",
    "\n",
    "A class is a structure in Python that can be used as a blueprint to create objects that have\n",
    "\n",
    "1. prototyped features or **attributes**, which are variable\n",
    "2. **methods**, which are functions that can be applied to the object that is created, or rather, an instance of that class. "
   ]
  },
  {
   "cell_type": "markdown",
   "metadata": {},
   "source": [
    "### Defining a Class\n",
    "\n",
    "Let's say we want to define a class called *Client* in which a new instance stores a client's name, balance, and account level.\n",
    "It will take the format of:\n",
    "    \n",
    "    class Client(object):\n",
    "        def __init__(self, args[, ...])\n",
    "            #more code\n",
    "            \n",
    "`def __init__(self, ...)` defines how the instances of the class will be initialised."
   ]
  },
  {
   "cell_type": "code",
   "execution_count": null,
   "metadata": {},
   "outputs": [],
   "source": [
    "# Creating the Client class\n",
    "\n",
    "class Client(object):\n",
    "    def __init__(self, name, balance):\n",
    "        self.name = name\n",
    "        self.balance = balance + 100\n",
    "\n",
    "        #define account level\n",
    "        if self.balance < 5000:\n",
    "            self.level = \"Basic\"\n",
    "        elif self.balance < 15000:\n",
    "            self.level = \"Intermediate\"\n",
    "        else:\n",
    "            self.level = \"Advanced\""
   ]
  },
  {
   "cell_type": "markdown",
   "metadata": {},
   "source": [
    "The **attributes** in *Client* are *name, balance* and *level*. \n",
    "\n",
    "**Note**: `self.name` and `name` are different variables. Here they represent the same values, but in other cases, this may lead to problems. For example, here the bank has decided to update `self.balance` by giving all new members a bonus $100 on top of what they're putting in the bank. Calling `balance` for other calculations will not have the correct value. So `self.balance`  belongs to a class instance, while `balance` is something which we input to a class."
   ]
  },
  {
   "cell_type": "markdown",
   "metadata": {},
   "source": [
    "### Creating an Instance of a Class\n",
    "\n",
    "Now, let's try creating some new clients named John_Doe, and Jane_Defoe:"
   ]
  },
  {
   "cell_type": "code",
   "execution_count": null,
   "metadata": {},
   "outputs": [],
   "source": [
    "John_Doe = Client(\"John Doe\", 500)\n",
    "Jane_Defoe = Client(\"Jane Defoe\", 150000)"
   ]
  },
  {
   "cell_type": "markdown",
   "metadata": {},
   "source": [
    "We can see the attributes of John_Doe, or Jane_Defoe by calling them:"
   ]
  },
  {
   "cell_type": "code",
   "execution_count": null,
   "metadata": {},
   "outputs": [],
   "source": [
    "print(John_Doe.name)\n",
    "print(Jane_Defoe.level)\n",
    "print(Jane_Defoe.balance)"
   ]
  },
  {
   "cell_type": "markdown",
   "metadata": {},
   "source": [
    "We can also add, remove or modify attributes as we like:"
   ]
  },
  {
   "cell_type": "code",
   "execution_count": null,
   "metadata": {},
   "outputs": [],
   "source": [
    "John_Doe.email = \"jdoe23@gmail.com\"\n",
    "John_Doe.email"
   ]
  },
  {
   "cell_type": "code",
   "execution_count": null,
   "metadata": {},
   "outputs": [],
   "source": [
    "John_Doe.email = \"johndoe23@gmail.com\"\n",
    "John_Doe.email"
   ]
  },
  {
   "cell_type": "code",
   "execution_count": null,
   "metadata": {},
   "outputs": [],
   "source": [
    "del John_Doe.email"
   ]
  },
  {
   "cell_type": "code",
   "execution_count": null,
   "metadata": {},
   "outputs": [],
   "source": [
    "John_Doe.email"
   ]
  },
  {
   "cell_type": "code",
   "execution_count": null,
   "metadata": {},
   "outputs": [],
   "source": [
    "getattr(\n",
    "    John_Doe, 'name'\n",
    ")  # Get a named attribute from an object; getattr(x, 'y') is equivalent to x.y."
   ]
  },
  {
   "cell_type": "code",
   "execution_count": null,
   "metadata": {},
   "outputs": [],
   "source": [
    "setattr(John_Doe, 'email', 'jdoe2323@gmail.com')\n",
    "# Sets the named attribute on the given object to the specified value.\n",
    "\n",
    "John_Doe.email"
   ]
  },
  {
   "cell_type": "markdown",
   "metadata": {},
   "source": [
    "You can also use the following instead of the normal statements:\n",
    "\n",
    "- The `getattr(obj, name[, default])`: to access the attribute of object.\n",
    "\n",
    "- The `hasattr(obj, name)`: to check if an attribute exists or not.\n",
    "\n",
    "- The `setattr(obj, name, value)`: to set an attribute. If an attribute does not exist, then it would be created.\n",
    "\n",
    "- The `delattr(obj, name)`: to delete an attribute."
   ]
  },
  {
   "cell_type": "markdown",
   "metadata": {},
   "source": [
    "### Class Attributes vs. Normal Attributes\n",
    "\n",
    "A class attribute is an attribute set at the class-level rather than the instance-level, such that the value of this attribute will be the same across all instances.\n",
    "\n",
    "For our *Client* class, we might want to set the name of the bank, and the location, which would not change from instance to instance."
   ]
  },
  {
   "cell_type": "code",
   "execution_count": null,
   "metadata": {},
   "outputs": [],
   "source": [
    "Client.bank = \"TD\"\n",
    "Client.location = \"Toronto, ON\""
   ]
  },
  {
   "cell_type": "code",
   "execution_count": null,
   "metadata": {},
   "outputs": [],
   "source": [
    "# Try calling these attributes at the class and instance level.\n",
    "\n",
    "print(Client.bank)\n",
    "print(Jane_Defoe.bank)"
   ]
  },
  {
   "cell_type": "markdown",
   "metadata": {},
   "source": [
    "### Methods\n",
    "\n",
    "*Methods* are functions that can be applied (only) to instances of your class. \n",
    "\n",
    "For example, in the case of our 'Client' class, we may want to update a person's bank account once they withdraw or deposit money. Let's create these methods below. \n",
    "\n",
    "Note that each method takes 'self' as an argument along with the arguments required when calling this method."
   ]
  },
  {
   "cell_type": "code",
   "execution_count": null,
   "metadata": {},
   "outputs": [],
   "source": [
    "# Using the Client class code from above to now add methods for withdrawal and depositing of money.\n",
    "\n",
    "class Client(object):\n",
    "    def __init__(self, name, balance):\n",
    "        self.name = name\n",
    "        self.balance = balance + 100\n",
    "\n",
    "        #Define account level.\n",
    "        if self.balance < 5000:\n",
    "            self.level = \"Basic\"\n",
    "        elif self.balance < 15000:\n",
    "            self.level = \"Intermediate\"\n",
    "        else:\n",
    "            self.level = \"Advanced\"\n",
    "\n",
    "    def deposit(self, amount):\n",
    "        self.balance += amount\n",
    "        return self.balance\n",
    "\n",
    "    def withdraw(self, amount):\n",
    "        if amount > self.balance:\n",
    "            raise RuntimeError(\"Insufficient for withdrawal\")\n",
    "        else:\n",
    "            self.balance -= amount\n",
    "        return self.balance"
   ]
  },
  {
   "cell_type": "markdown",
   "metadata": {},
   "source": [
    "Note that here we also **raised an exception** - this is a whole chapter in any programming language, so for Python we advise you to inspect [this webpage](https://docs.python.org/3/tutorial/errors.html) for more information."
   ]
  },
  {
   "cell_type": "code",
   "execution_count": null,
   "metadata": {},
   "outputs": [],
   "source": [
    "John_Doe = Client(\"John Doe\", 500)\n",
    "Jane_Defoe = Client(\"Jane Defoe\", 150000)"
   ]
  },
  {
   "cell_type": "code",
   "execution_count": null,
   "metadata": {},
   "outputs": [],
   "source": [
    "Jane_Defoe.deposit(150000)"
   ]
  },
  {
   "cell_type": "markdown",
   "metadata": {},
   "source": [
    "#### What is \"self\"? \n",
    "\n",
    "In the method, withdraw(self, amount), the self refers to the *instance* upon which we are applying the instructions of the method. \n",
    "\n",
    "When we call a method, `f(self, arg)`, on the object `x`, we use `x.f(arg)`.\n",
    "- `x` is passed as the first argument, *self*, by default and all that is required are the other arguments that comprise the function. \n",
    "\n",
    "It is equivalent to calling `MyClass.f(x, arg)`.\n",
    "Try it yourself with the Client class and one of the methods we've written."
   ]
  },
  {
   "cell_type": "code",
   "execution_count": null,
   "metadata": {},
   "outputs": [],
   "source": [
    "# Try calling a method two different ways.\n",
    "\n",
    "print(John_Doe.deposit(500))\n",
    "print(Client.withdraw(Jane_Defoe, 50000))"
   ]
  },
  {
   "cell_type": "markdown",
   "metadata": {},
   "source": [
    "### Static Methods \n",
    "\n",
    "Static methods are methods that belong to a class but do not have access to *self* and hence don't require an instance to function (i.e. it will work on the class level as well as the instance level). \n",
    "\n",
    "We denote these with the line `@staticmethod` before we define our static method.\n",
    "\n",
    "Let's create a static method called make_money_sound() that will simply print \"Cha-ching!\" when called."
   ]
  },
  {
   "cell_type": "code",
   "execution_count": null,
   "metadata": {},
   "outputs": [],
   "source": [
    "# Add a static method called make_money_sound()\n",
    "# Create the Client class below.\n",
    "\n",
    "\n",
    "class Client(object):\n",
    "    def __init__(self, name, balance):\n",
    "        self.name = name\n",
    "        self.balance = balance + 100\n",
    "\n",
    "        #define account level\n",
    "        if self.balance < 5000:\n",
    "            self.level = \"Basic\"\n",
    "        elif self.balance < 15000:\n",
    "            self.level = \"Intermediate\"\n",
    "        else:\n",
    "            self.level = \"Advanced\"\n",
    "\n",
    "    @staticmethod\n",
    "    def make_money_sound():\n",
    "        print(\"Cha-ching!\")"
   ]
  },
  {
   "cell_type": "code",
   "execution_count": null,
   "metadata": {},
   "outputs": [],
   "source": [
    "John_Doe = Client(\"John Doe\", 500)"
   ]
  },
  {
   "cell_type": "code",
   "execution_count": null,
   "metadata": {},
   "outputs": [],
   "source": [
    "Client.make_money_sound()"
   ]
  },
  {
   "cell_type": "code",
   "execution_count": null,
   "metadata": {},
   "outputs": [],
   "source": [
    "John_Doe.make_money_sound()"
   ]
  },
  {
   "cell_type": "markdown",
   "metadata": {},
   "source": [
    "### Class Methods\n",
    "\n",
    "A class method is a type of method that will receive the class rather than the instance as the first parameter. It is also identified similarly to a static method, with `@classmethod`.\n",
    "\n",
    "Create a class method called bank_location() that will print both the bank name and location when called upon the class."
   ]
  },
  {
   "cell_type": "code",
   "execution_count": null,
   "metadata": {},
   "outputs": [],
   "source": [
    "# Add a class method called bank_location()\n",
    "# Create the Client class below.\n",
    "\n",
    "\n",
    "class Client(object):\n",
    "    bank = \"TD\"\n",
    "    location = \"Toronto, ON\"\n",
    "\n",
    "    def __init__(self, name, balance):\n",
    "        self.name = name\n",
    "        self.balance = balance + 100\n",
    "\n",
    "        #define account level\n",
    "        if self.balance < 5000:\n",
    "            self.level = \"Basic\"\n",
    "        elif self.balance < 15000:\n",
    "            self.level = \"Intermediate\"\n",
    "        else:\n",
    "            self.level = \"Advanced\"\n",
    "\n",
    "    @classmethod\n",
    "    def bank_location(cls):\n",
    "        return str(cls.bank + \" \" + cls.location)"
   ]
  },
  {
   "cell_type": "code",
   "execution_count": null,
   "metadata": {},
   "outputs": [],
   "source": [
    "John_Doe = Client(\"John Doe\", 500)"
   ]
  },
  {
   "cell_type": "code",
   "execution_count": null,
   "metadata": {},
   "outputs": [],
   "source": [
    "Client.bank_location()"
   ]
  },
  {
   "cell_type": "code",
   "execution_count": null,
   "metadata": {},
   "outputs": [],
   "source": [
    "John_Doe.bank_location()"
   ]
  },
  {
   "cell_type": "markdown",
   "metadata": {},
   "source": [
    "Here it is also worth mentioning that also in Python there is a concept of **public/private attributes or methods**. But they are not strictly defined and are somewhat like conventions. [Here](https://stackoverflow.com/questions/1641219/does-python-have-private-variables-in-classes) is a nice explanation of that. "
   ]
  },
  {
   "cell_type": "markdown",
   "metadata": {},
   "source": [
    "### Inheritance\n",
    "\n",
    "A so-called 'child' class can be created from a 'parent' class, whereby the child will bring over attributes and methods that its parent has, but where new features can be created as well. \n",
    "\n",
    "This would be useful if you want to create multiple classes that would have some features that are kept the same between them. You would simply create a child class of these parent classes that have those maintained features.\n",
    "\n",
    "Imagine we want to create different types of clients but still have all the base attributes and methods found in client currently. \n",
    "\n",
    "For example, let's create a class called *Savings* that inherits from the *Client* class. In doing so, we do not need to write another `__init__` method as it will inherit this from its parent."
   ]
  },
  {
   "cell_type": "code",
   "execution_count": null,
   "metadata": {},
   "outputs": [],
   "source": [
    "# Create the Savings class below.\n",
    "\n",
    "\n",
    "class Savings(Client):\n",
    "    interest_rate = 0.005\n",
    "\n",
    "    def update_balance(self):\n",
    "        self.balance += self.balance * self.interest_rate\n",
    "        return self.balance"
   ]
  },
  {
   "cell_type": "code",
   "execution_count": null,
   "metadata": {},
   "outputs": [],
   "source": [
    "# Create an instance the same way as a Client but this time by calling Savings instead.\n",
    "Lina_Tran = Savings(\"Lina Tran\", 50)"
   ]
  },
  {
   "cell_type": "code",
   "execution_count": null,
   "metadata": {},
   "outputs": [],
   "source": [
    "# It now has access to the new attributes and methods in Savings...\n",
    "print(Lina_Tran.name)\n",
    "print(Lina_Tran.balance)\n",
    "print(Lina_Tran.interest_rate)"
   ]
  },
  {
   "cell_type": "code",
   "execution_count": null,
   "metadata": {},
   "outputs": [],
   "source": [
    "# ...as well as access to attributes and methods from the Client class as well.\n",
    "Lina_Tran.update_balance()"
   ]
  },
  {
   "cell_type": "code",
   "execution_count": null,
   "metadata": {},
   "outputs": [],
   "source": [
    "# Defining a method outside the class definition.\n",
    "def check_balance(self):\n",
    "    return self.balance\n",
    "\n",
    "\n",
    "Client.check_balance = check_balance"
   ]
  },
  {
   "cell_type": "code",
   "execution_count": null,
   "metadata": {},
   "outputs": [],
   "source": [
    "John_Doe = Client(\"John Doe\", 500)\n",
    "Jane_Defoe = Client(\"Jane Defoe\", 150000)"
   ]
  },
  {
   "cell_type": "code",
   "execution_count": null,
   "metadata": {},
   "outputs": [],
   "source": [
    "type(John_Doe)"
   ]
  },
  {
   "cell_type": "code",
   "execution_count": null,
   "metadata": {},
   "outputs": [],
   "source": [
    "John_Doe.check_balance()"
   ]
  },
  {
   "cell_type": "code",
   "execution_count": null,
   "metadata": {},
   "outputs": [],
   "source": [
    "John_Doe.  # Press Tab"
   ]
  },
  {
   "cell_type": "code",
   "execution_count": null,
   "metadata": {},
   "outputs": [],
   "source": [
    "dir(Client)"
   ]
  },
  {
   "cell_type": "markdown",
   "metadata": {
    "colab_type": "text",
    "id": "_XbtNJNo4kls"
   },
   "source": [
    "And finally, we've defined a whole bunch of variables so far. Here's how you can list all of them (+ some internals of python):"
   ]
  },
  {
   "cell_type": "code",
   "execution_count": null,
   "metadata": {
    "colab": {},
    "colab_type": "code",
    "id": "nRVS4csJ4jJN"
   },
   "outputs": [],
   "source": [
    "dir()"
   ]
  },
  {
   "cell_type": "markdown",
   "metadata": {},
   "source": [
    "### Problem №10"
   ]
  },
  {
   "cell_type": "markdown",
   "metadata": {},
   "source": [
    "Write a Python program to convert a Roman numeral to an integer.  \n",
    "You have 'MMMCMLXXXVI', 'MMMM' and 'C'."
   ]
  },
  {
   "cell_type": "markdown",
   "metadata": {},
   "source": [
    "### Problem №11"
   ]
  },
  {
   "cell_type": "markdown",
   "metadata": {},
   "source": [
    "Write a Python program to convert an integer to a roman numeral.  \n",
    "You have 1, 4000 and 3986."
   ]
  },
  {
   "cell_type": "markdown",
   "metadata": {},
   "source": [
    "### Problem №12"
   ]
  },
  {
   "cell_type": "markdown",
   "metadata": {},
   "source": [
    "Write a Python program to implement pow(x, n).   \n",
    "You have pairs (x, n): (2, -3), (3, 5) and (100, 0)."
   ]
  },
  {
   "cell_type": "code",
   "execution_count": null,
   "metadata": {},
   "outputs": [],
   "source": []
  }
 ],
 "metadata": {
  "colab": {
   "collapsed_sections": [],
   "name": "Welcome.ipynb",
   "provenance": [],
   "toc_visible": true
  },
  "kernelspec": {
   "display_name": "Python 3",
   "language": "python",
   "name": "python3"
  },
  "language_info": {
   "codemirror_mode": {
    "name": "ipython",
    "version": 3
   },
   "file_extension": ".py",
   "mimetype": "text/x-python",
   "name": "python",
   "nbconvert_exporter": "python",
   "pygments_lexer": "ipython3",
   "version": "3.8.5"
  }
 },
 "nbformat": 4,
 "nbformat_minor": 4
}
