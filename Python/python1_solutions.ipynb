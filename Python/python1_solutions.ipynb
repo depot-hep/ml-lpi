{
 "cells": [
  {
   "cell_type": "markdown",
   "metadata": {},
   "source": [
    "## **Solutions**"
   ]
  },
  {
   "cell_type": "code",
   "execution_count": null,
   "metadata": {},
   "outputs": [],
   "source": [
    "# Solution to problem №0:\n",
    "\n",
    "a = 3 + 7j\n",
    "print('The real =', a.real, 'and imaginary parts =', a.imag)"
   ]
  },
  {
   "cell_type": "code",
   "execution_count": null,
   "metadata": {},
   "outputs": [],
   "source": [
    "# Solution to problem №1:\n",
    "\n",
    "original_list = [50, 4, 52, 't', 34, '9z4']\n",
    "new_list = list(original_list)\n",
    "\n",
    "print(original_list)\n",
    "print(new_list)"
   ]
  },
  {
   "cell_type": "code",
   "execution_count": null,
   "metadata": {},
   "outputs": [],
   "source": [
    "# Solution to problem №2:\n",
    "\n",
    "# you can't call variable a \"list\" btw\n",
    "my_list = ['h', 'e', 'l', 'l', 'o', ',', ' ', 'w', 'o', 'r', 'l', 'd', '!']\n",
    "my_str = ''.join(my_list)\n",
    "\n",
    "print(my_str)"
   ]
  },
  {
   "cell_type": "code",
   "execution_count": null,
   "metadata": {},
   "outputs": [],
   "source": [
    "# Solution to problem №3:\n",
    "\n",
    "l = [0, 1, -1, 2, 3, 30, -100, 5]\n",
    "\n",
    "my_sum = 0\n",
    "for element in l:\n",
    "    my_sum += element\n",
    "\n",
    "print(my_sum)\n",
    "# Also you can use the standard 'sum()' function "
   ]
  },
  {
   "cell_type": "code",
   "execution_count": null,
   "metadata": {},
   "outputs": [],
   "source": [
    "# Solution to problem №4:\n",
    "\n",
    "list1 = [3, 5, -7, 'mipt', 0.8]\n",
    "list2 = []\n",
    "\n",
    "if not list1:\n",
    "    print(\"List1 is empty\")\n",
    "else:\n",
    "    print(\"List1 is not empty\")\n",
    "\n",
    "if not list2:\n",
    "    print(\"List2 is empty\")\n",
    "else:\n",
    "    print(\"List2 is not empty\")"
   ]
  },
  {
   "cell_type": "code",
   "execution_count": null,
   "metadata": {},
   "outputs": [],
   "source": [
    "# Solution to problem №5:\n",
    "\n",
    "n = 5\n",
    "star_figure = ''\n",
    "\n",
    "for i in range(n):\n",
    "    for j in range(i):\n",
    "        star_figure += '* '\n",
    "    star_figure += '\\n'\n",
    "    \n",
    "for i in range(n, 0, -1):\n",
    "    for j in range(i):\n",
    "        star_figure += '* '\n",
    "    star_figure += '\\n'\n",
    "    \n",
    "print(star_figure)"
   ]
  },
  {
   "cell_type": "code",
   "execution_count": null,
   "metadata": {},
   "outputs": [],
   "source": [
    "# Solution to problem №6:\n",
    "# This algorithm can be implemented in different ways.\n",
    "\n",
    "def max_of_two(x, y):\n",
    "    if x > y:\n",
    "        return x\n",
    "    return y\n",
    "\n",
    "def max_of_three(x, y, z):\n",
    "    return max_of_two(x, max_of_two(y, z))\n",
    "\n",
    "print(max_of_three(-1, 5, -100))"
   ]
  },
  {
   "cell_type": "code",
   "execution_count": null,
   "metadata": {},
   "outputs": [],
   "source": [
    "# Solution to problem №7:\n",
    "\n",
    "string = 'qwerty0987'\n",
    "\n",
    "def reverse_string(string):   \n",
    "    return ''.join(list(string)[::-1])\n",
    "\n",
    "print(reverse_string(string))"
   ]
  },
  {
   "cell_type": "code",
   "execution_count": null,
   "metadata": {},
   "outputs": [],
   "source": [
    "# Solution to problem №8:\n",
    "\n",
    "list1 = [1, 2, 3, 't', 3, 't', 4, 5, 'q']\n",
    "\n",
    "def unique_list(l):\n",
    "    x = []\n",
    "    for a in l:\n",
    "        if a not in x:\n",
    "            x.append(a)\n",
    "    return x\n",
    "\n",
    "print(unique_list(list1))"
   ]
  },
  {
   "cell_type": "code",
   "execution_count": null,
   "metadata": {},
   "outputs": [],
   "source": [
    "# Solution to problem №9:\n",
    "\n",
    "def longest_words(filename):\n",
    "    max_length = -1\n",
    "    longest_words = []\n",
    "    with open(filename, 'r') as infile:\n",
    "        for line in infile:\n",
    "            words = line.split()\n",
    "            max_length_in_line = len(max(words, key=len))\n",
    "            longest_words_in_line = [word for word in words if len(word) == max_length_in_line]\n",
    "            if max_length < max_length_in_line:\n",
    "                longest_words = longest_words_in_line\n",
    "                max_length = max_length_in_line\n",
    "            else:\n",
    "                longest_words += [word for word in words if len(word) == max_length]\n",
    "    return longest_words\n",
    "                \n",
    "print(longest_words('./data/file.txt'))"
   ]
  },
  {
   "cell_type": "code",
   "execution_count": null,
   "metadata": {},
   "outputs": [],
   "source": [
    "!cat ./data/file.txt"
   ]
  },
  {
   "cell_type": "code",
   "execution_count": null,
   "metadata": {},
   "outputs": [],
   "source": [
    "# Solution to problem №10:\n",
    "\n",
    "class problem10_solution:\n",
    "    def roman_to_int(self, s):\n",
    "        rom_val = {\n",
    "            'I': 1,\n",
    "            'V': 5,\n",
    "            'X': 10,\n",
    "            'L': 50,\n",
    "            'C': 100,\n",
    "            'D': 500,\n",
    "            'M': 1000\n",
    "        }\n",
    "        int_val = 0\n",
    "        for i in range(len(s)):\n",
    "            if i > 0 and rom_val[s[i]] > rom_val[s[i-1]]:\n",
    "                int_val += rom_val[s[i]] - 2*rom_val[s[i-1]]\n",
    "            else:\n",
    "                int_val += rom_val[s[i]]\n",
    "        return int_val\n",
    "\n",
    "print(problem10_solution().roman_to_int('MMMCMLXXXVI'))\n",
    "print(problem10_solution().roman_to_int('MMMM'))\n",
    "print(problem10_solution().roman_to_int('C'))\n",
    "print(problem10_solution().roman_to_int(''))"
   ]
  },
  {
   "cell_type": "code",
   "execution_count": null,
   "metadata": {},
   "outputs": [],
   "source": [
    "# Solution to problem №11:\n",
    "\n",
    "class problem11_solution:\n",
    "    def int_to_roman(self, num):\n",
    "        val = [1000, 900, 500, 400, 100, 90, 50, 40, 10, 9, 5, 4, 1]\n",
    "        syb = [\"M\", \"CM\", \"D\", \"CD\", \"C\", \"XC\", \"L\", \"XL\", \"X\", \"IX\", \"V\", \"IV\", \"I\"]\n",
    "        roman_num = ''\n",
    "        i = 0\n",
    "        while num > 0:\n",
    "            for _ in range(num // val[i]):\n",
    "                roman_num += syb[i]\n",
    "                num -= val[i]\n",
    "            i += 1\n",
    "        return roman_num\n",
    "\n",
    "print(problem11_solution().int_to_roman(1))\n",
    "print(problem11_solution().int_to_roman(4000))\n",
    "print(problem11_solution().int_to_roman(3986))"
   ]
  },
  {
   "cell_type": "code",
   "execution_count": null,
   "metadata": {},
   "outputs": [],
   "source": [
    "# Solution to problem №12:\n",
    "\n",
    "class problem12_solution:\n",
    "    def pow(self, x, n):\n",
    "        if x == 0 or x == 1 or n == 1:\n",
    "            return x\n",
    "\n",
    "        if x == -1:\n",
    "            if n % 2 == 0:\n",
    "                return 1\n",
    "            else:\n",
    "                return -1\n",
    "        if n == 0:\n",
    "            return 1\n",
    "        if n < 0:\n",
    "            return 1 / self.pow(x, -n)\n",
    "        val = self.pow(x, n // 2)\n",
    "        if n % 2 == 0:\n",
    "            return val * val\n",
    "        return val * val * x\n",
    "\n",
    "print(problem12_solution().pow(2, -3))\n",
    "print(problem12_solution().pow(3, 5))\n",
    "print(problem12_solution().pow(100, 0))"
   ]
  }
 ],
 "metadata": {
  "kernelspec": {
   "display_name": "ml-lpi",
   "language": "python",
   "name": "ml-lpi"
  },
  "language_info": {
   "codemirror_mode": {
    "name": "ipython",
    "version": 3
   },
   "file_extension": ".py",
   "mimetype": "text/x-python",
   "name": "python",
   "nbconvert_exporter": "python",
   "pygments_lexer": "ipython3",
   "version": "3.8.5"
  }
 },
 "nbformat": 4,
 "nbformat_minor": 4
}
