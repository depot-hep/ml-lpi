{
 "cells": [
  {
   "cell_type": "markdown",
   "metadata": {
    "colab_type": "text",
    "id": "wcbtsSLZQbR6"
   },
   "source": [
    "<center>\n",
    "<img src=\"images/Jack-Nicholson-in-The-Shining-2043016.jpg\" alt=\"Jack-Nicholson-in-The-Shining\">\n",
    "</center>"
   ]
  },
  {
   "cell_type": "markdown",
   "metadata": {
    "colab_type": "text",
    "id": "prgGT1_hQbSC"
   },
   "source": [
    "## <h1><center>**Here's Python!**</center></h1>"
   ]
  },
  {
   "cell_type": "markdown",
   "metadata": {},
   "source": [
    "Credit: this notebook was inspired by and built upon [this tutorial]( https://github.com/HSE-LAMBDA/MLatMIPS-2020) from Mosphys 2020 school."
   ]
  },
  {
   "cell_type": "code",
   "execution_count": null,
   "metadata": {
    "colab": {},
    "colab_type": "code",
    "id": "gPE24h_BQbSF",
    "outputId": "8c212a1e-e598-43dd-b20f-c38aaf4c2137"
   },
   "outputs": [],
   "source": [
    "!python --version # any shell command can be used in jupyter by prefixing it with '!' symbol"
   ]
  },
  {
   "cell_type": "code",
   "execution_count": null,
   "metadata": {},
   "outputs": [],
   "source": [
    "# and yes, you can leave comments after \"#\" symbol"
   ]
  },
  {
   "cell_type": "markdown",
   "metadata": {
    "colab_type": "text",
    "id": "pc-JR14VQbSD"
   },
   "source": [
    "Python is a widely-used general-purpose, high-level programming language. It was initially designed by Guido van Rossum in 1991 and developed by Python Software Foundation. It was mainly developed for emphasis on code readability, and its syntax allows programmers to express concepts in fewer lines of code.\n",
    "\n",
    "Python, as a high-level programming language, allows you to focus on the core functionality of the application by taking care of common programming tasks. The simple syntax rules of the programming language further make it easier for you to keep the code base readable and application maintainable.\n",
    "\n",
    "Many words can be spoken, but the best way to learn new language is by practising it, so we'll go straight to that! However, if you want to learn more, then don't hesitate to have a look at [this tutorial](https://docs.python.org/3.8/tutorial/) and also at these three courses \\[[1](https://github.com/MelLain/mipt-python) [2](https://github.com/stanfordpython/course-reader) [3](https://developers.google.com/edu/python/introduction)\\] - they are really cool!\n",
    "\n",
    "One more **extremely useful tip** before we continue: in case of problems, simply **google it!** Say what you want to do in python (**in English!** this enormously increases your chances to find the answer), e.g. \"apply function to several columns in pandas dataframe\". This is very likely that your question was already answered at [stackoverflow.com](https://stackoverflow.com/questions) :)"
   ]
  },
  {
   "cell_type": "markdown",
   "metadata": {
    "colab_type": "text",
    "id": "RqOTq_6hjkyP"
   },
   "source": [
    "## **Using python as a calculator**"
   ]
  },
  {
   "cell_type": "markdown",
   "metadata": {},
   "source": [
    "Before you start writing any code, it's worth mentioning that Python has [**style guidelines**](https://www.python.org/dev/peps/pep-0008/) and that you should probably study it:) There is lots of freedom on how you can write this and that, so to reduce the inner \"tensions\" while looking through someone's code (\"oh my, why would you put there so many spaces...\") these conventions help the community to understand each others code more clearly."
   ]
  },
  {
   "cell_type": "code",
   "execution_count": null,
   "metadata": {
    "colab": {},
    "colab_type": "code",
    "id": "JVfrJYBHgbXG",
    "outputId": "a35de8e7-f09d-40bf-94c4-177ab876b249"
   },
   "outputs": [],
   "source": [
    "1 + 1"
   ]
  },
  {
   "cell_type": "code",
   "execution_count": null,
   "metadata": {
    "colab": {},
    "colab_type": "code",
    "id": "18JtfTc_QbSY",
    "outputId": "ef90213f-3077-4ae9-aa1f-bf520f0b9fc1"
   },
   "outputs": [],
   "source": [
    "# Multiply two operands.\n",
    "\n",
    "5 * 5"
   ]
  },
  {
   "cell_type": "code",
   "execution_count": null,
   "metadata": {
    "colab": {},
    "colab_type": "code",
    "id": "YhdP8Ksajr7q",
    "outputId": "37b36c1a-cc90-4db5-a1ef-4931e3c6031d"
   },
   "outputs": [],
   "source": [
    "10 * (15 - 5)"
   ]
  },
  {
   "cell_type": "code",
   "execution_count": null,
   "metadata": {
    "colab": {},
    "colab_type": "code",
    "id": "mWdxx3vjjwNJ",
    "outputId": "e42d3cf4-b984-4f8a-fbf6-08bbddea9c6e"
   },
   "outputs": [],
   "source": [
    "# Exponent - left operand raised to the power of right.\n",
    "# x**y (x to the power y).\n",
    "\n",
    "2**4  # (x**y)"
   ]
  },
  {
   "cell_type": "code",
   "execution_count": null,
   "metadata": {
    "colab": {},
    "colab_type": "code",
    "id": "Y4NxnWhNQbSq",
    "outputId": "beb7e722-db63-4770-9bb9-7bbb21914cb4"
   },
   "outputs": [],
   "source": [
    "# Divide left operand by the right one (always results into float).\n",
    "\n",
    "10 / 2"
   ]
  },
  {
   "cell_type": "code",
   "execution_count": null,
   "metadata": {
    "colab": {},
    "colab_type": "code",
    "id": "-XJUxTAOQbS2",
    "outputId": "c4dc844e-0693-42c4-9198-3978b86474ae"
   },
   "outputs": [],
   "source": [
    "# Floor division - division that results in the whole number adjusted to the left in the number line.\n",
    "\n",
    "10 // 2"
   ]
  },
  {
   "cell_type": "code",
   "execution_count": null,
   "metadata": {
    "colab": {},
    "colab_type": "code",
    "id": "byEhPeyHQbS6",
    "outputId": "af97140b-c05a-46c4-ecfe-ae8e510bc31e"
   },
   "outputs": [],
   "source": [
    "10 / 3"
   ]
  },
  {
   "cell_type": "code",
   "execution_count": null,
   "metadata": {
    "colab": {},
    "colab_type": "code",
    "id": "1gfdLYZDQbS_",
    "outputId": "c26da049-6eb2-414d-8b2a-18dd18e24b4f"
   },
   "outputs": [],
   "source": [
    "10 // 3"
   ]
  },
  {
   "cell_type": "code",
   "execution_count": null,
   "metadata": {
    "colab": {},
    "colab_type": "code",
    "id": "NS3KPjV1QbTD",
    "outputId": "f32c36a4-8cd9-4d8f-f455-d97fe0134954"
   },
   "outputs": [],
   "source": [
    "10 / 9"
   ]
  },
  {
   "cell_type": "code",
   "execution_count": null,
   "metadata": {
    "colab": {},
    "colab_type": "code",
    "id": "WA4ymijbQbTI",
    "outputId": "fc82c73b-1486-4267-ecdf-21b5020eb1eb"
   },
   "outputs": [],
   "source": [
    "# Modulus - the remainder of the division of left operand by the right.\n",
    "# x % y (remainder of x/y).\n",
    "\n",
    "10 % 9"
   ]
  },
  {
   "cell_type": "markdown",
   "metadata": {
    "colab_type": "text",
    "id": "gVRXRn6QkU18"
   },
   "source": [
    "## **Variables**"
   ]
  },
  {
   "cell_type": "markdown",
   "metadata": {},
   "source": [
    "### Static vs Dynamic typing"
   ]
  },
  {
   "cell_type": "markdown",
   "metadata": {
    "colab_type": "text",
    "id": "DR6DoSLbQbTN"
   },
   "source": [
    "Declaring variables in JavaScript, Ruby and Python is different from in languages such as C, Java and C++. This is because they are **dynamically typed languages**. This means that the types of the variables that you declare are enforced at run-time as opposed to compile-time (and vice versa for C, Java and C++).\n",
    "\n",
    "**Dynamic**: types are enforced by the value of the variable, thus the type of the variable can be changed if the value of the variable changes.  \n",
    "**Static**: types are enforced by the variable itself, meaning it cannot be changed and the value that is assigned to it MUST be of the type dictated by the variable."
   ]
  },
  {
   "cell_type": "markdown",
   "metadata": {},
   "source": [
    "### Integer, float, complex"
   ]
  },
  {
   "cell_type": "code",
   "execution_count": null,
   "metadata": {
    "colab": {},
    "colab_type": "code",
    "id": "Rk5FX4R2QbTO"
   },
   "outputs": [],
   "source": [
    "# You don't need to specify the type of a variable in Python.\n",
    "\n",
    "a = 1\n",
    "b = 5"
   ]
  },
  {
   "cell_type": "code",
   "execution_count": null,
   "metadata": {
    "colab": {},
    "colab_type": "code",
    "id": "e2sgu5C4QbTS",
    "outputId": "c748af0c-6b0b-4238-af9e-eb17c2eed39c"
   },
   "outputs": [],
   "source": [
    "# type() method returns class type of the argument(object) passed as parameter.\n",
    "\n",
    "type(a)"
   ]
  },
  {
   "cell_type": "code",
   "execution_count": null,
   "metadata": {
    "colab": {},
    "colab_type": "code",
    "id": "TJw7HuPEQbTW",
    "outputId": "e53304e6-8fa9-400d-dcb4-4aae372e7d46"
   },
   "outputs": [],
   "source": [
    "# Output of results\n",
    "\n",
    "print(a, ' and ', b)\n",
    "\n",
    "# Do you understand how print() works?"
   ]
  },
  {
   "cell_type": "code",
   "execution_count": null,
   "metadata": {
    "colab": {},
    "colab_type": "code",
    "id": "S23CZUM4QbTd",
    "outputId": "e94dfd40-9115-417c-ddaa-0084d3d2f1e4"
   },
   "outputs": [],
   "source": [
    "print(\"Hello\", \"how are you?\")"
   ]
  },
  {
   "cell_type": "code",
   "execution_count": null,
   "metadata": {
    "colab": {},
    "colab_type": "code",
    "id": "nRrd3EoEQbTi",
    "outputId": "cea5b467-8ac7-482f-e99b-7d49480704da"
   },
   "outputs": [],
   "source": [
    "print(\"Hello\", \"how are you?\", sep=\", \")"
   ]
  },
  {
   "cell_type": "markdown",
   "metadata": {
    "colab_type": "text",
    "id": "NsvDiBuY5Gtt"
   },
   "source": [
    "**Be careful with your variable names!** Python allows you to use the built-in function names for your variables, which can mess things up:"
   ]
  },
  {
   "cell_type": "code",
   "execution_count": null,
   "metadata": {
    "colab": {},
    "colab_type": "code",
    "id": "cFa4gcsu6q88"
   },
   "outputs": [],
   "source": [
    "print = False\n",
    "print"
   ]
  },
  {
   "cell_type": "code",
   "execution_count": null,
   "metadata": {
    "colab": {},
    "colab_type": "code",
    "id": "bxwMGoZX6wJV"
   },
   "outputs": [],
   "source": [
    "print(10)"
   ]
  },
  {
   "cell_type": "code",
   "execution_count": null,
   "metadata": {
    "colab": {},
    "colab_type": "code",
    "id": "EdkDrH1F7nwS"
   },
   "outputs": [],
   "source": [
    "del print\n",
    "print(10)"
   ]
  },
  {
   "cell_type": "code",
   "execution_count": null,
   "metadata": {
    "colab": {},
    "colab_type": "code",
    "id": "BA8Cjjf3n9at"
   },
   "outputs": [],
   "source": [
    "# note that after a cell execution the value of the last expression will be printed out\n",
    "# so you don't always have to use the `print` function\n",
    "a = 1\n",
    "b = 2\n",
    "a + b"
   ]
  },
  {
   "cell_type": "code",
   "execution_count": null,
   "metadata": {
    "colab": {},
    "colab_type": "code",
    "id": "RTvObVSS4PVU"
   },
   "outputs": [],
   "source": [
    "# unless you finish a line with a semicolon:\n",
    "a + b;"
   ]
  },
  {
   "cell_type": "code",
   "execution_count": null,
   "metadata": {
    "colab": {},
    "colab_type": "code",
    "id": "DXN_J3prQbTr",
    "outputId": "5cb54ad1-661a-40e3-e6e6-640023ed41fb"
   },
   "outputs": [],
   "source": [
    "# https://docs.python.org/3/library/functions.html#input\n",
    "\n",
    "a = input('Type something: ')\n",
    "a"
   ]
  },
  {
   "cell_type": "code",
   "execution_count": null,
   "metadata": {
    "colab": {},
    "colab_type": "code",
    "id": "X1PraJIsQbTv",
    "outputId": "185d2030-1a09-4887-8093-fc1aa9047e08"
   },
   "outputs": [],
   "source": [
    "type(a) # see below about strings  in Python"
   ]
  },
  {
   "cell_type": "code",
   "execution_count": null,
   "metadata": {
    "colab": {},
    "colab_type": "code",
    "id": "ycDhMk0hQbT5",
    "outputId": "e8b211a2-1f12-4197-9ff7-b6ee47854653"
   },
   "outputs": [],
   "source": [
    "x = input('Enter your name: ')\n",
    "print('Hello, ' + x)"
   ]
  },
  {
   "cell_type": "code",
   "execution_count": null,
   "metadata": {
    "colab": {},
    "colab_type": "code",
    "id": "A_4aJfHGQbT_"
   },
   "outputs": [],
   "source": [
    "# Type float(x) to convert x to a floating-point number.\n",
    "a = 1\n",
    "a = float(a)"
   ]
  },
  {
   "cell_type": "code",
   "execution_count": null,
   "metadata": {
    "colab": {},
    "colab_type": "code",
    "id": "5bU1Qi74QbUF",
    "outputId": "a5380318-0d01-411c-87ba-39413f841d67"
   },
   "outputs": [],
   "source": [
    "# Output of 'a'\n",
    "\n",
    "a"
   ]
  },
  {
   "cell_type": "code",
   "execution_count": null,
   "metadata": {
    "colab": {},
    "colab_type": "code",
    "id": "-5BBfDmVQbUJ",
    "outputId": "fc47cdd0-9afa-48f8-d0d6-28a1ed6511e3"
   },
   "outputs": [],
   "source": [
    "type(a)"
   ]
  },
  {
   "cell_type": "code",
   "execution_count": null,
   "metadata": {
    "colab": {},
    "colab_type": "code",
    "id": "2f0wRE1RQbUM",
    "outputId": "0696a8d0-5488-404b-eeb0-1391e41d7f55"
   },
   "outputs": [],
   "source": [
    "# In programming you often need to know if an expression is True or False.\n",
    "# You can evaluate any expression in Python, and get one of two answers, True or False.\n",
    "# When you compare two values, the expression is evaluated and Python returns the Boolean answer:\n",
    "\n",
    "t = True\n",
    "t"
   ]
  },
  {
   "cell_type": "code",
   "execution_count": null,
   "metadata": {
    "colab": {},
    "colab_type": "code",
    "id": "8Y1ViL6hQbUQ",
    "outputId": "edbe9342-6b8a-4dcb-8bc0-8d78aa448803"
   },
   "outputs": [],
   "source": [
    "f = False\n",
    "f"
   ]
  },
  {
   "cell_type": "code",
   "execution_count": null,
   "metadata": {
    "colab": {},
    "colab_type": "code",
    "id": "az7YeV8FQbUU",
    "outputId": "9830b76f-2baf-4ccd-e86d-57c6871aa17f"
   },
   "outputs": [],
   "source": [
    "type(t)"
   ]
  },
  {
   "cell_type": "code",
   "execution_count": null,
   "metadata": {
    "colab": {},
    "colab_type": "code",
    "id": "tvfxcEDvQbUa",
    "outputId": "6b6059b4-1483-4669-f042-3554a6f4a83e"
   },
   "outputs": [],
   "source": [
    "type(f)"
   ]
  },
  {
   "cell_type": "code",
   "execution_count": null,
   "metadata": {
    "colab": {},
    "colab_type": "code",
    "id": "wHbXRpmEk4Ba",
    "outputId": "7644e713-c63e-4194-a574-543babe4a7af"
   },
   "outputs": [],
   "source": [
    "a = 1\n",
    "b = 2\n",
    "\n",
    "print(a == b)  # Equal to - True if both operands are equal\n",
    "print(a + 1 > b)  # Greater than - True if left operand is greater than the right\n",
    "print(a + 1 >= b) # Greater than or equal to - True if left operand is greater than or equal to the right\n",
    "print(type(a + 1 > b))"
   ]
  },
  {
   "cell_type": "code",
   "execution_count": null,
   "metadata": {
    "colab": {},
    "colab_type": "code",
    "id": "yE0AIx9yQbXq",
    "outputId": "463b74ab-03f7-4d76-a0b1-392762289a60"
   },
   "outputs": [],
   "source": [
    "j = True\n",
    "k = False\n",
    "l = j == k  # Do you understand this? What is 'l' here?\n",
    "\n",
    "print(j, k, l)"
   ]
  },
  {
   "cell_type": "code",
   "execution_count": null,
   "metadata": {
    "colab": {},
    "colab_type": "code",
    "id": "3wvyJGhMQbXs",
    "outputId": "5e86cbc0-94a9-4702-f005-b89a7992fda1"
   },
   "outputs": [],
   "source": [
    "# booleans\n",
    "j = True\n",
    "k = False\n",
    "l = j != k  # Not equal to - True if operands are not equal. And the same question about 'l'.\n",
    "\n",
    "print(j, k, l)"
   ]
  },
  {
   "cell_type": "code",
   "execution_count": null,
   "metadata": {
    "colab": {},
    "colab_type": "code",
    "id": "D3aqnm6CQbXw",
    "outputId": "b2ed7fe7-9e18-412e-df4f-8eae4ec1fcbb"
   },
   "outputs": [],
   "source": [
    "# booleans\n",
    "j = False\n",
    "k = False\n",
    "l = j == k\n",
    "\n",
    "print(j, k, l)"
   ]
  },
  {
   "cell_type": "code",
   "execution_count": null,
   "metadata": {
    "colab": {},
    "colab_type": "code",
    "id": "ymKyzbcqQbYt",
    "outputId": "742d2b99-c054-49cb-fcd5-88c4f75278fb"
   },
   "outputs": [],
   "source": [
    "# The 'not' keyword is a logical operator.\n",
    "# The return value will be True if the statement(s) are not True, otherwise, it will return False.\n",
    "\n",
    "not 1"
   ]
  },
  {
   "cell_type": "code",
   "execution_count": null,
   "metadata": {
    "colab": {},
    "colab_type": "code",
    "id": "uLFWci4iQbYv",
    "outputId": "37ecad3c-9bf8-4655-9159-429b96ed9301"
   },
   "outputs": [],
   "source": [
    "not 0"
   ]
  },
  {
   "cell_type": "code",
   "execution_count": null,
   "metadata": {
    "colab": {},
    "colab_type": "code",
    "id": "1sBpecYxQbUf",
    "outputId": "d4170882-31f6-4b82-c1fe-6e284fe3a23a"
   },
   "outputs": [],
   "source": [
    "# Floating-point number.\n",
    "\n",
    "c = 4.5\n",
    "c"
   ]
  },
  {
   "cell_type": "code",
   "execution_count": null,
   "metadata": {
    "colab": {},
    "colab_type": "code",
    "id": "sHab62kQQbUj",
    "outputId": "96dc1405-144f-4e51-eed6-ded6cc8a29a1"
   },
   "outputs": [],
   "source": [
    "# You can write .5 instead of 0.5, it will be the same number.\n",
    "\n",
    "c = .5\n",
    "c"
   ]
  },
  {
   "cell_type": "code",
   "execution_count": null,
   "metadata": {
    "colab": {},
    "colab_type": "code",
    "id": "kxShy6u_QbUn",
    "outputId": "99146a50-1f8c-4089-aba6-bfab2f7e2a4c"
   },
   "outputs": [],
   "source": [
    "d = 0.5\n",
    "d"
   ]
  },
  {
   "cell_type": "code",
   "execution_count": null,
   "metadata": {
    "colab": {},
    "colab_type": "code",
    "id": "yAljqo4cQbUr",
    "outputId": "d0daa903-ddf6-4438-9334-925d256e42b6"
   },
   "outputs": [],
   "source": [
    "a"
   ]
  },
  {
   "cell_type": "code",
   "execution_count": null,
   "metadata": {
    "colab": {},
    "colab_type": "code",
    "id": "2TEDypbEQbUv"
   },
   "outputs": [],
   "source": [
    "c = 6.7"
   ]
  },
  {
   "cell_type": "code",
   "execution_count": null,
   "metadata": {
    "colab": {},
    "colab_type": "code",
    "id": "HoLTM-yIQbUy",
    "outputId": "d36d840b-96c0-4492-e415-a415b7cf2178"
   },
   "outputs": [],
   "source": [
    "type(c)"
   ]
  },
  {
   "cell_type": "code",
   "execution_count": null,
   "metadata": {
    "colab": {},
    "colab_type": "code",
    "id": "kUuTa4OlQbU2"
   },
   "outputs": [],
   "source": [
    "c = int(c)"
   ]
  },
  {
   "cell_type": "code",
   "execution_count": null,
   "metadata": {
    "colab": {},
    "colab_type": "code",
    "id": "8YlNkI9QQbU5",
    "outputId": "a5f6b1b9-d7b5-412f-85a9-0b2603feaca4"
   },
   "outputs": [],
   "source": [
    "c"
   ]
  },
  {
   "cell_type": "code",
   "execution_count": null,
   "metadata": {
    "colab": {},
    "colab_type": "code",
    "id": "hse9VPhOQbU9",
    "outputId": "7a7ce014-f40e-4def-ce10-5e833b4f9589"
   },
   "outputs": [],
   "source": [
    "type(c)"
   ]
  },
  {
   "cell_type": "code",
   "execution_count": null,
   "metadata": {
    "colab": {},
    "colab_type": "code",
    "id": "Gq-bC4hRQbVF",
    "outputId": "a2319e78-9506-4ab1-94f7-0e600168d040"
   },
   "outputs": [],
   "source": [
    "d = 8.\n",
    "e = 1.2e3\n",
    "print(d, e)"
   ]
  },
  {
   "cell_type": "code",
   "execution_count": null,
   "metadata": {
    "colab": {},
    "colab_type": "code",
    "id": "51LslOEhkWsJ",
    "outputId": "d912b107-d7fa-43c5-e9d2-54379a385a61"
   },
   "outputs": [],
   "source": [
    "a = 1\n",
    "b = 2\n",
    "c = a / b\n",
    "\n",
    "print(a, b, c)\n",
    "\n",
    "# Anything after a '#' is a comment.\n",
    "# Note that `c` has a different type (float) compared to `a` and `b` (which are of integer type)."
   ]
  },
  {
   "cell_type": "code",
   "execution_count": null,
   "metadata": {
    "colab": {},
    "colab_type": "code",
    "id": "h_2NVMMmQbVN",
    "outputId": "c5736a65-de13-4be6-ee11-d424fb307e02"
   },
   "outputs": [],
   "source": [
    "type(a)"
   ]
  },
  {
   "cell_type": "code",
   "execution_count": null,
   "metadata": {
    "colab": {},
    "colab_type": "code",
    "id": "wMsYofbkQbVR",
    "outputId": "3141c2de-ecf0-40a3-b8e8-ecd459800577"
   },
   "outputs": [],
   "source": [
    "type(c)"
   ]
  },
  {
   "cell_type": "code",
   "execution_count": null,
   "metadata": {
    "colab": {},
    "colab_type": "code",
    "id": "-5FlHwwWQbVV",
    "outputId": "8b3251db-f4bd-455a-b7f3-f6e41837b592"
   },
   "outputs": [],
   "source": [
    "a = 123\n",
    "type(a)"
   ]
  },
  {
   "cell_type": "code",
   "execution_count": null,
   "metadata": {
    "colab": {},
    "colab_type": "code",
    "id": "qgyB7k8UQbVd",
    "outputId": "f98045e5-f895-4de0-eb67-d80ab6047d52"
   },
   "outputs": [],
   "source": [
    "print(type(a))\n",
    "\n",
    "# Do you understand the output of the function?\n",
    "# If you don't know object-oriented programming yet, you will find out more about it later (below section)."
   ]
  },
  {
   "cell_type": "code",
   "execution_count": null,
   "metadata": {
    "colab": {},
    "colab_type": "code",
    "id": "IDMllhUeQbVj"
   },
   "outputs": [],
   "source": [
    "# Multiple assignments in Python\n",
    "a, b, c = 1, 2, 5"
   ]
  },
  {
   "cell_type": "code",
   "execution_count": null,
   "metadata": {
    "colab": {},
    "colab_type": "code",
    "id": "Lz0b13IhQbVm",
    "outputId": "aeb66a6d-d33e-4822-edf4-149dc1233e61"
   },
   "outputs": [],
   "source": [
    "a, b, c"
   ]
  },
  {
   "cell_type": "code",
   "execution_count": null,
   "metadata": {
    "colab": {},
    "colab_type": "code",
    "id": "ZIh8xkNEQbVy"
   },
   "outputs": [],
   "source": [
    "a = b = c = 99"
   ]
  },
  {
   "cell_type": "code",
   "execution_count": null,
   "metadata": {
    "colab": {},
    "colab_type": "code",
    "id": "Lz0b13IhQbVm",
    "outputId": "aeb66a6d-d33e-4822-edf4-149dc1233e61"
   },
   "outputs": [],
   "source": [
    "a, b, c"
   ]
  },
  {
   "cell_type": "code",
   "execution_count": null,
   "metadata": {
    "colab": {},
    "colab_type": "code",
    "id": "cBrx3uu7QbWN"
   },
   "outputs": [],
   "source": [
    "a, b = 2, 3\n",
    "a, b = b, a # do you understand what's happening here? and from the memory allocation perspective?"
   ]
  },
  {
   "cell_type": "code",
   "execution_count": null,
   "metadata": {
    "colab": {},
    "colab_type": "code",
    "id": "jwVtKFuAQbWR",
    "outputId": "bdd3f9a5-380a-4545-c47c-ed49431842a2"
   },
   "outputs": [],
   "source": [
    "a, b"
   ]
  },
  {
   "cell_type": "code",
   "execution_count": null,
   "metadata": {
    "colab": {},
    "colab_type": "code",
    "id": "UT5Ns-xDQbWb",
    "outputId": "30d879d0-b49c-47e3-a46f-322d0bff305e"
   },
   "outputs": [],
   "source": [
    "# You can assign a variable to output a function.\n",
    "# See below about functions.\n",
    "\n",
    "v73 = type(73)\n",
    "type(v73)"
   ]
  },
  {
   "cell_type": "code",
   "execution_count": null,
   "metadata": {
    "colab": {},
    "colab_type": "code",
    "id": "nInEx_EAQbWd",
    "outputId": "9112f90c-62ea-43da-de93-5b86e9be3f94"
   },
   "outputs": [],
   "source": [
    "v73"
   ]
  },
  {
   "cell_type": "code",
   "execution_count": null,
   "metadata": {
    "colab": {},
    "colab_type": "code",
    "id": "altDwsjwQbWh",
    "outputId": "6041c658-7f7e-43de-98cd-2af36c3360f1"
   },
   "outputs": [],
   "source": [
    "aaa = type(4.5)\n",
    "aaa\n",
    "\n",
    "# Is it a correct variable name?\n",
    "\n",
    "# Choosing names which are sensible and can be easily understandable, while coding in Python, is very crucial.\n",
    "# This will save time and energy of a reader. Inappropriate names might lead to difficulties when debugging.\n",
    "# See PEP-008 guidelines in the beginning of this notebook for more details"
   ]
  },
  {
   "cell_type": "code",
   "execution_count": null,
   "metadata": {
    "colab": {},
    "colab_type": "code",
    "id": "TNF8VA1OQbWj",
    "outputId": "6c0d2433-423b-43b4-adb9-a4eef52d3574"
   },
   "outputs": [],
   "source": [
    "# Complex number.\n",
    "\n",
    "a = 1 + 5j\n",
    "a"
   ]
  },
  {
   "cell_type": "code",
   "execution_count": null,
   "metadata": {
    "colab": {},
    "colab_type": "code",
    "id": "abDC1p_XQbWn",
    "outputId": "7a51c9de-9fba-4c87-d139-4204b7c1f6a2"
   },
   "outputs": [],
   "source": [
    "type(a)"
   ]
  },
  {
   "cell_type": "code",
   "execution_count": null,
   "metadata": {
    "colab": {},
    "colab_type": "code",
    "id": "zbNUgULnQbWr",
    "outputId": "0fca93b6-840c-4c86-ab3a-e50868f5bf2b"
   },
   "outputs": [],
   "source": [
    "print(type(a))"
   ]
  },
  {
   "cell_type": "code",
   "execution_count": null,
   "metadata": {
    "colab": {},
    "colab_type": "code",
    "id": "oS6oZOlFQbWt",
    "outputId": "3465d812-4286-49f8-df31-9feaeabb2731"
   },
   "outputs": [],
   "source": [
    "# Conjugate number.\n",
    "\n",
    "a.conjugate()"
   ]
  },
  {
   "cell_type": "code",
   "execution_count": null,
   "metadata": {
    "colab": {},
    "colab_type": "code",
    "id": "pEscnUhk-T1a",
    "outputId": "840b5c8d-f259-4ac1-fc0a-de0b8c486a95"
   },
   "outputs": [],
   "source": [
    "c1 = 2 + 1j\n",
    "c2 = 1 / 1j\n",
    "c3 = 1j\n",
    "\n",
    "print(c1)\n",
    "print(c2)\n",
    "print(c3)"
   ]
  },
  {
   "cell_type": "code",
   "execution_count": null,
   "metadata": {
    "colab": {},
    "colab_type": "code",
    "id": "AM0Bkht1QbW0",
    "outputId": "6b157444-497e-4a1b-fef7-e298fe517acb"
   },
   "outputs": [],
   "source": [
    "c1 = 2 + 1 * j\n",
    "\n",
    "# Is it the correct syntax?"
   ]
  },
  {
   "cell_type": "code",
   "execution_count": null,
   "metadata": {
    "colab": {},
    "colab_type": "code",
    "id": "K9kL9RDMQbW2",
    "outputId": "3c14c534-829d-4b86-fcd1-4a626b49515d"
   },
   "outputs": [],
   "source": [
    "c1 = 2 + 0j\n",
    "c1"
   ]
  },
  {
   "cell_type": "code",
   "execution_count": null,
   "metadata": {
    "colab": {},
    "colab_type": "code",
    "id": "pXGxcovkQbW5",
    "outputId": "6b231482-5343-4295-ed9d-246a3290d78d"
   },
   "outputs": [],
   "source": [
    "type(c1)"
   ]
  },
  {
   "cell_type": "code",
   "execution_count": null,
   "metadata": {
    "colab": {},
    "colab_type": "code",
    "id": "hgRr-my2QbW8",
    "outputId": "6cedf540-5fd8-44bf-ec71-e228560386ad"
   },
   "outputs": [],
   "source": [
    "c4 = 1 + 2i\n",
    "print(c4)\n",
    "\n",
    "# Is it the correct syntax? 'j' or 'i'? Or something else?"
   ]
  },
  {
   "cell_type": "code",
   "execution_count": null,
   "metadata": {
    "colab": {},
    "colab_type": "code",
    "id": "gisr971SQbW_"
   },
   "outputs": [],
   "source": [
    "a, b = 3, 3 + 4j"
   ]
  },
  {
   "cell_type": "code",
   "execution_count": null,
   "metadata": {
    "colab": {},
    "colab_type": "code",
    "id": "AmAU0YqjQbXF",
    "outputId": "d1e0ec10-8d51-4902-8382-3e724a7ac8e9"
   },
   "outputs": [],
   "source": [
    "a"
   ]
  },
  {
   "cell_type": "code",
   "execution_count": null,
   "metadata": {
    "colab": {},
    "colab_type": "code",
    "id": "X-RlCOTGQbXJ",
    "outputId": "3a849679-21f6-484c-d527-8555fbeb28db"
   },
   "outputs": [],
   "source": [
    "b"
   ]
  },
  {
   "cell_type": "code",
   "execution_count": null,
   "metadata": {
    "colab": {},
    "colab_type": "code",
    "id": "-FNsSMcyQbXN"
   },
   "outputs": [],
   "source": [
    "a, b = b, a"
   ]
  },
  {
   "cell_type": "code",
   "execution_count": null,
   "metadata": {
    "colab": {},
    "colab_type": "code",
    "id": "QmK8drNjQbXR",
    "outputId": "f42a727e-90fc-4991-a776-a36f6108e4d5"
   },
   "outputs": [],
   "source": [
    "a"
   ]
  },
  {
   "cell_type": "code",
   "execution_count": null,
   "metadata": {
    "colab": {},
    "colab_type": "code",
    "id": "BFb86EF1QbXW",
    "outputId": "3ec26339-1b62-463d-d4b7-8e3ad23f1b5b"
   },
   "outputs": [],
   "source": [
    "b"
   ]
  },
  {
   "cell_type": "code",
   "execution_count": null,
   "metadata": {
    "colab": {},
    "colab_type": "code",
    "id": "S1pBU8UAQbXZ"
   },
   "outputs": [],
   "source": [
    "a = 5"
   ]
  },
  {
   "cell_type": "code",
   "execution_count": null,
   "metadata": {
    "colab": {},
    "colab_type": "code",
    "id": "xuXIEqtMQbXc"
   },
   "outputs": [],
   "source": [
    "a = complex(a)"
   ]
  },
  {
   "cell_type": "code",
   "execution_count": null,
   "metadata": {
    "colab": {},
    "colab_type": "code",
    "id": "vlIgLzQaQbXh",
    "outputId": "6cab61db-607c-43eb-ad85-6e8d509bc233"
   },
   "outputs": [],
   "source": [
    "a"
   ]
  },
  {
   "cell_type": "code",
   "execution_count": null,
   "metadata": {
    "colab": {},
    "colab_type": "code",
    "id": "Q0kQ7e8PQbXk",
    "outputId": "5374f654-ca08-45d6-eafa-6a64b3fe2a97"
   },
   "outputs": [],
   "source": [
    "b = int(a)\n",
    "b"
   ]
  },
  {
   "cell_type": "markdown",
   "metadata": {},
   "source": [
    "### Problem №0"
   ]
  },
  {
   "cell_type": "markdown",
   "metadata": {
    "colab_type": "text",
    "id": "y3NoD0jfQbXn"
   },
   "source": [
    "In Jupyter you can get help using **Tab** key - after typing the name of object following the . character it will show the list of available options. You can also press Shift+Tab inside of function brackets () to get the function's description. \n",
    "\n",
    "Use it to find the real and imaginary parts of a complex number (for example, a = 3 + 7j)."
   ]
  },
  {
   "cell_type": "markdown",
   "metadata": {
    "colab_type": "text",
    "id": "EoPh3wiXQbXn"
   },
   "source": [
    "### Operations with numeric variables"
   ]
  },
  {
   "cell_type": "code",
   "execution_count": null,
   "metadata": {
    "colab": {},
    "colab_type": "code",
    "id": "ne-BogeoQbX0",
    "outputId": "5ef76f92-22c1-4ee7-c8ec-ea3191ca2bb5"
   },
   "outputs": [],
   "source": [
    "a = -3\n",
    "a"
   ]
  },
  {
   "cell_type": "code",
   "execution_count": null,
   "metadata": {
    "colab": {},
    "colab_type": "code",
    "id": "82gl1b8sQbX4",
    "outputId": "dd76c1aa-cb5d-4631-844e-5f2f79dd2367"
   },
   "outputs": [],
   "source": [
    "a = a * (-1)\n",
    "a"
   ]
  },
  {
   "cell_type": "code",
   "execution_count": null,
   "metadata": {
    "colab": {},
    "colab_type": "code",
    "id": "E9RHgjF7QbX6",
    "outputId": "f09bf860-91ed-4d46-ce31-801a0ffb72eb"
   },
   "outputs": [],
   "source": [
    "a = 45\n",
    "a2 = a\n",
    "a2"
   ]
  },
  {
   "cell_type": "code",
   "execution_count": null,
   "metadata": {
    "colab": {},
    "colab_type": "code",
    "id": "Hkzz-Z2JQbX9",
    "outputId": "c8295164-22aa-4dda-9ec3-deca4298ebe4"
   },
   "outputs": [],
   "source": [
    "a2 + 4"
   ]
  },
  {
   "cell_type": "code",
   "execution_count": null,
   "metadata": {
    "colab": {},
    "colab_type": "code",
    "id": "e2dmhH3LQbX_",
    "outputId": "6911d7ba-b658-452f-ad15-58f8e94bc4d3"
   },
   "outputs": [],
   "source": [
    "a2 = a2 + 4\n",
    "a2"
   ]
  },
  {
   "cell_type": "code",
   "execution_count": null,
   "metadata": {
    "colab": {},
    "colab_type": "code",
    "id": "IJwbFiPVQbYB",
    "outputId": "41792cde-c61d-49b6-8547-9d83ddf7c033"
   },
   "outputs": [],
   "source": [
    "a2 = a\n",
    "a2"
   ]
  },
  {
   "cell_type": "code",
   "execution_count": null,
   "metadata": {
    "colab": {},
    "colab_type": "code",
    "id": "NGFziq_qQbYF"
   },
   "outputs": [],
   "source": [
    "# There are various compound operators in Python like a += 5 that adds to the variable and later assigns the same.\n",
    "# It is equivalent to a = a + 5."
   ]
  },
  {
   "cell_type": "code",
   "execution_count": null,
   "metadata": {
    "colab": {},
    "colab_type": "code",
    "id": "qYdcPgboQbYH",
    "outputId": "cb3f4ec0-b6f1-4e5b-cc36-5af04ae1c7df"
   },
   "outputs": [],
   "source": [
    "a2 += 4  # a2 = a2 + 4\n",
    "a2"
   ]
  },
  {
   "cell_type": "code",
   "execution_count": null,
   "metadata": {
    "colab": {},
    "colab_type": "code",
    "id": "lOh_HZmfQbYJ",
    "outputId": "03bbf0ad-4a15-459f-8cdb-e2a0f37938fa"
   },
   "outputs": [],
   "source": [
    "a3 = a + 3\n",
    "a3"
   ]
  },
  {
   "cell_type": "code",
   "execution_count": null,
   "metadata": {
    "colab": {},
    "colab_type": "code",
    "id": "RyIINTyIQbYM",
    "outputId": "24c87cc4-1016-4cd6-c533-a71ae4a18524"
   },
   "outputs": [],
   "source": [
    "a3 *= 3\n",
    "a3\n",
    "# and the same for '-=' and '/=' and '%=' and '//=' and '**='"
   ]
  },
  {
   "cell_type": "code",
   "execution_count": null,
   "metadata": {
    "colab": {},
    "colab_type": "code",
    "id": "_lDFPLQNQbYO",
    "outputId": "b8edf8f8-7658-41a4-e4aa-cab49809a289"
   },
   "outputs": [],
   "source": [
    "1 & 1  # Bitwise AND"
   ]
  },
  {
   "cell_type": "code",
   "execution_count": null,
   "metadata": {
    "colab": {},
    "colab_type": "code",
    "id": "CWk-3BqxQbYR",
    "outputId": "01c1dc03-7ea8-4b55-a49a-fcf21e9922d9"
   },
   "outputs": [],
   "source": [
    "1 & 0"
   ]
  },
  {
   "cell_type": "code",
   "execution_count": null,
   "metadata": {
    "colab": {},
    "colab_type": "code",
    "id": "AR8zbqHBQbYT",
    "outputId": "34ac20f3-9221-47b7-e431-bb6a8b2db394"
   },
   "outputs": [],
   "source": [
    "0 & 0"
   ]
  },
  {
   "cell_type": "code",
   "execution_count": null,
   "metadata": {
    "colab": {},
    "colab_type": "code",
    "id": "-NFJRfJBQbYX",
    "outputId": "3f09c17b-eb6b-45c9-9dbd-0e627d07dae9"
   },
   "outputs": [],
   "source": [
    "1 | 1  # Bitwise OR"
   ]
  },
  {
   "cell_type": "code",
   "execution_count": null,
   "metadata": {
    "colab": {},
    "colab_type": "code",
    "id": "baKkAMQpQbYb",
    "outputId": "6442933e-b38e-47b5-e9bf-7d29e751c677"
   },
   "outputs": [],
   "source": [
    "1 | 0"
   ]
  },
  {
   "cell_type": "code",
   "execution_count": null,
   "metadata": {
    "colab": {},
    "colab_type": "code",
    "id": "0TsFTNHAQbYf",
    "outputId": "69e545d9-8887-4f2d-fd96-0737510bb514"
   },
   "outputs": [],
   "source": [
    "0 | 0"
   ]
  },
  {
   "cell_type": "code",
   "execution_count": null,
   "metadata": {
    "colab": {},
    "colab_type": "code",
    "id": "ACUSC0QVQbYj",
    "outputId": "723165bc-78b3-454e-94f9-8cef67ec16b7"
   },
   "outputs": [],
   "source": [
    "1 ^ 0  # Bitwise XOR"
   ]
  },
  {
   "cell_type": "code",
   "execution_count": null,
   "metadata": {
    "colab": {},
    "colab_type": "code",
    "id": "IsIcI_SiQbYn",
    "outputId": "d552d34d-d4ae-41cf-aa72-34a84de2e5c0"
   },
   "outputs": [],
   "source": [
    "1 ^ 1"
   ]
  },
  {
   "cell_type": "code",
   "execution_count": null,
   "metadata": {
    "colab": {},
    "colab_type": "code",
    "id": "ztvOaEsyQbYp",
    "outputId": "3ad2f84b-4ea0-4404-a6c7-17b556d47bf3"
   },
   "outputs": [],
   "source": [
    "0 ^ 1"
   ]
  },
  {
   "cell_type": "code",
   "execution_count": null,
   "metadata": {
    "colab": {},
    "colab_type": "code",
    "id": "tXal1HDPQbYr",
    "outputId": "3dc1dd73-48dd-45e5-9817-d2eee6c9936b"
   },
   "outputs": [],
   "source": [
    "0 ^ 0"
   ]
  },
  {
   "cell_type": "markdown",
   "metadata": {
    "colab_type": "text",
    "id": "hdp9RPWnQbYx"
   },
   "source": [
    "### None"
   ]
  },
  {
   "cell_type": "code",
   "execution_count": null,
   "metadata": {
    "colab": {},
    "colab_type": "code",
    "id": "EYquDLZ1QbYy",
    "outputId": "2ee9a98a-3964-410f-da7b-5ff7e64bb3bf"
   },
   "outputs": [],
   "source": [
    "type(print)"
   ]
  },
  {
   "cell_type": "code",
   "execution_count": null,
   "metadata": {
    "colab": {},
    "colab_type": "code",
    "id": "w52UeZhEQbY0",
    "outputId": "f2d8b030-a9d5-4a44-b9d1-d8b3e0ac8f58"
   },
   "outputs": [],
   "source": [
    "a = print(1)"
   ]
  },
  {
   "cell_type": "code",
   "execution_count": null,
   "metadata": {
    "colab": {},
    "colab_type": "code",
    "id": "MxBjyR9mQbY6"
   },
   "outputs": [],
   "source": [
    "a"
   ]
  },
  {
   "cell_type": "code",
   "execution_count": null,
   "metadata": {
    "colab": {},
    "colab_type": "code",
    "id": "jsHvmlS5QbY8",
    "outputId": "132f0052-8618-404f-bf7f-dc995d14ba9f"
   },
   "outputs": [],
   "source": [
    "type(a)"
   ]
  },
  {
   "cell_type": "code",
   "execution_count": null,
   "metadata": {
    "colab": {},
    "colab_type": "code",
    "id": "yF0RkQB6QbZB"
   },
   "outputs": [],
   "source": [
    "# The None keyword is used to define a null value or no value at all."
   ]
  },
  {
   "cell_type": "code",
   "execution_count": null,
   "metadata": {
    "colab": {},
    "colab_type": "code",
    "id": "72OZ6zpxQbZC",
    "outputId": "64a29f98-91d3-48ae-d16b-2ea7672c09c4"
   },
   "outputs": [],
   "source": [
    "type(print(1))"
   ]
  },
  {
   "cell_type": "code",
   "execution_count": null,
   "metadata": {
    "colab": {},
    "colab_type": "code",
    "id": "rpo4_jcUQbZE",
    "outputId": "3f74403f-ebc5-4c41-e7ee-fb4a08761f7c"
   },
   "outputs": [],
   "source": [
    "type(1)"
   ]
  },
  {
   "cell_type": "code",
   "execution_count": null,
   "metadata": {
    "colab": {},
    "colab_type": "code",
    "id": "CLc6bU-0QbZJ",
    "outputId": "f1bda163-cec0-4000-bcd4-ce6827e06ee8"
   },
   "outputs": [],
   "source": [
    "type(type(1))"
   ]
  },
  {
   "cell_type": "code",
   "execution_count": null,
   "metadata": {
    "colab": {},
    "colab_type": "code",
    "id": "OA_lpSFeQbZM"
   },
   "outputs": [],
   "source": [
    "a = None"
   ]
  },
  {
   "cell_type": "code",
   "execution_count": null,
   "metadata": {
    "colab": {},
    "colab_type": "code",
    "id": "Hl6P9rR4QbZP"
   },
   "outputs": [],
   "source": [
    "a"
   ]
  },
  {
   "cell_type": "code",
   "execution_count": null,
   "metadata": {
    "colab": {},
    "colab_type": "code",
    "id": "huFs5NSXQbZR",
    "outputId": "756468d8-a57a-48ba-be40-0dcca31bcfc9"
   },
   "outputs": [],
   "source": [
    "print(a)"
   ]
  },
  {
   "cell_type": "code",
   "execution_count": null,
   "metadata": {
    "colab": {},
    "colab_type": "code",
    "id": "0Z6JVFWFQbZT",
    "outputId": "b87c72c0-d214-49be-ec18-c1e86d1ecb10"
   },
   "outputs": [],
   "source": [
    "type(a)"
   ]
  },
  {
   "cell_type": "markdown",
   "metadata": {
    "colab_type": "text",
    "id": "i48mMJezQbZW"
   },
   "source": [
    "### Strings"
   ]
  },
  {
   "cell_type": "code",
   "execution_count": null,
   "metadata": {
    "colab": {},
    "colab_type": "code",
    "id": "9mTwLg2sQbZX"
   },
   "outputs": [],
   "source": [
    "# Like many other popular programming languages, strings in Python are arrays of bytes representing Unicode characters.\n",
    "# However, Python does not have a character data type, a single character is simply a string with a length of 1."
   ]
  },
  {
   "cell_type": "code",
   "execution_count": null,
   "metadata": {
    "colab": {},
    "colab_type": "code",
    "id": "v1xIeVbdQbZZ",
    "outputId": "231d1e9c-8f9e-4b98-9e63-0acd3012cb55"
   },
   "outputs": [],
   "source": [
    "a = 'Hello world'\n",
    "a"
   ]
  },
  {
   "cell_type": "code",
   "execution_count": null,
   "metadata": {
    "colab": {},
    "colab_type": "code",
    "id": "XtL8NEHqQbZd",
    "outputId": "e1097831-65eb-43bf-f4ff-0ed781777828"
   },
   "outputs": [],
   "source": [
    "type(a)"
   ]
  },
  {
   "cell_type": "code",
   "execution_count": null,
   "metadata": {
    "colab": {},
    "colab_type": "code",
    "id": "-E3XtkLkQbZg",
    "outputId": "88d6e110-033c-48f1-8801-fec5336aec72"
   },
   "outputs": [],
   "source": [
    "# Square brackets can be used to access elements of the string\n",
    "\n",
    "a = \"Hello, World!\" # you can use either \"\" or '' (beware of some minor exceptions though)\n",
    "print(a[1])"
   ]
  },
  {
   "cell_type": "code",
   "execution_count": null,
   "metadata": {},
   "outputs": [],
   "source": [
    "# Strings are immutable, so item assignments operations are not supported\n",
    "# See below for more on mutability\n",
    "a[1] = 'e'"
   ]
  },
  {
   "cell_type": "code",
   "execution_count": null,
   "metadata": {
    "colab": {},
    "colab_type": "code",
    "id": "Uz7UAMnmQbZi",
    "outputId": "4e49e421-8096-44aa-f00a-e6be6083da53"
   },
   "outputs": [],
   "source": [
    "a = \"Hello world\"\n",
    "a"
   ]
  },
  {
   "cell_type": "code",
   "execution_count": null,
   "metadata": {
    "colab": {},
    "colab_type": "code",
    "id": "G2Blo3w9QbZn",
    "outputId": "9aa042e9-4752-4bfc-e946-89abdfdc3ff2"
   },
   "outputs": [],
   "source": [
    "'Hello world'"
   ]
  },
  {
   "cell_type": "code",
   "execution_count": null,
   "metadata": {
    "colab": {},
    "colab_type": "code",
    "id": "M_WeOaFAQbZp",
    "outputId": "09b1b8ad-e48c-47ee-c500-7bf252bd0297"
   },
   "outputs": [],
   "source": [
    "a = 545\n",
    "type(a)"
   ]
  },
  {
   "cell_type": "code",
   "execution_count": null,
   "metadata": {
    "colab": {},
    "colab_type": "code",
    "id": "-KopXB0CQbZr",
    "outputId": "29f26c4e-6cd3-4b20-995a-9a8fff3af7d6"
   },
   "outputs": [],
   "source": [
    "a = str(a)\n",
    "a"
   ]
  },
  {
   "cell_type": "code",
   "execution_count": null,
   "metadata": {
    "colab": {},
    "colab_type": "code",
    "id": "Xu4CfPY9QbZs",
    "outputId": "3a9bcb68-d60a-4f30-fe9f-acbcd5d51c67"
   },
   "outputs": [],
   "source": [
    "type(a)"
   ]
  },
  {
   "cell_type": "code",
   "execution_count": null,
   "metadata": {
    "colab": {},
    "colab_type": "code",
    "id": "G8aupHIm-Too",
    "outputId": "adda2214-4aa5-4e5b-f92a-64c3276bea48"
   },
   "outputs": [],
   "source": [
    "f1 = 'Hello!'\n",
    "f2 = \"Hi\"\n",
    "\n",
    "g = \"\"\"Hi there!\n",
    "I'm a multiline string!\"\"\"\n",
    "\n",
    "h = 'foo' 'bar'\n",
    "h1 = 'foo', 'bar'\n",
    "\n",
    "i = ' \"\"\"\"\"\"\"\"\"\"\" '\n",
    "\n",
    "print(f1, f2)\n",
    "print(g)\n",
    "print(h)\n",
    "print(h1)\n",
    "print(i)"
   ]
  },
  {
   "cell_type": "markdown",
   "metadata": {
    "colab_type": "text",
    "id": "YI7-95KGQbZx"
   },
   "source": [
    "### Operations with strings"
   ]
  },
  {
   "cell_type": "code",
   "execution_count": null,
   "metadata": {
    "colab": {},
    "colab_type": "code",
    "id": "lmTFsTApj2zC",
    "outputId": "aba600cd-f1ff-4015-b2d6-fc53d5884e84"
   },
   "outputs": [],
   "source": [
    "\"Hello\" + \" \" + \"world\" # Operations with strings always create a new string"
   ]
  },
  {
   "cell_type": "code",
   "execution_count": null,
   "metadata": {
    "colab": {},
    "colab_type": "code",
    "id": "3wgvpw-SQbZ1",
    "outputId": "0fef245f-6774-4602-e63a-0265d1176173"
   },
   "outputs": [],
   "source": [
    "'Hello' + ' world' + \", ok?\""
   ]
  },
  {
   "cell_type": "code",
   "execution_count": null,
   "metadata": {
    "colab": {},
    "colab_type": "code",
    "id": "mS9ihlbkQbZ4",
    "outputId": "ba6d88bd-d70f-4880-963f-514dc4a7cf51"
   },
   "outputs": [],
   "source": [
    "\"\\\" Text:) \\\"\""
   ]
  },
  {
   "cell_type": "code",
   "execution_count": null,
   "metadata": {
    "colab": {},
    "colab_type": "code",
    "id": "GNOXu7bdQbZ8",
    "outputId": "2b93d583-2b02-4b93-dd4b-c924fe06a143"
   },
   "outputs": [],
   "source": [
    "'\\\" Text:) \\\"'"
   ]
  },
  {
   "cell_type": "code",
   "execution_count": null,
   "metadata": {
    "colab": {},
    "colab_type": "code",
    "id": "Mj1rTdTSQbaA",
    "outputId": "dcd6bb61-e6c3-4fc3-a3e2-973bff308b6c"
   },
   "outputs": [],
   "source": [
    "\"\\' Text:) \\'\""
   ]
  },
  {
   "cell_type": "code",
   "execution_count": null,
   "metadata": {
    "colab": {},
    "colab_type": "code",
    "id": "geDTsGLhQbaE",
    "outputId": "bd5b0fee-d414-4e1e-fdfe-5c0d54723012"
   },
   "outputs": [],
   "source": [
    "'\\' Text:) \\''"
   ]
  },
  {
   "cell_type": "code",
   "execution_count": null,
   "metadata": {
    "colab": {},
    "colab_type": "code",
    "id": "v4g9Jol3nnVk",
    "outputId": "ff3936e1-0dbb-4a1e-f8c2-01a63a3f8b5a"
   },
   "outputs": [],
   "source": [
    "a = 1\n",
    "b = 2\n",
    "print(\"Hello \" + \"world!\")\n",
    "print(\"%i + %i = %i\" % (a, b, a + b))\n",
    "print(\"%f + %f = %f\" % (a, b, a + b))\n",
    "print(\"{} + {} = {}\".format(a, b, a + b))\n",
    "print(\"{var_a} + {var_b} = {result}\".format(result=a + b, var_a=a, var_b=b))\n",
    "print(\"1 + 2 = %.6f\" % (1 + 2))\n",
    "print(\"1 + 2 = {}\".format(1 + 2))\n",
    "print(\"1 + 2 = {:.4f}\".format(1 + 2))"
   ]
  },
  {
   "cell_type": "code",
   "execution_count": null,
   "metadata": {
    "colab": {},
    "colab_type": "code",
    "id": "fih9-ipeQbaK"
   },
   "outputs": [],
   "source": [
    "# Do you know how to write **10.45** as **10.45000** using the information from the previous cell?"
   ]
  },
  {
   "cell_type": "code",
   "execution_count": null,
   "metadata": {
    "colab": {},
    "colab_type": "code",
    "id": "GULFQVgcQbaN",
    "outputId": "2c539028-c24e-4a8d-bb5d-28bd2d88a6e3"
   },
   "outputs": [],
   "source": [
    "'Hello, {}!'.format('world')"
   ]
  },
  {
   "cell_type": "code",
   "execution_count": null,
   "metadata": {
    "colab": {},
    "colab_type": "code",
    "id": "waJYGTvKQbaP",
    "outputId": "404844ac-ddde-429e-afca-d9277c1e82ea"
   },
   "outputs": [],
   "source": [
    "# check out f-strings! https://docs.python.org/3/reference/lexical_analysis.html#f-strings\n",
    "name = \"Fred\"\n",
    "f'He said his name is {name}.'"
   ]
  },
  {
   "cell_type": "markdown",
   "metadata": {
    "colab_type": "text",
    "id": "00Wdm1BEAGSa"
   },
   "source": [
    "### List"
   ]
  },
  {
   "cell_type": "markdown",
   "metadata": {
    "colab": {},
    "colab_type": "code",
    "id": "Vtd_VSXWQbaR"
   },
   "source": [
    "Below we have a look at several ways to organise together a collection of Python objects:\n",
    "\n",
    "**List** is a collection which is ordered and mutable. Allows duplicate members.  \n",
    "**Tuple** is a collection which is ordered and immutable. Allows duplicate members.  \n",
    "**Dictionary** is a collection which is unordered, mutable and indexed. No duplicate indices allowed.  \n",
    "**Set** is a collection which is unordered and unindexed. No duplicate members.\n",
    "\n",
    "Mutable means that object value can be change after creating it, whilst an object is called immutable if this value can't be changed. Have a look at [this article](https://towardsdatascience.com/https-towardsdatascience-com-python-basics-mutable-vs-immutable-objects-829a0cb1530a) and [this documentation](https://docs.python.org/3/tutorial/datastructures.html#) for more examples, but we will also explore this a bit in the 'tuple' section."
   ]
  },
  {
   "cell_type": "code",
   "execution_count": null,
   "metadata": {
    "colab": {},
    "colab_type": "code",
    "id": "QF4pb46M8Fr9",
    "outputId": "6dfb6d9e-307e-4f06-8c74-06ec9c6256ee"
   },
   "outputs": [],
   "source": [
    "list1 = [1, 2, -3, 'hello', 4e5, 8j, False]\n",
    "print(list1)\n",
    "print(type(list1))"
   ]
  },
  {
   "cell_type": "code",
   "execution_count": null,
   "metadata": {
    "colab": {},
    "colab_type": "code",
    "id": "LInAFaHm_zld",
    "outputId": "578ef3bb-9392-483f-db51-cb1539aafe27"
   },
   "outputs": [],
   "source": [
    "list11 = list1 + list1\n",
    "print(list11)"
   ]
  },
  {
   "cell_type": "code",
   "execution_count": null,
   "metadata": {
    "colab": {},
    "colab_type": "code",
    "id": "zz8V3id3_98u",
    "outputId": "5ef89e06-38c5-4195-ef92-b59d33e0e81f"
   },
   "outputs": [],
   "source": [
    "# list.append(elem) -- adds a single element to the end of the list.\n",
    "# Common error: does not return the new list, just modifies the original.\n",
    "\n",
    "list1.append('world')\n",
    "list1"
   ]
  },
  {
   "cell_type": "code",
   "execution_count": null,
   "metadata": {
    "colab": {},
    "colab_type": "code",
    "id": "eM5_GSw0Ab7J",
    "outputId": "5a39cbd4-423a-44d8-bbc6-d1795edf8c5c"
   },
   "outputs": [],
   "source": [
    "list2 = [[True, False], ['Hello'], 42]\n",
    "list2"
   ]
  },
  {
   "cell_type": "code",
   "execution_count": null,
   "metadata": {
    "colab": {},
    "colab_type": "code",
    "id": "or2i50-QBC0L",
    "outputId": "74b32178-a15a-4185-8dbe-bbffdd8e4e97"
   },
   "outputs": [],
   "source": [
    "list2.append(list2)\n",
    "list2"
   ]
  },
  {
   "cell_type": "markdown",
   "metadata": {
    "colab_type": "text",
    "id": "PM0ukvotBLfE"
   },
   "source": [
    "Here's how you can index lists (indexing starts with 0):"
   ]
  },
  {
   "cell_type": "code",
   "execution_count": null,
   "metadata": {
    "colab": {},
    "colab_type": "code",
    "id": "nFI445r_BBh1",
    "outputId": "fb457316-ed9f-4dea-a173-8a16d499d6c1"
   },
   "outputs": [],
   "source": [
    "list1 = [1, 2, -3, 'hello', 4e5, 8j, False]\n",
    "print(list1[0])\n",
    "print(list1[-1])\n",
    "print(list1[-2])\n",
    "print(list1[-4])"
   ]
  },
  {
   "cell_type": "code",
   "execution_count": null,
   "metadata": {},
   "outputs": [],
   "source": [
    "list1 = [1, 2, -3, 'hello', 4e5, 8j, False]"
   ]
  },
  {
   "cell_type": "code",
   "execution_count": null,
   "metadata": {
    "colab": {},
    "colab_type": "code",
    "id": "nWi3Ce3SC2xZ",
    "outputId": "87f6bb0a-fa63-4b73-bad4-b58980af2be1"
   },
   "outputs": [],
   "source": [
    "# and here are the slices:\n",
    "\n",
    "print(list1[:6:2])  # most general form - every 2nd element from 1 to 6\n",
    "print(list1[2::3])  # elements from 2 to the end with step 3\n",
    "print(list1[::2])  # every 2nd element starting from 0\n",
    "print(list1[::-1])  # all list in reverse order\n",
    "print(list1[2:5])  # elements from 2 to 5 (not including 5)\n",
    "print(list1[-2:])  # last two elements of the list"
   ]
  },
  {
   "cell_type": "code",
   "execution_count": null,
   "metadata": {
    "colab": {},
    "colab_type": "code",
    "id": "-Z4twE06lHgr",
    "outputId": "57dd02b6-aab9-4323-e590-55a378c5ce87"
   },
   "outputs": [],
   "source": [
    "# See below about 'for' in Python.\n",
    "\n",
    "a = [1, 2, 3, 'Hello']\n",
    "\n",
    "for i in a:\n",
    "    print(i, type(i)) # indentation is important! will explain this in a bit\n",
    "\n",
    "print(type(a))"
   ]
  },
  {
   "cell_type": "code",
   "execution_count": null,
   "metadata": {
    "colab": {},
    "colab_type": "code",
    "id": "Z1jg1HSuliJT",
    "outputId": "ab766eb9-3234-4572-ebd3-97bc580b5e88"
   },
   "outputs": [],
   "source": [
    "a = []\n",
    "for i in range(5):\n",
    "    a.append(i)\n",
    "print(a)"
   ]
  },
  {
   "cell_type": "code",
   "execution_count": null,
   "metadata": {
    "colab": {},
    "colab_type": "code",
    "id": "vjkYAJBFlXA9",
    "outputId": "b4f7684c-a8ed-4757-f110-570f79341051"
   },
   "outputs": [],
   "source": [
    "# list.insert(index, elem) -- inserts the element at the given index, shifting elements to the right.\n",
    "\n",
    "a = []\n",
    "for i in range(1, 20, 3):\n",
    "    print(i)\n",
    "    a.insert(0, i)\n",
    "print(\"\\n\")\n",
    "print(a)"
   ]
  },
  {
   "cell_type": "code",
   "execution_count": null,
   "metadata": {
    "colab": {},
    "colab_type": "code",
    "id": "VEb69umfQbaw",
    "outputId": "1943ba4c-1563-47b2-a584-d179e0964eed"
   },
   "outputs": [],
   "source": [
    "a = [1, 1, 1, 1, 1, 1, 1, 1, 1, 1]\n",
    "for i in range(10):\n",
    "    print(a[i])"
   ]
  },
  {
   "cell_type": "code",
   "execution_count": null,
   "metadata": {
    "colab": {},
    "colab_type": "code",
    "id": "AYJYOjSDQbaz",
    "outputId": "4fa81aa8-4ebd-42b8-a363-23e266fccfc1"
   },
   "outputs": [],
   "source": [
    "a = [1, 1, 1, 1, 1, 1, 1, 1, 1, 1]\n",
    "for i in range(10):\n",
    "    print(a)"
   ]
  },
  {
   "cell_type": "code",
   "execution_count": null,
   "metadata": {
    "colab": {},
    "colab_type": "code",
    "id": "OdMGUxinQba1",
    "outputId": "c84f12d3-773c-4c5e-a6c0-e599e018622e"
   },
   "outputs": [],
   "source": [
    "a = [1, 1, 1, 1, 1, 1, 1, 1, 1, 1]\n",
    "b = [1, 1, 1, 1, 1]\n",
    "c = [1, 1, 1, 1, 1]\n",
    "for i in range(1, 10, 3):\n",
    "    print(i)\n",
    "    a.insert(0, 'c')\n",
    "    b.insert(i, 'w')\n",
    "    c.insert(i + 1, 'w')\n",
    "print()\n",
    "print(a)\n",
    "print(\"\\n\")\n",
    "print(b)\n",
    "print(\"\")\n",
    "print(c)"
   ]
  },
  {
   "cell_type": "code",
   "execution_count": null,
   "metadata": {
    "colab": {},
    "colab_type": "code",
    "id": "A_brsG7UQba2",
    "outputId": "61ba9bc7-036e-47c0-82c8-3c7ed21050bc"
   },
   "outputs": [],
   "source": [
    "# list.extend(list2) adds the elements in list2 to the end of the list.\n",
    "# Using + or += on a list is similar to using extend().\n",
    "\n",
    "a = [1, 1, 1]\n",
    "b = [5, 5, 5]\n",
    "a.extend(b)\n",
    "a"
   ]
  },
  {
   "cell_type": "code",
   "execution_count": null,
   "metadata": {
    "colab": {},
    "colab_type": "code",
    "id": "ZpRADH7nQba4",
    "outputId": "951c009f-363d-49b9-f6fc-f5aa421e9501"
   },
   "outputs": [],
   "source": [
    "# list.remove(elem) -- searches for the first instance of the given element and\n",
    "# removes it (throws ValueError if not present)\n",
    "\n",
    "a = [1, 1, 1]\n",
    "a.remove(1)\n",
    "a"
   ]
  },
  {
   "cell_type": "code",
   "execution_count": null,
   "metadata": {
    "colab": {},
    "colab_type": "code",
    "id": "0y5Nfa6HQba6",
    "outputId": "afbf4e55-3eec-4448-949f-478ac940e72b"
   },
   "outputs": [],
   "source": [
    "a = [4, 1, 1]\n",
    "a.remove(4)\n",
    "a"
   ]
  },
  {
   "cell_type": "code",
   "execution_count": null,
   "metadata": {
    "colab": {},
    "colab_type": "code",
    "id": "NOC7CGwdQba7",
    "outputId": "435a9faf-7383-4a3a-b74f-4f556fcbc868"
   },
   "outputs": [],
   "source": [
    "a = [4, 1, 1]\n",
    "a.remove(7)\n",
    "a"
   ]
  },
  {
   "cell_type": "code",
   "execution_count": null,
   "metadata": {
    "colab": {},
    "colab_type": "code",
    "id": "7pldni9TQba-"
   },
   "outputs": [],
   "source": [
    "# Do you understand the previous error?"
   ]
  },
  {
   "cell_type": "code",
   "execution_count": null,
   "metadata": {
    "colab": {},
    "colab_type": "code",
    "id": "Nyx7BTq_Qba_",
    "outputId": "bbe33fb0-8454-4741-c57b-a1a24cb6ec27"
   },
   "outputs": [],
   "source": [
    "# The count() method returns the number of times the specified element appears in the list.\n",
    "\n",
    "a = [4, 1, 1, 5, 8, 10, 4, -4]\n",
    "a.count(-4)"
   ]
  },
  {
   "cell_type": "code",
   "execution_count": null,
   "metadata": {
    "colab": {},
    "colab_type": "code",
    "id": "5vFjA3QjQbbB",
    "outputId": "15bba281-b856-4f87-8702-0fcb948b9515"
   },
   "outputs": [],
   "source": [
    "# list.reverse() -- reverses the list in place (does not return it).\n",
    "\n",
    "a = [4, 1, 1, 5, 8, 10, 4, -4, 't', 'r']\n",
    "a.reverse()\n",
    "a"
   ]
  },
  {
   "cell_type": "code",
   "execution_count": null,
   "metadata": {
    "colab": {},
    "colab_type": "code",
    "id": "LXWPjVcWQbbC",
    "outputId": "309cc9b4-ffc4-4f2f-834f-2ffbd5cdcf96"
   },
   "outputs": [],
   "source": [
    "a = [4, 1, 1, 5, 8, 10, 4, -4, 't', 'r']\n",
    "a[::-1]  # reverse()"
   ]
  },
  {
   "cell_type": "code",
   "execution_count": null,
   "metadata": {
    "colab": {},
    "colab_type": "code",
    "id": "7lTe5LZrQbbD",
    "outputId": "0ac6f294-27bf-479b-d6b8-e44e8cc42352"
   },
   "outputs": [],
   "source": [
    "# The clear() method removes all items from the list.\n",
    "\n",
    "a = [4, 1, 1, 5, 8, 10, 4, -4, 't', 'r']\n",
    "a.clear()\n",
    "a"
   ]
  },
  {
   "cell_type": "code",
   "execution_count": null,
   "metadata": {
    "colab": {},
    "colab_type": "code",
    "id": "kuWFwu1cQbbF",
    "outputId": "9000d789-4d60-4edb-dc68-5d4aaaf2a200"
   },
   "outputs": [],
   "source": [
    "# list.sort() -- sorts the list in place (does not return it).\n",
    "# The sorted() function shown later is preferred.\n",
    "\n",
    "a = [4, 1, 1, 5, 8, 10, 4, -4]\n",
    "a.sort()\n",
    "a"
   ]
  },
  {
   "cell_type": "code",
   "execution_count": null,
   "metadata": {
    "colab": {},
    "colab_type": "code",
    "id": "6Kfwr1J0QbbG",
    "outputId": "362b49d7-ed56-4417-fe49-3ad911deb6bb"
   },
   "outputs": [],
   "source": [
    "a = [4, 1, 1, 5, 8, 10, 4, -4, 't', 'r']\n",
    "a.sort()"
   ]
  },
  {
   "cell_type": "code",
   "execution_count": null,
   "metadata": {
    "colab": {},
    "colab_type": "code",
    "id": "iffx_8HUQbbM"
   },
   "outputs": [],
   "source": [
    "# Do you understand the previous error?"
   ]
  },
  {
   "cell_type": "code",
   "execution_count": null,
   "metadata": {
    "colab": {},
    "colab_type": "code",
    "id": "vYbXV7DCQbbO"
   },
   "outputs": [],
   "source": [
    "a, b = [1, 2]"
   ]
  },
  {
   "cell_type": "code",
   "execution_count": null,
   "metadata": {
    "colab": {},
    "colab_type": "code",
    "id": "078-K_fVQbbQ",
    "outputId": "decaab38-8068-4c3f-d75c-ea7f6c915962"
   },
   "outputs": [],
   "source": [
    "a"
   ]
  },
  {
   "cell_type": "code",
   "execution_count": null,
   "metadata": {
    "colab": {},
    "colab_type": "code",
    "id": "xhbVL3VyQbbS",
    "outputId": "2c177904-75f1-497b-a935-3ac656c5fb3f"
   },
   "outputs": [],
   "source": [
    "type(a)"
   ]
  },
  {
   "cell_type": "code",
   "execution_count": null,
   "metadata": {
    "colab": {},
    "colab_type": "code",
    "id": "59mgrnWxQbbV",
    "outputId": "fc75bae7-308f-448a-bc60-8ef70d49f5bd"
   },
   "outputs": [],
   "source": [
    "# Join two lists together:\n",
    "\n",
    "a = [10, 20, 30, 40]\n",
    "b = ['a', 'b', 'c', 'd', 'e']\n",
    "for i, j in zip(a, b):\n",
    "    print(i, j)"
   ]
  },
  {
   "cell_type": "code",
   "execution_count": null,
   "metadata": {},
   "outputs": [],
   "source": [
    "# here we showcase a bit of build-in functions of Python\n",
    "# have a look here for more fancy\n",
    "# https://docs.python.org/3.8/library/functions.html"
   ]
  },
  {
   "cell_type": "code",
   "execution_count": null,
   "metadata": {
    "colab": {},
    "colab_type": "code",
    "id": "wpDgCZufQbbY",
    "outputId": "1c52dc80-f0cd-4d20-b9d3-94f6789e5ae1"
   },
   "outputs": [],
   "source": [
    "import itertools  # See below about 'import'\n",
    "\n",
    "a = [10, 20, 30, 40]\n",
    "b = ['a', 'b', 'c', 'd', 'e']\n",
    "c = [1.1, 1.2]\n",
    "for i in itertools.zip_longest(a, b, c):\n",
    "    print(i)"
   ]
  },
  {
   "cell_type": "code",
   "execution_count": null,
   "metadata": {
    "colab": {},
    "colab_type": "code",
    "id": "Be9cYa14Qbbc",
    "outputId": "11e2f919-fccc-4edc-c849-cc06b5a41f49"
   },
   "outputs": [],
   "source": [
    "s = 'abc'\n",
    "t = (10, 20, 30, 40)\n",
    "a = list(zip(s, t))\n",
    "a"
   ]
  },
  {
   "cell_type": "code",
   "execution_count": null,
   "metadata": {
    "colab": {},
    "colab_type": "code",
    "id": "cWm6_F1hQbbd",
    "outputId": "6212070d-a486-4501-fdd9-35c66925e476"
   },
   "outputs": [],
   "source": [
    "type(a)"
   ]
  },
  {
   "cell_type": "code",
   "execution_count": null,
   "metadata": {
    "colab": {},
    "colab_type": "code",
    "id": "nwT5gfhRQbbh",
    "outputId": "901d6f4c-1be0-406e-8d51-1f6cd0f57fa3"
   },
   "outputs": [],
   "source": [
    "a = [-1, 0, 1, 0, 0, 1, 0, -1]\n",
    "b = list(filter(None, a))\n",
    "b"
   ]
  },
  {
   "cell_type": "code",
   "execution_count": null,
   "metadata": {
    "colab": {},
    "colab_type": "code",
    "id": "jBq_8c6wQbbj",
    "outputId": "34267167-2f42-4337-dc31-f6d0b4bcbdae"
   },
   "outputs": [],
   "source": [
    "a = ['a', '', 'd', 'cc', ' ']\n",
    "b = list(filter(None, a))\n",
    "b"
   ]
  },
  {
   "cell_type": "markdown",
   "metadata": {},
   "source": [
    "### Problem №1"
   ]
  },
  {
   "cell_type": "markdown",
   "metadata": {
    "colab_type": "text",
    "id": "HgT5K_JoQbbk"
   },
   "source": [
    "Write a Python program to clone or copy a list.\n",
    "\n",
    "You have original_list = [50, 4, 52, 't', 34, '9z4']."
   ]
  },
  {
   "cell_type": "markdown",
   "metadata": {},
   "source": [
    "### Problem №2"
   ]
  },
  {
   "cell_type": "markdown",
   "metadata": {
    "colab_type": "text",
    "id": "UrOZs7pqQbbk"
   },
   "source": [
    "Write a Python program to convert a list of characters into a string.\n",
    "\n",
    "You have list1 = ['h', 'e', 'l', 'l', 'o', ',', ' ', 'w', 'o', 'r', 'l', 'd', '!']"
   ]
  },
  {
   "cell_type": "markdown",
   "metadata": {
    "colab_type": "text",
    "id": "J8B2ZlQmQbbl"
   },
   "source": [
    "### Tuple"
   ]
  },
  {
   "cell_type": "markdown",
   "metadata": {},
   "source": [
    "A very similar type is called \"tuple\". Similarly to lists, tuples are arrays of objects, but the major difference is that they are **immutable**. Let's compare them side-by-side."
   ]
  },
  {
   "cell_type": "code",
   "execution_count": null,
   "metadata": {
    "colab": {},
    "colab_type": "code",
    "id": "nony88Y4CsoI",
    "outputId": "9840bc98-e7f5-4fb8-d88e-a42572800bc9"
   },
   "outputs": [],
   "source": [
    "list2 = [[True, False], ['Hello'], 42]\n",
    "tuple1 = (1, 2, 'foo')\n",
    "tuple2 = tuple(list2)  # You can initialize tuples with lists and vice versa\n",
    "print(tuple1)\n",
    "print(tuple2)"
   ]
  },
  {
   "cell_type": "markdown",
   "metadata": {
    "colab_type": "text",
    "id": "4wgK4O_QEwpv"
   },
   "source": [
    "Note that inner lists from `list2` are stored as lists within the `tuple2`, so they are mutable:"
   ]
  },
  {
   "cell_type": "code",
   "execution_count": null,
   "metadata": {
    "colab": {},
    "colab_type": "code",
    "id": "vShUqu8SEc_7",
    "outputId": "38a319c2-264f-4038-d030-ab4163121908"
   },
   "outputs": [],
   "source": [
    "tuple2[0].append(8)\n",
    "print(tuple2)"
   ]
  },
  {
   "cell_type": "markdown",
   "metadata": {
    "colab_type": "text",
    "id": "h_BsFBKRFTYE"
   },
   "source": [
    "Also note, that the first item in `list2` has changed as well:"
   ]
  },
  {
   "cell_type": "code",
   "execution_count": null,
   "metadata": {
    "colab": {},
    "colab_type": "code",
    "id": "Va_HqVsmFIjX",
    "outputId": "70f79dc3-9a8a-41d7-f572-95f0e4ba7b66"
   },
   "outputs": [],
   "source": [
    "list2"
   ]
  },
  {
   "cell_type": "markdown",
   "metadata": {
    "colab_type": "text",
    "id": "LVnOMmgQFkqm"
   },
   "source": [
    "This illustrates a very important feature of python: **all objects are stored by reference.** Since `tuple2` was initialized from `list2`, they both reference the same object instances.\n",
    "You can check whether two variables are referencing the same object with `is` operator:"
   ]
  },
  {
   "cell_type": "code",
   "execution_count": null,
   "metadata": {
    "colab": {},
    "colab_type": "code",
    "id": "9mbgGuc0Fbgh",
    "outputId": "72c7aefd-6918-40f6-ac17-996aa5263da1"
   },
   "outputs": [],
   "source": [
    "print(list2[-1])\n",
    "print(list2[-1] is list2)\n",
    "print(tuple2[0] is list2[0])"
   ]
  },
  {
   "cell_type": "markdown",
   "metadata": {
    "colab_type": "text",
    "id": "lwGbXShSHUAo"
   },
   "source": [
    "Two empty tuples created with `tuple()` expression will reference the same object:"
   ]
  },
  {
   "cell_type": "code",
   "execution_count": null,
   "metadata": {
    "colab": {},
    "colab_type": "code",
    "id": "QOQ71ETcHmpX",
    "outputId": "13f9e1dc-169d-4cd7-fea1-47f50b7172df"
   },
   "outputs": [],
   "source": [
    "tuple() is tuple()"
   ]
  },
  {
   "cell_type": "markdown",
   "metadata": {
    "colab_type": "text",
    "id": "GeTA_nFSHqOI"
   },
   "source": [
    "while two empty lists won't, since lists are mutable (and the two empty list instances may be changed differently):"
   ]
  },
  {
   "cell_type": "code",
   "execution_count": null,
   "metadata": {
    "colab": {},
    "colab_type": "code",
    "id": "s1TzcRMwHofA",
    "outputId": "8c944406-75fd-48c1-873d-9c11cbdfdc8c"
   },
   "outputs": [],
   "source": [
    "list() is list()"
   ]
  },
  {
   "cell_type": "markdown",
   "metadata": {
    "colab_type": "text",
    "id": "D_71MZB0NiOP"
   },
   "source": [
    "### Dictionary\n",
    "\n",
    "Another important type is a **dictionary**. Dictionaries are key->value mappings with a restriction that keys can only be immutable objects."
   ]
  },
  {
   "cell_type": "code",
   "execution_count": null,
   "metadata": {
    "colab": {},
    "colab_type": "code",
    "id": "v6WfRilNHuWR",
    "outputId": "9262ff1f-d07d-42b9-e999-bb02d7946da6"
   },
   "outputs": [],
   "source": [
    "# several ways to create\n",
    "dict1 = {\"foo\": 'bar', -3: False}\n",
    "dict2 = dict(foo='bar', hello='world')\n",
    "\n",
    "print(dict1)\n",
    "print(dict2)"
   ]
  },
  {
   "cell_type": "code",
   "execution_count": null,
   "metadata": {
    "colab": {},
    "colab_type": "code",
    "id": "Nmmm2ErNObj7",
    "outputId": "de8db159-19f2-4762-ab08-df917693cf6b"
   },
   "outputs": [],
   "source": [
    "# accessing elements\n",
    "print(dict1[-3])\n",
    "print(dict2['foo'])\n",
    "\n",
    "dict2['new_key'] = 'new_value'\n",
    "print(dict2)"
   ]
  },
  {
   "cell_type": "code",
   "execution_count": null,
   "metadata": {
    "colab": {},
    "colab_type": "code",
    "id": "rSN4fJnYQbcK",
    "outputId": "cfabdc44-398e-4fcd-f778-f051040b29fb"
   },
   "outputs": [],
   "source": [
    "d = {'key': 'value'}\n",
    "print(d)\n",
    "\n",
    "d['my_new_key'] = 'my_new_value'\n",
    "print(d)"
   ]
  },
  {
   "cell_type": "code",
   "execution_count": null,
   "metadata": {
    "colab": {},
    "colab_type": "code",
    "id": "eZjkPyTNQbcM",
    "outputId": "48f1f492-f546-4ee7-ac19-13bc198970c6"
   },
   "outputs": [],
   "source": [
    "x = {1: 2}\n",
    "print(x)"
   ]
  },
  {
   "cell_type": "code",
   "execution_count": null,
   "metadata": {
    "colab": {},
    "colab_type": "code",
    "id": "hhHxBWmuQbcO",
    "outputId": "b5b51956-96ef-42bb-d976-23d9de3831ba"
   },
   "outputs": [],
   "source": [
    "d = {3: 4, 5: 6, 7: 8}\n",
    "x.update(d)\n",
    "print(x)"
   ]
  },
  {
   "cell_type": "code",
   "execution_count": null,
   "metadata": {
    "colab": {},
    "colab_type": "code",
    "id": "7lYizFXoQbcQ",
    "outputId": "36748873-5a5f-4fcf-93b0-2a55dd2efbd8"
   },
   "outputs": [],
   "source": [
    "names = ['Tom', 'Dick', 'Harry']\n",
    "ages = [50, 35, 60]\n",
    "\n",
    "a = dict(zip(names, ages))\n",
    "a"
   ]
  },
  {
   "cell_type": "code",
   "execution_count": null,
   "metadata": {
    "colab": {},
    "colab_type": "code",
    "id": "rdYC2AsyQbcU",
    "outputId": "2156272a-7dc8-4d2d-865e-ff8f910c5112"
   },
   "outputs": [],
   "source": [
    "type(a)"
   ]
  },
  {
   "cell_type": "code",
   "execution_count": null,
   "metadata": {},
   "outputs": [],
   "source": [
    "# Only hashable objects can be used as dict keys.\n",
    "# Mutable objects are always not hashable\n",
    "incorrect_key = ['Bob']\n",
    "a[incorrect_key] = 42"
   ]
  },
  {
   "cell_type": "code",
   "execution_count": null,
   "metadata": {
    "colab": {},
    "colab_type": "code",
    "id": "GwfHxeFhQbdt",
    "outputId": "400631ac-fb61-46d0-ae6b-2b6d4b89c591"
   },
   "outputs": [],
   "source": [
    "# Dictionary of string and int\n",
    "word_freq = {\"Hello\": 56, \"at\": 23, \"test\": 43, \"this\": 78}\n",
    "\n",
    "key = 'test'\n",
    "\n",
    "# python check if key in dict using \"in\"\n",
    "if key in word_freq:\n",
    "    print(f\"Yes, key: '{key}' exists in dictionary\")\n",
    "else:\n",
    "    print(f\"No, key: '{key}' does not exists in dictionary\")"
   ]
  },
  {
   "cell_type": "code",
   "execution_count": null,
   "metadata": {
    "colab": {},
    "colab_type": "code",
    "id": "Xe72BYefQbdv",
    "outputId": "c42afafd-d1c0-4ece-ba42-4af945a89496"
   },
   "outputs": [],
   "source": [
    "# Dictionary of string and int\n",
    "word_freq = {\"Hello\": 56, \"at\": 23, \"test\": 43, \"this\": 78}\n",
    "\n",
    "key = 'notest'\n",
    "\n",
    "# python check if key in dict using \"in\"\n",
    "if key in word_freq:\n",
    "    print(f\"Yes, key: '{key}' exists in dictionary\")\n",
    "else:\n",
    "    print(f\"No, key: '{key}' does not exists in dictionary\")"
   ]
  },
  {
   "cell_type": "markdown",
   "metadata": {
    "colab_type": "text",
    "id": "NZVKu18XQbcW"
   },
   "source": [
    "### Set and frozenset"
   ]
  },
  {
   "cell_type": "code",
   "execution_count": null,
   "metadata": {
    "colab": {},
    "colab_type": "code",
    "id": "Zsi3fxSKQbcW",
    "outputId": "1c0f895d-9737-4c80-838b-9190e3f03349"
   },
   "outputs": [],
   "source": [
    "a = {4, 5, 6}\n",
    "a"
   ]
  },
  {
   "cell_type": "code",
   "execution_count": null,
   "metadata": {
    "colab": {},
    "colab_type": "code",
    "id": "xOS_DjiGQbcX",
    "outputId": "9354e116-0da9-414c-beb1-080bc2070948"
   },
   "outputs": [],
   "source": [
    "type(a)"
   ]
  },
  {
   "cell_type": "code",
   "execution_count": null,
   "metadata": {
    "colab": {},
    "colab_type": "code",
    "id": "bR7eoEK-QbcZ",
    "outputId": "cfccb7a2-da9b-40f7-e0a1-9817661b31c5"
   },
   "outputs": [],
   "source": [
    "# Frozenset is an immutable version of set\n",
    "b = frozenset('qwerty')\n",
    "b"
   ]
  },
  {
   "cell_type": "code",
   "execution_count": null,
   "metadata": {
    "colab": {},
    "colab_type": "code",
    "id": "DfNBalORQbcb",
    "outputId": "49a3bd1d-74b7-44ed-ca98-da079dc5a385"
   },
   "outputs": [],
   "source": [
    "type(b)"
   ]
  },
  {
   "cell_type": "code",
   "execution_count": null,
   "metadata": {
    "colab": {},
    "colab_type": "code",
    "id": "mmF4lICJQbcc",
    "outputId": "4608ecb0-6482-4591-9bb6-44e4c6bb0d73"
   },
   "outputs": [],
   "source": [
    "this_set = {\"apple\", \"banana\", \"cherry\"}\n",
    "print(this_set)\n",
    "\n",
    "# Note: Sets are unordered, so you cannot be sure in which order the items will appear.\n",
    "# Once a set is created, you cannot change its items, but you can add new items.\n",
    "# To add one item to set use the add() method.\n",
    "# To add more than one item to set use the update() method."
   ]
  },
  {
   "cell_type": "code",
   "execution_count": null,
   "metadata": {
    "colab": {},
    "colab_type": "code",
    "id": "zE5UJVVXQbch",
    "outputId": "d25956e6-04c8-469c-adb1-5533a9545097"
   },
   "outputs": [],
   "source": [
    "this_set = {\"apple\", \"banana\", \"cherry\"}\n",
    "this_set.add(\"orange\")\n",
    "\n",
    "print(this_set)"
   ]
  },
  {
   "cell_type": "code",
   "execution_count": null,
   "metadata": {
    "colab": {},
    "colab_type": "code",
    "id": "SzKjHrHPQbci",
    "outputId": "75fc64a5-d910-46ff-c114-3a8787f763df"
   },
   "outputs": [],
   "source": [
    "this_set = {\"apple\", \"banana\", \"cherry\"}\n",
    "this_set.update([\"orange\", \"mango\", \"grapes\"])\n",
    "\n",
    "print(this_set)"
   ]
  },
  {
   "cell_type": "code",
   "execution_count": null,
   "metadata": {
    "colab": {},
    "colab_type": "code",
    "id": "eocra9mFQbcn",
    "outputId": "92ba2df3-8bf3-4c2a-89d3-53c0355fb033"
   },
   "outputs": [],
   "source": [
    "# To remove an item in a set, use the remove(), or the discard() method.\n",
    "\n",
    "this_set = {\"apple\", \"banana\", \"cherry\"}\n",
    "this_set.remove(\"banana\")\n",
    "\n",
    "print(this_set)"
   ]
  },
  {
   "cell_type": "code",
   "execution_count": null,
   "metadata": {
    "colab": {},
    "colab_type": "code",
    "id": "xV0I57jdQbco",
    "outputId": "21f5a702-b3be-4806-b650-9ce429d889a6"
   },
   "outputs": [],
   "source": [
    "this_set = {\"apple\", \"banana\", \"cherry\"}\n",
    "this_set.discard(\"banana\") \n",
    "\n",
    "print(this_set)"
   ]
  },
  {
   "cell_type": "code",
   "execution_count": null,
   "metadata": {
    "colab": {},
    "colab_type": "code",
    "id": "_TS8UnLhQbcq",
    "outputId": "ef14207b-752f-4c1b-86fa-00d7d1c4a24c"
   },
   "outputs": [],
   "source": [
    "# Remove the last item by using the pop() method:\n",
    "\n",
    "this_set = {\"apple\", \"banana\", \"cherry\"}\n",
    "item = this_set.pop()\n",
    "\n",
    "print(item)\n",
    "print(this_set)"
   ]
  },
  {
   "cell_type": "code",
   "execution_count": null,
   "metadata": {
    "colab": {},
    "colab_type": "code",
    "id": "TB-VFDMyQbcs",
    "outputId": "4dce4085-4bae-44b4-d1cd-394fdc6df80c"
   },
   "outputs": [],
   "source": [
    "# The clear() method empties the set:\n",
    "\n",
    "this_set = {\"apple\", \"banana\", \"cherry\"}\n",
    "this_set.clear() \n",
    "\n",
    "print(this_set)"
   ]
  },
  {
   "cell_type": "markdown",
   "metadata": {},
   "source": [
    "Sets also support other operations - union, intersection, etc. \n",
    "Full list can be found here: https://docs.python.org/3/library/stdtypes.html#set-types-set-frozenset "
   ]
  },
  {
   "cell_type": "code",
   "execution_count": null,
   "metadata": {},
   "outputs": [],
   "source": [
    "# Only hashable objects can be stored is set\n",
    "this_set.add(['pineapple'])"
   ]
  },
  {
   "cell_type": "markdown",
   "metadata": {
    "colab_type": "text",
    "id": "xtEdQYzzkPK5"
   },
   "source": [
    "## **Loops, conditionals and iterables**"
   ]
  },
  {
   "cell_type": "markdown",
   "metadata": {
    "colab_type": "text",
    "id": "0Pt_9mXlQbcv"
   },
   "source": [
    "**Important note on indentation in Python:** \n",
    "\n",
    "In general, if you type some lines of code, they will most probably come in _blocks_ according to some logic where every block has its specific purpose. Most of the programming languages like C, C++, Java use braces { } to define a block of code. One of the distinctive features of Python is its **use of indentation to highlighting the blocks of code.** Whitespace is used for indentation in Python. All statements with the same distance to the right belong to the same block of code. If a block has to be more deeply nested, it is simply indented further to the right."
   ]
  },
  {
   "cell_type": "markdown",
   "metadata": {},
   "source": [
    "### If/else"
   ]
  },
  {
   "cell_type": "code",
   "execution_count": null,
   "metadata": {
    "colab": {},
    "colab_type": "code",
    "id": "K1rAbpzfQbcw",
    "outputId": "884fd3a5-908f-4493-d26c-60956f21228b"
   },
   "outputs": [],
   "source": [
    "null_variable = None\n",
    "not_null_variable = 'Hello There!'\n",
    "\n",
    "if null_variable is None:\n",
    "    print('null_variable is None')  # Four spaces or one Tab\n",
    "else:\n",
    "    print('null_variable is not None')  # Four spaces or one Tab"
   ]
  },
  {
   "cell_type": "code",
   "execution_count": null,
   "metadata": {},
   "outputs": [],
   "source": [
    "# you can also have nested if-conditions\n",
    "a = 0\n",
    "if True is not None:\n",
    "    if a in [1, 2, 3]:\n",
    "        a += 1\n",
    "    elif a in (0, -1, -2):\n",
    "        print(f'a = {a}')\n",
    "    else:\n",
    "        print('')\n",
    "else:\n",
    "    print('True is None')"
   ]
  },
  {
   "cell_type": "markdown",
   "metadata": {},
   "source": [
    "### While"
   ]
  },
  {
   "cell_type": "code",
   "execution_count": null,
   "metadata": {
    "colab": {},
    "colab_type": "code",
    "id": "pUary3TNkAYj",
    "outputId": "d6a3a806-7814-47ef-fa1d-26de9e0a8cfd"
   },
   "outputs": [],
   "source": [
    "a = 0\n",
    "\n",
    "while a < 10:\n",
    "    a += 1\n",
    "    print(a**2)"
   ]
  },
  {
   "cell_type": "code",
   "execution_count": null,
   "metadata": {
    "colab": {},
    "colab_type": "code",
    "id": "vu72fc7CQbc0",
    "outputId": "d42db55d-96e2-47e8-c443-1e5d232cc672"
   },
   "outputs": [],
   "source": [
    "a = 0\n",
    "\n",
    "while a < 10:\n",
    "   a += 1\n",
    "   print(a**2)\n",
    "\n",
    "# Can you fix the line with 'a += 1'?"
   ]
  },
  {
   "cell_type": "code",
   "execution_count": null,
   "metadata": {
    "colab": {},
    "colab_type": "code",
    "id": "4bffY_ckQbc4",
    "outputId": "0f315fe3-c221-42ba-9f40-600b76d95673"
   },
   "outputs": [],
   "source": [
    "a = 0\n",
    "\n",
    "while a < 10:\n",
    "    a += 1\n",
    "  print(a**2)\n",
    "\n",
    "# Can you fix the line with 'print(a**2)'?"
   ]
  },
  {
   "cell_type": "code",
   "execution_count": null,
   "metadata": {
    "colab": {},
    "colab_type": "code",
    "id": "am8PyJwEQbc9",
    "outputId": "1701c810-27d9-4eb6-c43c-79789ff8e869"
   },
   "outputs": [],
   "source": [
    "i = 0\n",
    "while i < 10:\n",
    "    if i == 5:\n",
    "        print(\"end.\")\n",
    "        break\n",
    "    else:\n",
    "        print(i)\n",
    "        i += 1"
   ]
  },
  {
   "cell_type": "code",
   "execution_count": null,
   "metadata": {
    "colab": {},
    "colab_type": "code",
    "id": "En6Sl1TQQbc_",
    "outputId": "cd7922d1-5cec-4bd5-88cc-177fa3ed7659"
   },
   "outputs": [],
   "source": [
    "# Now without 'print(\"end.\")'\n",
    "# Do you understand the logic of 'break'?\n",
    "# Where is printout from 'print(\"end.\")'?\n",
    "\n",
    "i = 0\n",
    "while i < 10:\n",
    "    if i == 5:\n",
    "        break\n",
    "        print(\"end.\")\n",
    "    else:\n",
    "        print(i)\n",
    "        i += 1"
   ]
  },
  {
   "cell_type": "markdown",
   "metadata": {},
   "source": [
    "### For"
   ]
  },
  {
   "cell_type": "code",
   "execution_count": null,
   "metadata": {
    "colab": {},
    "colab_type": "code",
    "id": "YUJIjRKCQbc6",
    "outputId": "1a617d0f-7dae-4b82-f806-6603d376a30b"
   },
   "outputs": [],
   "source": [
    "a = 2\n",
    "for i in range(10):\n",
    "    print('i = ', i)\n",
    "    if a < 7:\n",
    "        print('a = ', a)\n",
    "    else:\n",
    "        print(\"end\")\n",
    "        break\n",
    "    a += 1\n",
    "    print(\"\\n\")"
   ]
  },
  {
   "cell_type": "code",
   "execution_count": null,
   "metadata": {
    "colab": {},
    "colab_type": "code",
    "id": "TEWugY5uQbdB",
    "outputId": "c961bc4a-7870-4cab-d6b9-8d97caff3a75"
   },
   "outputs": [],
   "source": [
    "for num in range(7):\n",
    "    print('num = ', num)\n",
    "    if num == 3:\n",
    "        continue\n",
    "    if num == 5:\n",
    "        continue\n",
    "    else:\n",
    "        print(num)"
   ]
  },
  {
   "cell_type": "code",
   "execution_count": null,
   "metadata": {
    "colab": {},
    "colab_type": "code",
    "id": "tUur7yRTQbdD",
    "outputId": "2850710f-1e17-4afb-8577-c003c54cecbf"
   },
   "outputs": [],
   "source": [
    "for num in range(7):\n",
    "    print('num = ', num)\n",
    "    if num == 3:\n",
    "        print('some text')\n",
    "        continue\n",
    "    if num == 5:\n",
    "        continue\n",
    "    else:\n",
    "        print(num)"
   ]
  },
  {
   "cell_type": "code",
   "execution_count": null,
   "metadata": {
    "colab": {},
    "colab_type": "code",
    "id": "Dg-7Q3K9QbdF",
    "outputId": "9193004a-775f-4614-e6ae-455d3c0a8954"
   },
   "outputs": [],
   "source": [
    "# Do you understand the logic of 'continue'?\n",
    "# Where is out from 'print('some text')'?\n",
    "\n",
    "for num in range(7):\n",
    "    print('num = ', num)\n",
    "    if num == 3:\n",
    "        continue\n",
    "        print('some text')\n",
    "    if num == 5:\n",
    "        continue\n",
    "    else:\n",
    "        print(num)"
   ]
  },
  {
   "cell_type": "code",
   "execution_count": null,
   "metadata": {
    "colab": {},
    "colab_type": "code",
    "id": "x8pzMTMXQbdJ",
    "outputId": "89afecdf-99e8-4ec7-d8ff-00f28ea5618c"
   },
   "outputs": [],
   "source": [
    "for num in range(7):\n",
    "    if num < 3:\n",
    "        pass\n",
    "    else:\n",
    "        print(num)"
   ]
  },
  {
   "cell_type": "code",
   "execution_count": null,
   "metadata": {
    "colab": {},
    "colab_type": "code",
    "id": "pric_q_tQbdM",
    "outputId": "c77e9533-e6bf-4e1e-c122-8577a7ca6e55"
   },
   "outputs": [],
   "source": [
    "# Do you understand the logic of 'pass'?\n",
    "\n",
    "for num in range(7):\n",
    "    if num < 3:\n",
    "        pass\n",
    "        print('text')\n",
    "    else:\n",
    "        print(num)"
   ]
  },
  {
   "cell_type": "code",
   "execution_count": null,
   "metadata": {
    "colab": {},
    "colab_type": "code",
    "id": "_yO1tD-mOt5V",
    "outputId": "2ac3ea07-5fb5-469a-d7f4-eb602c050ac5"
   },
   "outputs": [],
   "source": [
    "objects = [1, 2, 'hello', False]\n",
    "\n",
    "# loop over elements of the list\n",
    "for obj in objects:\n",
    "    print(obj)"
   ]
  },
  {
   "cell_type": "code",
   "execution_count": null,
   "metadata": {
    "colab": {},
    "colab_type": "code",
    "id": "dmCu-COkPVJ5",
    "outputId": "7bb88c60-ea5d-4426-bdac-5bd6b5cb6ef0"
   },
   "outputs": [],
   "source": [
    "for i in range(5):\n",
    "    print(i)"
   ]
  },
  {
   "cell_type": "markdown",
   "metadata": {
    "colab_type": "text",
    "id": "-XwmCqJRQEZB"
   },
   "source": [
    "Note that `range` has more arguments. Place the cursor right after the opening bracket and hit **TAB** to see help:"
   ]
  },
  {
   "cell_type": "code",
   "execution_count": null,
   "metadata": {
    "colab": {},
    "colab_type": "code",
    "id": "ONcxDwQ_QbdT",
    "outputId": "341a0e76-0e52-4bdb-c811-743d8eab48b5"
   },
   "outputs": [],
   "source": [
    "# for i in range(20, 63, 3):\n",
    "for i in range()\n",
    "    print(i)"
   ]
  },
  {
   "cell_type": "code",
   "execution_count": null,
   "metadata": {
    "colab": {},
    "colab_type": "code",
    "id": "mpk_kkcIQqQf",
    "outputId": "87ec6232-4d0c-415a-9588-f609308cc0a7"
   },
   "outputs": [],
   "source": [
    "for i in range(100):\n",
    "    if i % 7 == 1 and i % 5 == 3:\n",
    "        print(\"i % 7 == 1 and i % 5 == 3:\", i)\n",
    "    if not (i > 3) or i > 98:\n",
    "        print(\"not (i > 3) or i > 98:\", i)"
   ]
  },
  {
   "cell_type": "code",
   "execution_count": null,
   "metadata": {
    "colab": {},
    "colab_type": "code",
    "id": "zOolnUZeOMdc",
    "outputId": "e256a6e8-c75c-4f79-84ed-030fd938696f"
   },
   "outputs": [],
   "source": [
    "list1 = [3, 15, 27, 42]\n",
    "list2 = []\n",
    "\n",
    "for i in range(30):\n",
    "    if i in list1:\n",
    "        list2.append(i**2)\n",
    "\n",
    "print(list2)"
   ]
  },
  {
   "cell_type": "markdown",
   "metadata": {},
   "source": [
    "### Iterables"
   ]
  },
  {
   "cell_type": "code",
   "execution_count": null,
   "metadata": {
    "colab": {},
    "colab_type": "code",
    "id": "NWxO0n5VQbda",
    "outputId": "4b7744b7-ea60-40d7-b525-4cfcc2cc2161"
   },
   "outputs": [],
   "source": [
    "squares = []\n",
    "squares"
   ]
  },
  {
   "cell_type": "code",
   "execution_count": null,
   "metadata": {
    "colab": {},
    "colab_type": "code",
    "id": "EQhnQayOQbdj",
    "outputId": "a80b6fae-35a2-45a9-c517-dee4ca4fae05"
   },
   "outputs": [],
   "source": [
    "# list comprehension\n",
    "# do you understand what's happening here?\n",
    "\n",
    "squares = [i * i for i in range(10)]\n",
    "squares"
   ]
  },
  {
   "cell_type": "code",
   "execution_count": null,
   "metadata": {
    "colab": {},
    "colab_type": "code",
    "id": "u6EtLPfnQbdk",
    "outputId": "829a6459-544b-4b6c-ef73-dfbfa6ede402"
   },
   "outputs": [],
   "source": [
    "odds = [x for x in range(10)]\n",
    "odds"
   ]
  },
  {
   "cell_type": "code",
   "execution_count": null,
   "metadata": {
    "colab": {},
    "colab_type": "code",
    "id": "245htpGWQbdn",
    "outputId": "96fbfe36-c63c-4844-ec5b-d1529a9c631f"
   },
   "outputs": [],
   "source": [
    "odds = [x for x in range(10) if x % 2 != 0]\n",
    "odds"
   ]
  },
  {
   "cell_type": "code",
   "execution_count": null,
   "metadata": {
    "colab": {},
    "colab_type": "code",
    "id": "cjV-c-6DQbdq",
    "outputId": "e27f8f2f-c45d-4662-cc92-038db45cfae8"
   },
   "outputs": [],
   "source": [
    "[x**2 if x % 2 == 0 else x**3 for x in range(10)]"
   ]
  },
  {
   "cell_type": "code",
   "execution_count": null,
   "metadata": {
    "colab": {},
    "colab_type": "code",
    "id": "3bWq-wAzQbds",
    "outputId": "ed876388-7ec7-4ae2-8c29-8995345b1707"
   },
   "outputs": [],
   "source": [
    "a = [x**2 if x % 2 == 0 else x**3 for x in range(10)]\n",
    "type(a)"
   ]
  },
  {
   "cell_type": "code",
   "execution_count": null,
   "metadata": {
    "colab": {},
    "colab_type": "code",
    "id": "CR94jaG0Qbdw",
    "outputId": "ae33cdd5-df7d-4254-fa7b-ee3d8d1a9d4b"
   },
   "outputs": [],
   "source": [
    "# mapping function to iterables\n",
    "list_of_words = ['one', 'two', 'list', '', 'dict']\n",
    "list(map(str.upper, list_of_words))"
   ]
  },
  {
   "cell_type": "code",
   "execution_count": null,
   "metadata": {
    "colab": {},
    "colab_type": "code",
    "id": "UloPcCdUQbdy",
    "outputId": "99efd6e9-1aea-4ed9-825c-9116a4fd66b5"
   },
   "outputs": [],
   "source": [
    "list_of_str = ['1', '2', '5', '10']\n",
    "list(map(float, list_of_str))"
   ]
  },
  {
   "cell_type": "code",
   "execution_count": null,
   "metadata": {
    "colab": {},
    "colab_type": "code",
    "id": "DeS2lkChQbdz",
    "outputId": "106c4d23-2ef9-4a06-bc88-d2cc55161ea3"
   },
   "outputs": [],
   "source": [
    "# iterating over enumerated objects\n",
    "a = [10, 20, 30, 40]\n",
    "for i in enumerate(a):\n",
    "    print(i)"
   ]
  },
  {
   "cell_type": "code",
   "execution_count": null,
   "metadata": {
    "colab": {},
    "colab_type": "code",
    "id": "QEtPfVtqQbd1",
    "outputId": "1455d2f8-d65d-483d-cfaa-f86ac2651c2c"
   },
   "outputs": [],
   "source": [
    "b = \"hello\"\n",
    "for i in enumerate(b):\n",
    "    print(i)"
   ]
  },
  {
   "cell_type": "code",
   "execution_count": null,
   "metadata": {
    "colab": {},
    "colab_type": "code",
    "id": "u2SnRXYSQbd2",
    "outputId": "2121b105-25a6-4321-d264-2cfbaa5c00c5"
   },
   "outputs": [],
   "source": [
    "# iterating over dictionary\n",
    "c = {1: 'a', 2: 'b', 3: 'c'}\n",
    "for i in enumerate(c):\n",
    "    print(i)"
   ]
  },
  {
   "cell_type": "code",
   "execution_count": null,
   "metadata": {},
   "outputs": [],
   "source": [
    "for i in c.values():\n",
    "    print(i)"
   ]
  },
  {
   "cell_type": "code",
   "execution_count": null,
   "metadata": {},
   "outputs": [],
   "source": [
    "for i in c.keys():\n",
    "    print(i)"
   ]
  },
  {
   "cell_type": "code",
   "execution_count": null,
   "metadata": {},
   "outputs": [],
   "source": [
    "for i in c.items():\n",
    "    print(i)"
   ]
  },
  {
   "cell_type": "code",
   "execution_count": null,
   "metadata": {
    "colab": {},
    "colab_type": "code",
    "id": "gC5aUXRuQbd4",
    "outputId": "95e40063-be12-4794-db51-f8eea2235923"
   },
   "outputs": [],
   "source": [
    "# iterating over elements of list\n",
    "num_list = [1, 2, 3, 4, 5]\n",
    "for i in num_list:\n",
    "    print(i)"
   ]
  },
  {
   "cell_type": "code",
   "execution_count": null,
   "metadata": {
    "colab": {},
    "colab_type": "code",
    "id": "u11xh9SsQbd6"
   },
   "outputs": [],
   "source": [
    "# creating iterators\n",
    "itr = iter(num_list)"
   ]
  },
  {
   "cell_type": "code",
   "execution_count": null,
   "metadata": {
    "colab": {},
    "colab_type": "code",
    "id": "4fZ2dA3AQbd7",
    "outputId": "ef2162d7-ceee-4611-ee0a-ec2892f2ca51"
   },
   "outputs": [],
   "source": [
    "print(next(itr))"
   ]
  },
  {
   "cell_type": "code",
   "execution_count": null,
   "metadata": {
    "colab": {},
    "colab_type": "code",
    "id": "5pnlh8HRQbd8",
    "outputId": "5ff80c2c-5ec6-4f55-fcca-b7439f3a3f72"
   },
   "outputs": [],
   "source": [
    "print(next(itr))"
   ]
  },
  {
   "cell_type": "code",
   "execution_count": null,
   "metadata": {
    "colab": {},
    "colab_type": "code",
    "id": "LPZ9ZAntQbd9",
    "outputId": "f9b2559c-6f42-4f88-9eb5-2a4c91df11b3"
   },
   "outputs": [],
   "source": [
    "print(next(itr))"
   ]
  },
  {
   "cell_type": "code",
   "execution_count": null,
   "metadata": {
    "colab": {},
    "colab_type": "code",
    "id": "yX9pse0TQbd-",
    "outputId": "a698770a-6262-44f9-b892-cd775af0d161"
   },
   "outputs": [],
   "source": [
    "print(next(itr))"
   ]
  },
  {
   "cell_type": "code",
   "execution_count": null,
   "metadata": {
    "colab": {},
    "colab_type": "code",
    "id": "_torFhb_Qbd_",
    "outputId": "4eb150e9-2276-47ce-a705-d2a8a2a1ad8e"
   },
   "outputs": [],
   "source": [
    "print(next(itr))"
   ]
  },
  {
   "cell_type": "code",
   "execution_count": null,
   "metadata": {
    "colab": {},
    "colab_type": "code",
    "id": "frhZSHirQbeB",
    "outputId": "f074ec1f-beca-41a5-b7ff-470e7a1d4aa3"
   },
   "outputs": [],
   "source": [
    "print(next(itr))"
   ]
  },
  {
   "cell_type": "code",
   "execution_count": null,
   "metadata": {
    "colab": {},
    "colab_type": "code",
    "id": "vSuqHh-iQbeC"
   },
   "outputs": [],
   "source": [
    "# Do you understand the previous error?\n",
    "# and why would iterators be helpful in the first place?"
   ]
  },
  {
   "cell_type": "markdown",
   "metadata": {},
   "source": [
    "### Problem №3"
   ]
  },
  {
   "cell_type": "markdown",
   "metadata": {
    "colab_type": "text",
    "id": "zB4h6HLBQbeG"
   },
   "source": [
    "Sum all the items in a list.\n",
    "\n",
    "You have l = [0, 1, -1, 2, 3, 30, -100, 5]. How to find this sum?"
   ]
  },
  {
   "cell_type": "markdown",
   "metadata": {},
   "source": [
    "### Problem №4"
   ]
  },
  {
   "cell_type": "markdown",
   "metadata": {
    "colab_type": "text",
    "id": "mXQf0PUuQbeG"
   },
   "source": [
    "Write a Python program to check a list is empty or not.\n",
    "\n",
    "You have list1 = [3, 5, -7, 'mipt', 0.8] and list2 = []."
   ]
  },
  {
   "cell_type": "markdown",
   "metadata": {},
   "source": [
    "### Problem №5 "
   ]
  },
  {
   "cell_type": "markdown",
   "metadata": {
    "colab_type": "text",
    "id": "ss210ua7QbeG"
   },
   "source": [
    "Write a Python program to construct the following pattern using a nested for loop (so without `print()` calls as below)."
   ]
  },
  {
   "cell_type": "code",
   "execution_count": null,
   "metadata": {},
   "outputs": [],
   "source": [
    "print('*')  \n",
    "print('* *')  \n",
    "print('* * *')        \n",
    "print('* * * *')     \n",
    "print('* * * * *')     \n",
    "print('* * * *')     \n",
    "print('* * *')     \n",
    "print('* *')     \n",
    "print('*')  "
   ]
  },
  {
   "cell_type": "code",
   "execution_count": null,
   "metadata": {},
   "outputs": [],
   "source": []
  }
 ],
 "metadata": {
  "colab": {
   "collapsed_sections": [],
   "name": "python1_1_v2.ipynb",
   "provenance": [],
   "toc_visible": true
  },
  "kernelspec": {
   "display_name": "Python 3",
   "language": "python",
   "name": "python3"
  },
  "language_info": {
   "codemirror_mode": {
    "name": "ipython",
    "version": 3
   },
   "file_extension": ".py",
   "mimetype": "text/x-python",
   "name": "python",
   "nbconvert_exporter": "python",
   "pygments_lexer": "ipython3",
   "version": "3.8.5"
  }
 },
 "nbformat": 4,
 "nbformat_minor": 4
}
