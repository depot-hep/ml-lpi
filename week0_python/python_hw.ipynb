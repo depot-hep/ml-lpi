{
 "cells": [
  {
   "cell_type": "markdown",
   "metadata": {
    "colab_type": "text",
    "id": "5R-WDoguQHSx"
   },
   "source": [
    "#### **№0**\n",
    "\n",
    "Write a lambda function calculating for a given $n \\in \\mathbb{N}, n > 0$ its factorial $1 \\cdot 2 \\cdot 3 \\cdot \\ldots \\cdot n$\n",
    "\n",
    "_Example:_  \n",
    "`factorial(5)` $\\rightarrow$ `120`"
   ]
  },
  {
   "cell_type": "code",
   "execution_count": null,
   "metadata": {},
   "outputs": [],
   "source": []
  },
  {
   "cell_type": "markdown",
   "metadata": {
    "colab_type": "text",
    "id": "79JWYhIXQHTM"
   },
   "source": [
    "#### **№1**\n",
    "\n",
    "Write a function that finds all the [anagrams](https://en.wikipedia.org/wiki/Anagram) of a word from a list.   \n",
    "You are given two inputs: a word and an array with words. You should return an array of all the anagrams or an empty array if there are none\n",
    "\n",
    "_Example:_  \n",
    "`anagrams('abba', ['aabb', 'abcd', 'bbaa', 'dada'])` $\\rightarrow$ `['aabb', 'bbaa']`  \n",
    "`anagrams('racer', ['crazer', 'carer', 'racar', 'caers', 'racer'])` $\\rightarrow$ `['carer', 'racer']`  \n",
    "`anagrams('laser', ['lazing', 'lazy',  'lacer'])` $\\rightarrow$ `[]`"
   ]
  },
  {
   "cell_type": "code",
   "execution_count": null,
   "metadata": {
    "colab": {},
    "colab_type": "code",
    "id": "fKNJ7aUSQHSz"
   },
   "outputs": [],
   "source": []
  },
  {
   "cell_type": "markdown",
   "metadata": {
    "colab_type": "text",
    "id": "F2tKDev3QHS7"
   },
   "source": [
    "#### **№2**\n",
    "\n",
    "Write a function calculating [atan2](https://en.wikipedia.org/wiki/Atan2) in degrees using `numpy` \n",
    "\n",
    "_Example:_  \n",
    "`atan2(2, -2)` $\\rightarrow$ `135.0`"
   ]
  },
  {
   "cell_type": "code",
   "execution_count": null,
   "metadata": {
    "colab": {},
    "colab_type": "code",
    "id": "4KseY_YnQHS8"
   },
   "outputs": [],
   "source": []
  },
  {
   "cell_type": "markdown",
   "metadata": {
    "colab_type": "text",
    "id": "_IlhJwJwQHTH"
   },
   "source": [
    "#### **№3**\n",
    "\n",
    "Write a lambda function which merges given lists with numbers into a single one and finds its [median](https://en.wikipedia.org/wiki/Median), 0.25 and 0.75 [quantiles](https://en.wikipedia.org/wiki/Quantile)\n",
    "\n",
    "_Example:_   \n",
    "`median([1, 2],[2, 3, 4, 4, 50])` $\\rightarrow$ `(3.0, array([2., 4.]))`   \n",
    "`median([1, 2],[2, 3, 4, 4, 50], [-999, 0], [999])` $\\rightarrow$ `(2.5, array([1.25, 4.]))`"
   ]
  },
  {
   "cell_type": "code",
   "execution_count": null,
   "metadata": {
    "colab": {},
    "colab_type": "code",
    "id": "16UNoM7qQHTN"
   },
   "outputs": [],
   "source": []
  },
  {
   "cell_type": "markdown",
   "metadata": {
    "colab_type": "text",
    "id": "gAMc0cdwQHTi"
   },
   "source": [
    "#### **№4**\n",
    "\n",
    "Using `pd.DataFrame.apply()` method sort values in each row of a given dataframe\n",
    "\n",
    "_Example:_\n",
    "`x` $\\rightarrow$ `x_sorted` (as below)"
   ]
  },
  {
   "cell_type": "code",
   "execution_count": 1,
   "metadata": {},
   "outputs": [
    {
     "data": {
      "text/html": [
       "<div>\n",
       "<style scoped>\n",
       "    .dataframe tbody tr th:only-of-type {\n",
       "        vertical-align: middle;\n",
       "    }\n",
       "\n",
       "    .dataframe tbody tr th {\n",
       "        vertical-align: top;\n",
       "    }\n",
       "\n",
       "    .dataframe thead th {\n",
       "        text-align: right;\n",
       "    }\n",
       "</style>\n",
       "<table border=\"1\" class=\"dataframe\">\n",
       "  <thead>\n",
       "    <tr style=\"text-align: right;\">\n",
       "      <th></th>\n",
       "      <th>A</th>\n",
       "      <th>B</th>\n",
       "      <th>C</th>\n",
       "    </tr>\n",
       "  </thead>\n",
       "  <tbody>\n",
       "    <tr>\n",
       "      <th>0</th>\n",
       "      <td>2</td>\n",
       "      <td>6</td>\n",
       "      <td>9</td>\n",
       "    </tr>\n",
       "    <tr>\n",
       "      <th>1</th>\n",
       "      <td>3</td>\n",
       "      <td>3</td>\n",
       "      <td>2</td>\n",
       "    </tr>\n",
       "    <tr>\n",
       "      <th>2</th>\n",
       "      <td>4</td>\n",
       "      <td>2</td>\n",
       "      <td>18</td>\n",
       "    </tr>\n",
       "  </tbody>\n",
       "</table>\n",
       "</div>"
      ],
      "text/plain": [
       "   A  B   C\n",
       "0  2  6   9\n",
       "1  3  3   2\n",
       "2  4  2  18"
      ]
     },
     "execution_count": 1,
     "metadata": {},
     "output_type": "execute_result"
    }
   ],
   "source": [
    "import pandas as pd\n",
    "x = pd.DataFrame({'A': [2, 3, 4], 'B': [6, 3, 2], 'C': [9, 2, 18]})\n",
    "x"
   ]
  },
  {
   "cell_type": "code",
   "execution_count": 2,
   "metadata": {},
   "outputs": [
    {
     "data": {
      "text/html": [
       "<div>\n",
       "<style scoped>\n",
       "    .dataframe tbody tr th:only-of-type {\n",
       "        vertical-align: middle;\n",
       "    }\n",
       "\n",
       "    .dataframe tbody tr th {\n",
       "        vertical-align: top;\n",
       "    }\n",
       "\n",
       "    .dataframe thead th {\n",
       "        text-align: right;\n",
       "    }\n",
       "</style>\n",
       "<table border=\"1\" class=\"dataframe\">\n",
       "  <thead>\n",
       "    <tr style=\"text-align: right;\">\n",
       "      <th></th>\n",
       "      <th>A</th>\n",
       "      <th>B</th>\n",
       "      <th>C</th>\n",
       "    </tr>\n",
       "  </thead>\n",
       "  <tbody>\n",
       "    <tr>\n",
       "      <th>0</th>\n",
       "      <td>2</td>\n",
       "      <td>6</td>\n",
       "      <td>9</td>\n",
       "    </tr>\n",
       "    <tr>\n",
       "      <th>1</th>\n",
       "      <td>2</td>\n",
       "      <td>3</td>\n",
       "      <td>3</td>\n",
       "    </tr>\n",
       "    <tr>\n",
       "      <th>2</th>\n",
       "      <td>2</td>\n",
       "      <td>4</td>\n",
       "      <td>18</td>\n",
       "    </tr>\n",
       "  </tbody>\n",
       "</table>\n",
       "</div>"
      ],
      "text/plain": [
       "   A  B   C\n",
       "0  2  6   9\n",
       "1  2  3   3\n",
       "2  2  4  18"
      ]
     },
     "execution_count": 2,
     "metadata": {},
     "output_type": "execute_result"
    }
   ],
   "source": [
    "x_sorted = pd.DataFrame({'A': [2, 2, 2], 'B': [6, 3, 4], 'C': [9, 3, 18]})\n",
    "x_sorted"
   ]
  },
  {
   "cell_type": "markdown",
   "metadata": {
    "colab_type": "text",
    "id": "mC2hF8nxQHTd"
   },
   "source": [
    "#### **№5**\n",
    "\n",
    "0) Read Titanic dataset from `data/titanic.csv` file into a pandas dataframe  \n",
    "\n",
    "1) Calculate mean age of survived men embarked in Southampton with fare > 30\n",
    "\n",
    "2) Compute the number of families with more than k members. A family is a group with the same last name, the last name is defined as the words in the Name field up to the first comma\n",
    "\n",
    "3) Compute a death rate of passengers with lucky tickets (a lucky ticket has ID with even number of digits and the sum of digits in the first half of the ticket ID is equal to the sum in the second half)"
   ]
  },
  {
   "cell_type": "code",
   "execution_count": null,
   "metadata": {
    "colab": {},
    "colab_type": "code",
    "id": "ZIt-SrOlQHTe"
   },
   "outputs": [],
   "source": []
  },
  {
   "cell_type": "markdown",
   "metadata": {},
   "source": [
    "#### **№6** \n",
    "\n",
    "Load the dataset from `data/XYZ.csv`, sample 3000 objects from it (fix `random_state=123`) and using `seaborn` reproduce for this dataset the plot:\n",
    "\n",
    "<center>\n",
    "<img src=\"images/xyz_pairplot.png\">\n",
    "</center>"
   ]
  },
  {
   "cell_type": "code",
   "execution_count": null,
   "metadata": {},
   "outputs": [],
   "source": [
    "# how do you think this data was generated?"
   ]
  },
  {
   "cell_type": "markdown",
   "metadata": {
    "colab_type": "text",
    "id": "T0ed62lPQHTp"
   },
   "source": [
    "#### **№7**\n",
    "\n",
    "Fit and visualize the data in `data/fit_df.csv` using:   \n",
    "1) `np.polyfit`   \n",
    "2) `scipy.optimize.curve_fit` (choose a function which you think is the most suitable, except for a polynomial one)"
   ]
  },
  {
   "cell_type": "code",
   "execution_count": null,
   "metadata": {},
   "outputs": [],
   "source": []
  }
 ],
 "metadata": {
  "colab": {
   "name": "hw_python_without_solutions.ipynb",
   "provenance": []
  },
  "kernelspec": {
   "display_name": "Python 3",
   "language": "python",
   "name": "python3"
  },
  "language_info": {
   "codemirror_mode": {
    "name": "ipython",
    "version": 3
   },
   "file_extension": ".py",
   "mimetype": "text/x-python",
   "name": "python",
   "nbconvert_exporter": "python",
   "pygments_lexer": "ipython3",
   "version": "3.8.5"
  }
 },
 "nbformat": 4,
 "nbformat_minor": 4
}
